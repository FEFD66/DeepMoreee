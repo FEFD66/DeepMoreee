{
 "cells": [
  {
   "cell_type": "code",
   "execution_count": 3,
   "outputs": [],
   "source": [
    "import argparse\n",
    "import datetime\n",
    "import time\n",
    "import numpy as np\n",
    "import torch.nn\n",
    "from more.datasets import load_more_data, load_data_mnist\n",
    "from more.network import ARPLNet, init_weights, MoreNet\n",
    "import more.train as T\n",
    "from more.ARPLoss import ARPLoss\n",
    "import os\n",
    "\n",
    "os.environ[\"KMP_DUPLICATE_LIB_OK\"] = \"TRUE\""
   ],
   "metadata": {
    "collapsed": false,
    "pycharm": {
     "name": "#%%\n"
    }
   }
  },
  {
   "cell_type": "code",
   "execution_count": 7,
   "outputs": [
    {
     "name": "stdout",
     "output_type": "stream",
     "text": [
      "Using GPU\n"
     ]
    }
   ],
   "source": [
    "options: dict = {\n",
    "    'save_dir': 'E:/more',\n",
    "    'data_dir': 'E:',\n",
    "    'max_epoch': 200,\n",
    "    'batch_size': 128,\n",
    "    'eval_freq': 1,\n",
    "    'print_freq': 50,\n",
    "    'cpu': False,\n",
    "    'lr': 0.01,\n",
    "    'name': \"osr24507\"\n",
    "}\n",
    "known = [3, 5, 6, 1, 8]\n",
    "unknown = list(set(list(range(1, 9))) - set(known))\n",
    "use_gpu = torch.cuda.is_available()\n",
    "if options['cpu']:\n",
    "    use = False\n",
    "\n",
    "if use_gpu:\n",
    "    print(\"Using GPU\")\n",
    "else:\n",
    "    print(\"Using CPU\")\n",
    "options.update({\n",
    "    'use_gpu': use_gpu\n",
    "})"
   ],
   "metadata": {
    "collapsed": false,
    "pycharm": {
     "name": "#%%\n"
    }
   }
  },
  {
   "cell_type": "code",
   "execution_count": 9,
   "outputs": [],
   "source": [
    "from more.datasets import load_osr_data\n",
    "\n",
    "train_loader, test_loader, outloader = load_osr_data(options['data_dir'], known=known, unknown=unknown,\n",
    "                                                     batch_size=options['batch_size'])\n",
    "options['classes_legends'] = train_loader.dataset.get_labels_name()\n",
    "options['num_classes'] = len(known)"
   ],
   "metadata": {
    "collapsed": false,
    "pycharm": {
     "name": "#%%\n"
    }
   }
  },
  {
   "cell_type": "code",
   "execution_count": 11,
   "outputs": [
    {
     "data": {
      "text/plain": "<All keys matched successfully>"
     },
     "execution_count": 11,
     "metadata": {},
     "output_type": "execute_result"
    }
   ],
   "source": [
    "feat_dim = 2\n",
    "net = ARPLNet(feat_dim, options['num_classes'])\n",
    "options['feat_dim'] = feat_dim\n",
    "options['loss'] = \"ARPLoss\"\n",
    "criterion = ARPLoss(**options)\n",
    "\n",
    "if use_gpu:\n",
    "    net = torch.nn.DataParallel(net).cuda()\n",
    "    criterion = criterion.cuda()\n",
    "\n",
    "net.load_state_dict(torch.load(options[\"save_dir\"] + \"/parm/net-\" + options['name'] + \".parm\"))\n",
    "criterion.load_state_dict(torch.load(options[\"save_dir\"] + \"/parm/crit-\" + options['name'] + \".parm\"))"
   ],
   "metadata": {
    "collapsed": false,
    "pycharm": {
     "name": "#%%\n"
    }
   }
  },
  {
   "cell_type": "code",
   "execution_count": 13,
   "outputs": [],
   "source": [
    "import h5py\n",
    "from torchvision.transforms import ToTensor\n",
    "from torch.utils.data.dataset import Dataset\n",
    "\n",
    "path = r\"E:\\test-large.h5\"\n",
    "h5 = h5py.File(path)\n",
    "g_label = h5['sampleType'][:]\n",
    "g_data = h5['sampleData'][:, :, :]\n",
    "h5.close()\n",
    "toTensor = ToTensor()\n",
    "\n",
    "\n",
    "def filter(type=None, snr=None) -> np.ndarray:\n",
    "    full = (g_label[0, :] != None)\n",
    "    if (type != None):\n",
    "        full = full & (g_label[0, :] == type)\n",
    "    if (snr != None):\n",
    "        full = full & (g_label[1, :] == snr)\n",
    "    # 将TrueFalse数组转换为索引\n",
    "    ids = np.argwhere(full).reshape(-1)\n",
    "    return ids\n",
    "\n",
    "\n",
    "def getData(type, snr):\n",
    "    ids = filter(type, snr).tolist()\n",
    "    length = len(ids)\n",
    "    return g_data[:, :, ids], g_label[0, ids].reshape(1, -1)\n",
    "\n",
    "\n",
    "class TypeSet(Dataset):\n",
    "    def __init__(self, type, snr):\n",
    "        self.img, self.label = getData(type, snr)\n",
    "        _, self.length = self.label.shape\n",
    "\n",
    "    def __getitem__(self, idx):\n",
    "        return toTensor(self.img[:, :, idx]).float(), torch.tensor(self.label[0, idx] - 1, dtype=torch.int)\n",
    "\n",
    "    def __len__(self):\n",
    "        return self.length\n",
    "\n",
    "\n",
    "def getLoader(type, snr):\n",
    "    set = TypeSet(type, snr)\n",
    "    #print(set.__len__())\n",
    "    return torch.utils.data.DataLoader(\n",
    "        dataset=set, batch_size=set.__len__(), shuffle=False,\n",
    "        num_workers=0, drop_last=False)"
   ],
   "metadata": {
    "collapsed": false,
    "pycharm": {
     "name": "#%%\n"
    }
   }
  },
  {
   "cell_type": "code",
   "execution_count": 20,
   "outputs": [],
   "source": [
    "x = getLoader(2, 10)"
   ],
   "metadata": {
    "collapsed": false,
    "pycharm": {
     "name": "#%%\n"
    }
   }
  },
  {
   "cell_type": "code",
   "execution_count": 21,
   "outputs": [
    {
     "name": "stderr",
     "output_type": "stream",
     "text": [
      "C:\\Users\\ZGYwi\\AppData\\Local\\Temp\\ipykernel_14688\\1895323469.py:36: DeprecationWarning: an integer is required (got type numpy.float64).  Implicit conversion to integers using __int__ is deprecated, and may be removed in a future version of Python.\n",
      "  return toTensor(self.img[:, :, idx]).float(), torch.tensor(self.label[0, idx] - 1, dtype=torch.int)\n"
     ]
    },
    {
     "data": {
      "text/plain": "(torch.Size([125, 1, 195, 64]), torch.Size([125]))"
     },
     "execution_count": 21,
     "metadata": {},
     "output_type": "execute_result"
    }
   ],
   "source": [
    "img, label = next(iter(x))\n",
    "img.shape, label.shape"
   ],
   "metadata": {
    "collapsed": false,
    "pycharm": {
     "name": "#%%\n"
    }
   }
  },
  {
   "cell_type": "code",
   "execution_count": 23,
   "outputs": [
    {
     "data": {
      "text/plain": "tensor([3, 3, 3, 3, 3, 4, 3, 3, 3, 4, 3, 3, 3, 3, 3, 3, 3, 3, 3, 3, 3, 3, 3, 3,\n        3, 3, 3, 3, 3, 3, 3, 3, 3, 4, 3, 4, 4, 4, 3, 4, 3, 3, 4, 2, 3, 3, 3, 3,\n        3, 3, 3, 3, 3, 3, 3, 3, 3, 3, 3, 4, 3, 3, 3, 4, 3, 3, 3, 3, 3, 3, 3, 3,\n        3, 4, 3, 3, 3, 3, 3, 4, 3, 3, 3, 3, 3, 3, 4, 4, 3, 3, 3, 3, 3, 3, 3, 3,\n        3, 3, 3, 3, 3, 3, 3, 3, 3, 3, 3, 3, 3, 3, 3, 3, 3, 3, 3, 3, 4, 3, 3, 3,\n        3, 3, 3, 3, 3], device='cuda:0')"
     },
     "execution_count": 23,
     "metadata": {},
     "output_type": "execute_result"
    }
   ],
   "source": [
    "x, y = net(img, True)\n",
    "logits, _ = criterion(x, y)\n",
    "predictions = logits.data.max(1)[1]"
   ],
   "metadata": {
    "collapsed": false,
    "pycharm": {
     "name": "#%%\n"
    }
   }
  },
  {
   "cell_type": "code",
   "execution_count": 26,
   "outputs": [],
   "source": [
    "glabels = ['singlepulse', 'freqdiv', 'LFM', 'QFM', '2FSK', '4FSK', 'BPSK', 'QPSK']"
   ],
   "metadata": {
    "collapsed": false,
    "pycharm": {
     "name": "#%%\n"
    }
   }
  },
  {
   "cell_type": "code",
   "execution_count": 28,
   "outputs": [
    {
     "data": {
      "text/plain": "'singlepulse'"
     },
     "execution_count": 28,
     "metadata": {},
     "output_type": "execute_result"
    }
   ],
   "source": [
    "glabels[known[3] - 1]"
   ],
   "metadata": {
    "collapsed": false,
    "pycharm": {
     "name": "#%%\n"
    }
   }
  },
  {
   "cell_type": "code",
   "execution_count": null,
   "outputs": [],
   "source": [],
   "metadata": {
    "collapsed": false,
    "pycharm": {
     "name": "#%%\n"
    }
   }
  }
 ],
 "metadata": {
  "kernelspec": {
   "display_name": "Python 3",
   "language": "python",
   "name": "python3"
  },
  "language_info": {
   "codemirror_mode": {
    "name": "ipython",
    "version": 2
   },
   "file_extension": ".py",
   "mimetype": "text/x-python",
   "name": "python",
   "nbconvert_exporter": "python",
   "pygments_lexer": "ipython2",
   "version": "2.7.6"
  }
 },
 "nbformat": 4,
 "nbformat_minor": 0
}