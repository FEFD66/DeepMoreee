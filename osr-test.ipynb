{
 "cells": [
  {
   "cell_type": "code",
   "execution_count": 1,
   "outputs": [],
   "source": [
    "import argparse\n",
    "import datetime\n",
    "import time\n",
    "\n",
    "import torch.nn\n",
    "from more.datasets import load_more_data, load_data_mnist\n",
    "from more.network import ARPLNet, init_weights, MoreNet\n",
    "import more.train as T\n",
    "from more.ARPLoss import ARPLoss\n",
    "import os\n",
    "\n",
    "os.environ[\"KMP_DUPLICATE_LIB_OK\"] = \"TRUE\""
   ],
   "metadata": {
    "collapsed": false,
    "pycharm": {
     "name": "#%%\n"
    }
   }
  },
  {
   "cell_type": "code",
   "execution_count": 5,
   "outputs": [
    {
     "name": "stdout",
     "output_type": "stream",
     "text": [
      "Using GPU\n"
     ]
    }
   ],
   "source": [
    "options: dict = {\n",
    "    'save_dir': 'E:/more',\n",
    "    'data_dir': 'E:',\n",
    "    'max_epoch': 200,\n",
    "    'batch_size': 128,\n",
    "    'eval_freq': 1,\n",
    "    'print_freq': 50,\n",
    "    'cpu': False,\n",
    "    'lr': 0.01\n",
    "}\n",
    "use_gpu = torch.cuda.is_available()\n",
    "if options['cpu']:\n",
    "    use = False\n",
    "\n",
    "if use_gpu:\n",
    "    print(\"Using GPU\")\n",
    "else:\n",
    "    print(\"Using CPU\")\n",
    "options.update({\n",
    "    'use_gpu': use_gpu\n",
    "})"
   ],
   "metadata": {
    "collapsed": false,
    "pycharm": {
     "name": "#%%\n"
    }
   }
  },
  {
   "cell_type": "code",
   "execution_count": 6,
   "outputs": [],
   "source": [
    "train_loader, test_loader = load_more_data(options['data_dir'], options['batch_size'])\n",
    "options['classes_legends'] = train_loader.dataset.get_labels_name()\n",
    "options['num_classes'] = len(options['classes_legends'])"
   ],
   "metadata": {
    "collapsed": false,
    "pycharm": {
     "name": "#%%\n"
    }
   }
  },
  {
   "cell_type": "code",
   "execution_count": null,
   "outputs": [],
   "source": [
    "net = ARPLNet(2, 8)\n",
    "options['feat_dim'] = 2\n",
    "criterion = ARPLoss(**options)"
   ],
   "metadata": {
    "collapsed": false,
    "pycharm": {
     "name": "#%%\n"
    }
   }
  }
 ],
 "metadata": {
  "kernelspec": {
   "display_name": "Python 3",
   "language": "python",
   "name": "python3"
  },
  "language_info": {
   "codemirror_mode": {
    "name": "ipython",
    "version": 2
   },
   "file_extension": ".py",
   "mimetype": "text/x-python",
   "name": "python",
   "nbconvert_exporter": "python",
   "pygments_lexer": "ipython2",
   "version": "2.7.6"
  }
 },
 "nbformat": 4,
 "nbformat_minor": 0
}