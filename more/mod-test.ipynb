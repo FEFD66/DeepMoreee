{
 "cells": [
  {
   "cell_type": "code",
   "execution_count": 1,
   "metadata": {
    "collapsed": false,
    "pycharm": {
     "name": "#%%\n"
    }
   },
   "outputs": [],
   "source": [
    "import h5py\n",
    "import numpy as np\n",
    "import torch\n",
    "import torch.utils.data\n",
    "from torch import nn\n",
    "from torch.utils.data import Dataset\n",
    "from torchvision.transforms import ToTensor\n",
    "from matplotlib import pyplot as plt"
   ]
  },
  {
   "cell_type": "code",
   "execution_count": 9,
   "metadata": {
    "collapsed": false,
    "pycharm": {
     "name": "#%%\n"
    }
   },
   "outputs": [],
   "source": [
    "class ModulationDataSets(Dataset):\n",
    "    def __init__(self, file):\n",
    "        self.h5 = h5py.File(file, \"r\")\n",
    "        self.label_id = self.h5['sampleType']\n",
    "        _, self.length = self.label_id.shape\n",
    "        self.img = self.h5['sampleData']\n",
    "        self.toTensor = ToTensor()\n",
    "\n",
    "    def __getitem__(self, idx):\n",
    "        return self.toTensor(self.img[:, :, idx]).float(), torch.tensor(int(self.label_id[0, idx] - 1),\n",
    "                                                                        dtype=torch.long), torch.tensor(\n",
    "            int(self.label_id[1, idx]), dtype=torch.long)\n",
    "\n",
    "    def __len__(self):\n",
    "        return self.length\n",
    "\n",
    "    def __exit__(self, exc_type, exc_val, exc_tb):\n",
    "        self.h5.close()"
   ]
  },
  {
   "cell_type": "code",
   "execution_count": null,
   "metadata": {
    "collapsed": false,
    "pycharm": {
     "is_executing": true,
     "name": "#%%\n"
    }
   },
   "outputs": [],
   "source": [
    "torch.load(\"basic-8.parm\")"
   ]
  },
  {
   "cell_type": "code",
   "execution_count": 2,
   "metadata": {
    "collapsed": false,
    "pycharm": {
     "name": "#%%\n"
    }
   },
   "outputs": [
    {
     "data": {
      "text/plain": "Sequential(\n  (0): Conv2d(1, 10, kernel_size=(5, 5), stride=(1, 1))\n  (1): MaxPool2d(kernel_size=2, stride=2, padding=0, dilation=1, ceil_mode=False)\n  (2): ReLU()\n  (3): Conv2d(10, 20, kernel_size=(5, 5), stride=(1, 1))\n  (4): Dropout2d(p=0.2, inplace=False)\n  (5): MaxPool2d(kernel_size=2, stride=2, padding=0, dilation=1, ceil_mode=False)\n  (6): ReLU()\n  (7): Flatten(start_dim=1, end_dim=-1)\n  (8): Linear(in_features=11960, out_features=4096, bias=True)\n  (9): ReLU()\n  (10): Linear(in_features=4096, out_features=50, bias=True)\n  (11): ReLU()\n  (12): Dropout(p=0, inplace=False)\n  (13): Linear(in_features=50, out_features=8, bias=True)\n  (14): Softmax(dim=None)\n)"
     },
     "execution_count": 2,
     "metadata": {},
     "output_type": "execute_result"
    }
   ],
   "source": [
    "net = nn.Sequential(\n",
    "    nn.Conv2d(1, 10, kernel_size=5), nn.MaxPool2d(2), nn.ReLU(),\n",
    "    nn.Conv2d(10, 20, kernel_size=5), nn.Dropout2d(0.2), nn.MaxPool2d(2), nn.ReLU(),\n",
    "    nn.Flatten(),\n",
    "    nn.Linear(11960, 4096), nn.ReLU(),\n",
    "    nn.Linear(4096, 50), nn.ReLU(),\n",
    "    nn.Dropout(0),\n",
    "    nn.Linear(50, 8),\n",
    "    nn.Softmax()\n",
    ")\n",
    "net.load_state_dict(torch.load(\"basic-8.parm\"))\n",
    "net.eval()"
   ]
  },
  {
   "cell_type": "code",
   "execution_count": 8,
   "outputs": [
    {
     "data": {
      "text/plain": "MoreNet(\n  (conv): Sequential(\n    (0): Conv2d(1, 10, kernel_size=(5, 5), stride=(1, 1))\n    (1): MaxPool2d(kernel_size=2, stride=2, padding=0, dilation=1, ceil_mode=False)\n    (2): ReLU()\n    (3): Conv2d(10, 20, kernel_size=(5, 5), stride=(1, 1))\n    (4): Dropout2d(p=0.2, inplace=False)\n    (5): MaxPool2d(kernel_size=2, stride=2, padding=0, dilation=1, ceil_mode=False)\n    (6): ReLU()\n    (7): Flatten(start_dim=1, end_dim=-1)\n    (8): Linear(in_features=11700, out_features=4096, bias=True)\n    (9): ReLU()\n    (10): Linear(in_features=4096, out_features=2, bias=True)\n  )\n  (fc8): Linear(in_features=2, out_features=8, bias=True)\n)"
     },
     "execution_count": 8,
     "metadata": {},
     "output_type": "execute_result"
    }
   ],
   "source": [
    "import more.network\n",
    "\n",
    "net =more.network.MoreNet()\n",
    "net.load_state_dict(torch.load(\"E:/more/pic/close-1/net-close-1.parm\"))\n",
    "net.eval()"
   ],
   "metadata": {
    "collapsed": false,
    "pycharm": {
     "name": "#%%\n"
    }
   }
  },
  {
   "cell_type": "code",
   "execution_count": 16,
   "metadata": {
    "collapsed": false,
    "pycharm": {
     "name": "#%%\n"
    }
   },
   "outputs": [
    {
     "ename": "RuntimeError",
     "evalue": "Input type (torch.FloatTensor) and weight type (torch.cuda.FloatTensor) should be the same or input should be a MKLDNN tensor and weight is a dense tensor",
     "output_type": "error",
     "traceback": [
      "\u001B[1;31m---------------------------------------------------------------------------\u001B[0m",
      "\u001B[1;31mRuntimeError\u001B[0m                              Traceback (most recent call last)",
      "Input \u001B[1;32mIn [16]\u001B[0m, in \u001B[0;36m<module>\u001B[1;34m\u001B[0m\n\u001B[0;32m      1\u001B[0m X \u001B[38;5;241m=\u001B[39m torch\u001B[38;5;241m.\u001B[39mrand(size\u001B[38;5;241m=\u001B[39m(\u001B[38;5;241m1\u001B[39m, \u001B[38;5;241m1\u001B[39m, \u001B[38;5;241m196\u001B[39m, \u001B[38;5;241m64\u001B[39m), dtype\u001B[38;5;241m=\u001B[39mtorch\u001B[38;5;241m.\u001B[39mfloat32)\n\u001B[0;32m      2\u001B[0m \u001B[38;5;28;01mfor\u001B[39;00m layer \u001B[38;5;129;01min\u001B[39;00m net:\n\u001B[1;32m----> 3\u001B[0m     X \u001B[38;5;241m=\u001B[39m \u001B[43mlayer\u001B[49m\u001B[43m(\u001B[49m\u001B[43mX\u001B[49m\u001B[43m)\u001B[49m\n\u001B[0;32m      4\u001B[0m     \u001B[38;5;28mprint\u001B[39m(layer\u001B[38;5;241m.\u001B[39m\u001B[38;5;18m__class__\u001B[39m\u001B[38;5;241m.\u001B[39m\u001B[38;5;18m__name__\u001B[39m, \u001B[38;5;124m\"\u001B[39m\u001B[38;5;124moutput shape: \u001B[39m\u001B[38;5;130;01m\\t\u001B[39;00m\u001B[38;5;124m\"\u001B[39m, X\u001B[38;5;241m.\u001B[39mshape)\n",
      "File \u001B[1;32mE:\\App\\Miniconda3\\envs\\torch-cuda\\lib\\site-packages\\torch\\nn\\modules\\module.py:1102\u001B[0m, in \u001B[0;36mModule._call_impl\u001B[1;34m(self, *input, **kwargs)\u001B[0m\n\u001B[0;32m   1098\u001B[0m \u001B[38;5;66;03m# If we don't have any hooks, we want to skip the rest of the logic in\u001B[39;00m\n\u001B[0;32m   1099\u001B[0m \u001B[38;5;66;03m# this function, and just call forward.\u001B[39;00m\n\u001B[0;32m   1100\u001B[0m \u001B[38;5;28;01mif\u001B[39;00m \u001B[38;5;129;01mnot\u001B[39;00m (\u001B[38;5;28mself\u001B[39m\u001B[38;5;241m.\u001B[39m_backward_hooks \u001B[38;5;129;01mor\u001B[39;00m \u001B[38;5;28mself\u001B[39m\u001B[38;5;241m.\u001B[39m_forward_hooks \u001B[38;5;129;01mor\u001B[39;00m \u001B[38;5;28mself\u001B[39m\u001B[38;5;241m.\u001B[39m_forward_pre_hooks \u001B[38;5;129;01mor\u001B[39;00m _global_backward_hooks\n\u001B[0;32m   1101\u001B[0m         \u001B[38;5;129;01mor\u001B[39;00m _global_forward_hooks \u001B[38;5;129;01mor\u001B[39;00m _global_forward_pre_hooks):\n\u001B[1;32m-> 1102\u001B[0m     \u001B[38;5;28;01mreturn\u001B[39;00m forward_call(\u001B[38;5;241m*\u001B[39m\u001B[38;5;28minput\u001B[39m, \u001B[38;5;241m*\u001B[39m\u001B[38;5;241m*\u001B[39mkwargs)\n\u001B[0;32m   1103\u001B[0m \u001B[38;5;66;03m# Do not call functions when jit is used\u001B[39;00m\n\u001B[0;32m   1104\u001B[0m full_backward_hooks, non_full_backward_hooks \u001B[38;5;241m=\u001B[39m [], []\n",
      "File \u001B[1;32mE:\\App\\Miniconda3\\envs\\torch-cuda\\lib\\site-packages\\torch\\nn\\modules\\conv.py:446\u001B[0m, in \u001B[0;36mConv2d.forward\u001B[1;34m(self, input)\u001B[0m\n\u001B[0;32m    445\u001B[0m \u001B[38;5;28;01mdef\u001B[39;00m \u001B[38;5;21mforward\u001B[39m(\u001B[38;5;28mself\u001B[39m, \u001B[38;5;28minput\u001B[39m: Tensor) \u001B[38;5;241m-\u001B[39m\u001B[38;5;241m>\u001B[39m Tensor:\n\u001B[1;32m--> 446\u001B[0m     \u001B[38;5;28;01mreturn\u001B[39;00m \u001B[38;5;28;43mself\u001B[39;49m\u001B[38;5;241;43m.\u001B[39;49m\u001B[43m_conv_forward\u001B[49m\u001B[43m(\u001B[49m\u001B[38;5;28;43minput\u001B[39;49m\u001B[43m,\u001B[49m\u001B[43m \u001B[49m\u001B[38;5;28;43mself\u001B[39;49m\u001B[38;5;241;43m.\u001B[39;49m\u001B[43mweight\u001B[49m\u001B[43m,\u001B[49m\u001B[43m \u001B[49m\u001B[38;5;28;43mself\u001B[39;49m\u001B[38;5;241;43m.\u001B[39;49m\u001B[43mbias\u001B[49m\u001B[43m)\u001B[49m\n",
      "File \u001B[1;32mE:\\App\\Miniconda3\\envs\\torch-cuda\\lib\\site-packages\\torch\\nn\\modules\\conv.py:442\u001B[0m, in \u001B[0;36mConv2d._conv_forward\u001B[1;34m(self, input, weight, bias)\u001B[0m\n\u001B[0;32m    438\u001B[0m \u001B[38;5;28;01mif\u001B[39;00m \u001B[38;5;28mself\u001B[39m\u001B[38;5;241m.\u001B[39mpadding_mode \u001B[38;5;241m!=\u001B[39m \u001B[38;5;124m'\u001B[39m\u001B[38;5;124mzeros\u001B[39m\u001B[38;5;124m'\u001B[39m:\n\u001B[0;32m    439\u001B[0m     \u001B[38;5;28;01mreturn\u001B[39;00m F\u001B[38;5;241m.\u001B[39mconv2d(F\u001B[38;5;241m.\u001B[39mpad(\u001B[38;5;28minput\u001B[39m, \u001B[38;5;28mself\u001B[39m\u001B[38;5;241m.\u001B[39m_reversed_padding_repeated_twice, mode\u001B[38;5;241m=\u001B[39m\u001B[38;5;28mself\u001B[39m\u001B[38;5;241m.\u001B[39mpadding_mode),\n\u001B[0;32m    440\u001B[0m                     weight, bias, \u001B[38;5;28mself\u001B[39m\u001B[38;5;241m.\u001B[39mstride,\n\u001B[0;32m    441\u001B[0m                     _pair(\u001B[38;5;241m0\u001B[39m), \u001B[38;5;28mself\u001B[39m\u001B[38;5;241m.\u001B[39mdilation, \u001B[38;5;28mself\u001B[39m\u001B[38;5;241m.\u001B[39mgroups)\n\u001B[1;32m--> 442\u001B[0m \u001B[38;5;28;01mreturn\u001B[39;00m \u001B[43mF\u001B[49m\u001B[38;5;241;43m.\u001B[39;49m\u001B[43mconv2d\u001B[49m\u001B[43m(\u001B[49m\u001B[38;5;28;43minput\u001B[39;49m\u001B[43m,\u001B[49m\u001B[43m \u001B[49m\u001B[43mweight\u001B[49m\u001B[43m,\u001B[49m\u001B[43m \u001B[49m\u001B[43mbias\u001B[49m\u001B[43m,\u001B[49m\u001B[43m \u001B[49m\u001B[38;5;28;43mself\u001B[39;49m\u001B[38;5;241;43m.\u001B[39;49m\u001B[43mstride\u001B[49m\u001B[43m,\u001B[49m\n\u001B[0;32m    443\u001B[0m \u001B[43m                \u001B[49m\u001B[38;5;28;43mself\u001B[39;49m\u001B[38;5;241;43m.\u001B[39;49m\u001B[43mpadding\u001B[49m\u001B[43m,\u001B[49m\u001B[43m \u001B[49m\u001B[38;5;28;43mself\u001B[39;49m\u001B[38;5;241;43m.\u001B[39;49m\u001B[43mdilation\u001B[49m\u001B[43m,\u001B[49m\u001B[43m \u001B[49m\u001B[38;5;28;43mself\u001B[39;49m\u001B[38;5;241;43m.\u001B[39;49m\u001B[43mgroups\u001B[49m\u001B[43m)\u001B[49m\n",
      "\u001B[1;31mRuntimeError\u001B[0m: Input type (torch.FloatTensor) and weight type (torch.cuda.FloatTensor) should be the same or input should be a MKLDNN tensor and weight is a dense tensor"
     ]
    }
   ],
   "source": [
    "X = torch.rand(size=(1, 1, 196, 64), dtype=torch.float32)\n",
    "for layer in net:\n",
    "    X = layer(X)\n",
    "    print(layer.__class__.__name__, \"output shape: \\t\", X.shape)"
   ]
  },
  {
   "cell_type": "code",
   "execution_count": 17,
   "metadata": {
    "collapsed": false,
    "pycharm": {
     "name": "#%%\n"
    }
   },
   "outputs": [],
   "source": [
    "train_path = r'E:\\train.h5'\n",
    "test_path = r'E:\\test.h5'\n",
    "train_dataset = ModulationDataSets(train_path)\n",
    "test_dataset = ModulationDataSets(test_path)\n",
    "batch_size = 100\n",
    "train_loader = torch.utils.data.DataLoader(\n",
    "    dataset=train_dataset, batch_size=batch_size, shuffle=True,\n",
    "    num_workers=0, drop_last=False)\n",
    "test_loader = torch.utils.data.DataLoader(\n",
    "    dataset=test_dataset, batch_size=batch_size,\n",
    "    shuffle=False, num_workers=0, drop_last=False)"
   ]
  },
  {
   "cell_type": "markdown",
   "metadata": {
    "collapsed": false,
    "pycharm": {
     "name": "#%% md\n"
    }
   },
   "source": [
    "## 提取单独类型"
   ]
  },
  {
   "cell_type": "code",
   "execution_count": 10,
   "metadata": {
    "collapsed": false,
    "pycharm": {
     "name": "#%%\n"
    }
   },
   "outputs": [],
   "source": [
    "name = ['singlepulse', 'freqdiv', 'LFM', 'QFM', '2FSK', '4FSK', 'BPSK', 'QPSK']"
   ]
  },
  {
   "cell_type": "code",
   "execution_count": 12,
   "metadata": {
    "collapsed": false,
    "pycharm": {
     "name": "#%%\n"
    }
   },
   "outputs": [],
   "source": [
    "path = r\"E:\\test-large.h5\"\n",
    "h5 = h5py.File(path)\n",
    "g_label = h5['sampleType'][:]\n",
    "g_data = h5['sampleData'][:, :, :]\n",
    "h5.close()\n",
    "toTensor = ToTensor()"
   ]
  },
  {
   "cell_type": "code",
   "execution_count": 13,
   "outputs": [],
   "source": [
    "def filter(type=None, snr=None) -> np.ndarray:\n",
    "    full = (g_label[0, :] != None)\n",
    "    if (type != None):\n",
    "        full = full & (g_label[0, :] == type)\n",
    "    if (snr != None):\n",
    "        full = full & (g_label[1, :] == snr)\n",
    "    # 将TrueFalse数组转换为索引\n",
    "    ids = np.argwhere(full).reshape(-1)\n",
    "    return ids\n",
    "\n",
    "\n",
    "def getData(type, snr):\n",
    "    ids = filter(type, snr).tolist()\n",
    "    length = len(ids)\n",
    "    return g_data[:, :, ids], g_label[0, ids].reshape(1, -1)\n",
    "\n",
    "\n",
    "class TypeSet(Dataset):\n",
    "    def __init__(self, type, snr):\n",
    "        self.img, self.label = getData(type, snr)\n",
    "        _, self.length = self.label.shape\n",
    "\n",
    "    def __getitem__(self, idx):\n",
    "        return toTensor(self.img[:, :, idx]).float(), torch.tensor(self.label[0, idx] - 1, dtype=torch.int)\n",
    "\n",
    "    def __len__(self):\n",
    "        return self.length\n",
    "\n",
    "\n",
    "def getLoader(type, snr):\n",
    "    set = TypeSet(type, snr)\n",
    "    #print(set.__len__())\n",
    "    return torch.utils.data.DataLoader(\n",
    "        dataset=set, batch_size=set.__len__(), shuffle=False,\n",
    "        num_workers=0, drop_last=False)\n",
    "\n",
    "\n",
    "x = getLoader(1, -10)"
   ],
   "metadata": {
    "collapsed": false,
    "pycharm": {
     "name": "#%%\n"
    }
   }
  },
  {
   "cell_type": "code",
   "execution_count": 41,
   "outputs": [
    {
     "data": {
      "text/plain": "((196, 64, 133), (1, 133))"
     },
     "execution_count": 41,
     "metadata": {},
     "output_type": "execute_result"
    }
   ],
   "source": [
    "x, y = getData(1, -10)\n",
    "x.shape, y.shape"
   ],
   "metadata": {
    "collapsed": false,
    "pycharm": {
     "name": "#%%\n"
    }
   }
  },
  {
   "cell_type": "code",
   "execution_count": 30,
   "outputs": [
    {
     "name": "stderr",
     "output_type": "stream",
     "text": [
      "C:\\Users\\ZGYwi\\AppData\\Local\\Temp\\ipykernel_3360\\3228186593.py:24: DeprecationWarning: an integer is required (got type numpy.float64).  Implicit conversion to integers using __int__ is deprecated, and may be removed in a future version of Python.\n",
      "  return toTensor(self.img[:, :, idx]), torch.tensor(self.label[idx] - 1, dtype=torch.int)\n"
     ]
    },
    {
     "data": {
      "text/plain": "(torch.Size([121, 1, 196, 64]), torch.Size([121]))"
     },
     "execution_count": 30,
     "metadata": {},
     "output_type": "execute_result"
    }
   ],
   "source": [
    "img, label = next(iter(x))\n",
    "img.shape, label.shape"
   ],
   "metadata": {
    "collapsed": false,
    "pycharm": {
     "name": "#%%\n"
    }
   }
  },
  {
   "cell_type": "code",
   "execution_count": 38,
   "outputs": [
    {
     "data": {
      "text/plain": "(numpy.ndarray, (196, 64, 121))"
     },
     "execution_count": 38,
     "metadata": {},
     "output_type": "execute_result"
    }
   ],
   "source": [
    "ids = filter(1, 2)\n",
    "x = g_data[:, :, ids].reshape(196, 64, -1)\n",
    "type(x), x.shape"
   ],
   "metadata": {
    "collapsed": false,
    "pycharm": {
     "name": "#%%\n"
    }
   }
  },
  {
   "cell_type": "code",
   "execution_count": null,
   "outputs": [],
   "source": [
    "getData(1, -10)"
   ],
   "metadata": {
    "collapsed": false,
    "pycharm": {
     "name": "#%%\n",
     "is_executing": true
    }
   }
  },
  {
   "cell_type": "code",
   "execution_count": 7,
   "outputs": [
    {
     "name": "stderr",
     "output_type": "stream",
     "text": [
      "E:\\App\\Miniconda3\\envs\\torch-cuda\\lib\\site-packages\\torch\\nn\\modules\\container.py:141: UserWarning: Implicit dimension choice for softmax has been deprecated. Change the call to include dim=X as an argument.\n",
      "  input = module(input)\n"
     ]
    },
    {
     "data": {
      "text/plain": "torch.Size([121, 8])"
     },
     "execution_count": 7,
     "metadata": {},
     "output_type": "execute_result"
    }
   ],
   "source": [
    "output = net(img)\n",
    "output.shape"
   ],
   "metadata": {
    "collapsed": false,
    "pycharm": {
     "name": "#%%\n"
    }
   }
  },
  {
   "cell_type": "code",
   "execution_count": 14,
   "metadata": {
    "collapsed": false,
    "pycharm": {
     "name": "#%%\n"
    }
   },
   "outputs": [
    {
     "name": "stderr",
     "output_type": "stream",
     "text": [
      "C:\\Users\\ZGYwi\\AppData\\Local\\Temp\\ipykernel_12960\\971741046.py:24: DeprecationWarning: an integer is required (got type numpy.float64).  Implicit conversion to integers using __int__ is deprecated, and may be removed in a future version of Python.\n",
      "  return toTensor(self.img[:, :, idx]).float(), torch.tensor(self.label[0, idx] - 1, dtype=torch.int)\n"
     ]
    },
    {
     "name": "stdout",
     "output_type": "stream",
     "text": [
      "singlepulse:\t -10dB\t accuracy:20.32520325203252%\n",
      "singlepulse:\t -9dB\t accuracy:33.898305084745765%\n",
      "singlepulse:\t -8dB\t accuracy:39.25925925925926%\n",
      "singlepulse:\t -7dB\t accuracy:51.09489051094891%\n",
      "singlepulse:\t -6dB\t accuracy:48.4375%\n",
      "singlepulse:\t -5dB\t accuracy:54.12844036697248%\n",
      "singlepulse:\t -4dB\t accuracy:57.48031496062992%\n",
      "singlepulse:\t -3dB\t accuracy:62.13592233009709%\n",
      "singlepulse:\t -2dB\t accuracy:71.90082644628099%\n",
      "singlepulse:\t -1dB\t accuracy:79.48717948717949%\n",
      "singlepulse:\t 0dB\t accuracy:80.61224489795919%\n",
      "singlepulse:\t 1dB\t accuracy:84.32835820895522%\n",
      "singlepulse:\t 2dB\t accuracy:84.15841584158416%\n",
      "singlepulse:\t 3dB\t accuracy:93.44262295081967%\n",
      "singlepulse:\t 4dB\t accuracy:93.16239316239316%\n",
      "singlepulse:\t 5dB\t accuracy:96.22641509433963%\n",
      "singlepulse:\t 6dB\t accuracy:99.21875%\n",
      "singlepulse:\t 7dB\t accuracy:99.18032786885246%\n",
      "singlepulse:\t 8dB\t accuracy:98.4%\n",
      "singlepulse:\t 9dB\t accuracy:97.41379310344827%\n",
      "singlepulse:\t 10dB\t accuracy:100.0%\n",
      "singlepulse:\t 11dB\t accuracy:99.24242424242425%\n",
      "singlepulse:\t 12dB\t accuracy:99.19354838709677%\n",
      "singlepulse:\t 13dB\t accuracy:100.0%\n",
      "singlepulse:\t 14dB\t accuracy:100.0%\n",
      "singlepulse:\t 15dB\t accuracy:100.0%\n",
      "singlepulse:\t 16dB\t accuracy:99.21259842519684%\n",
      "singlepulse:\t 17dB\t accuracy:100.0%\n",
      "singlepulse:\t 18dB\t accuracy:100.0%\n",
      "singlepulse:\t 19dB\t accuracy:100.0%\n",
      "singlepulse:\t 20dB\t accuracy:100.0%\n",
      "singlepulse:\t 21dB\t accuracy:100.0%\n",
      "singlepulse:\t 22dB\t accuracy:100.0%\n",
      "singlepulse:\t 23dB\t accuracy:100.0%\n",
      "singlepulse:\t 24dB\t accuracy:100.0%\n",
      "singlepulse:\t 25dB\t accuracy:100.0%\n",
      "singlepulse:\t 26dB\t accuracy:100.0%\n",
      "singlepulse:\t 27dB\t accuracy:100.0%\n",
      "singlepulse:\t 28dB\t accuracy:100.0%\n",
      "singlepulse:\t 29dB\t accuracy:100.0%\n",
      "singlepulse:\t 30dB\t accuracy:100.0%\n",
      "freqdiv:\t -10dB\t accuracy:79.36507936507937%\n",
      "freqdiv:\t -9dB\t accuracy:79.85074626865672%\n",
      "freqdiv:\t -8dB\t accuracy:87.73584905660377%\n",
      "freqdiv:\t -7dB\t accuracy:91.26984126984127%\n",
      "freqdiv:\t -6dB\t accuracy:91.2%\n",
      "freqdiv:\t -5dB\t accuracy:96.61016949152543%\n",
      "freqdiv:\t -4dB\t accuracy:91.33858267716535%\n",
      "freqdiv:\t -3dB\t accuracy:95.38461538461539%\n",
      "freqdiv:\t -2dB\t accuracy:96.18320610687023%\n",
      "freqdiv:\t -1dB\t accuracy:96.06299212598425%\n",
      "freqdiv:\t 0dB\t accuracy:97.6923076923077%\n",
      "freqdiv:\t 1dB\t accuracy:98.54014598540147%\n",
      "freqdiv:\t 2dB\t accuracy:96.57534246575342%\n",
      "freqdiv:\t 3dB\t accuracy:97.27272727272727%\n",
      "freqdiv:\t 4dB\t accuracy:99.10714285714286%\n",
      "freqdiv:\t 5dB\t accuracy:96.69421487603306%\n",
      "freqdiv:\t 6dB\t accuracy:99.2063492063492%\n",
      "freqdiv:\t 7dB\t accuracy:94.87179487179488%\n",
      "freqdiv:\t 8dB\t accuracy:95.28301886792453%\n",
      "freqdiv:\t 9dB\t accuracy:95.6140350877193%\n",
      "freqdiv:\t 10dB\t accuracy:97.6%\n",
      "freqdiv:\t 11dB\t accuracy:96.66666666666667%\n",
      "freqdiv:\t 12dB\t accuracy:99.03846153846153%\n",
      "freqdiv:\t 13dB\t accuracy:94.44444444444444%\n",
      "freqdiv:\t 14dB\t accuracy:95.96774193548387%\n",
      "freqdiv:\t 15dB\t accuracy:94.95798319327731%\n",
      "freqdiv:\t 16dB\t accuracy:98.4%\n",
      "freqdiv:\t 17dB\t accuracy:97.5609756097561%\n",
      "freqdiv:\t 18dB\t accuracy:95.6896551724138%\n",
      "freqdiv:\t 19dB\t accuracy:97.41379310344827%\n",
      "freqdiv:\t 20dB\t accuracy:98.48484848484848%\n",
      "freqdiv:\t 21dB\t accuracy:98.61111111111111%\n",
      "freqdiv:\t 22dB\t accuracy:97.3913043478261%\n",
      "freqdiv:\t 23dB\t accuracy:98.4375%\n",
      "freqdiv:\t 24dB\t accuracy:94.87179487179488%\n",
      "freqdiv:\t 25dB\t accuracy:97.36842105263158%\n",
      "freqdiv:\t 26dB\t accuracy:96.03960396039604%\n",
      "freqdiv:\t 27dB\t accuracy:97.5609756097561%\n",
      "freqdiv:\t 28dB\t accuracy:95.04132231404958%\n",
      "freqdiv:\t 29dB\t accuracy:95.2%\n",
      "freqdiv:\t 30dB\t accuracy:98.23008849557522%\n",
      "LFM:\t -10dB\t accuracy:95.23809523809524%\n",
      "LFM:\t -9dB\t accuracy:99.18032786885246%\n",
      "LFM:\t -8dB\t accuracy:99.17355371900827%\n",
      "LFM:\t -7dB\t accuracy:97.82608695652173%\n",
      "LFM:\t -6dB\t accuracy:99.0909090909091%\n",
      "LFM:\t -5dB\t accuracy:100.0%\n",
      "LFM:\t -4dB\t accuracy:99.18032786885246%\n",
      "LFM:\t -3dB\t accuracy:100.0%\n",
      "LFM:\t -2dB\t accuracy:99.12280701754386%\n",
      "LFM:\t -1dB\t accuracy:100.0%\n",
      "LFM:\t 0dB\t accuracy:100.0%\n",
      "LFM:\t 1dB\t accuracy:100.0%\n",
      "LFM:\t 2dB\t accuracy:99.15254237288136%\n",
      "LFM:\t 3dB\t accuracy:100.0%\n",
      "LFM:\t 4dB\t accuracy:100.0%\n",
      "LFM:\t 5dB\t accuracy:100.0%\n",
      "LFM:\t 6dB\t accuracy:99.24812030075188%\n",
      "LFM:\t 7dB\t accuracy:98.9795918367347%\n",
      "LFM:\t 8dB\t accuracy:99.23076923076923%\n",
      "LFM:\t 9dB\t accuracy:100.0%\n",
      "LFM:\t 10dB\t accuracy:100.0%\n",
      "LFM:\t 11dB\t accuracy:100.0%\n",
      "LFM:\t 12dB\t accuracy:100.0%\n",
      "LFM:\t 13dB\t accuracy:100.0%\n",
      "LFM:\t 14dB\t accuracy:100.0%\n",
      "LFM:\t 15dB\t accuracy:99.09909909909909%\n",
      "LFM:\t 16dB\t accuracy:100.0%\n",
      "LFM:\t 17dB\t accuracy:100.0%\n",
      "LFM:\t 18dB\t accuracy:98.36065573770492%\n",
      "LFM:\t 19dB\t accuracy:100.0%\n",
      "LFM:\t 20dB\t accuracy:100.0%\n",
      "LFM:\t 21dB\t accuracy:100.0%\n",
      "LFM:\t 22dB\t accuracy:100.0%\n",
      "LFM:\t 23dB\t accuracy:99.15966386554622%\n",
      "LFM:\t 24dB\t accuracy:99.07407407407408%\n",
      "LFM:\t 25dB\t accuracy:100.0%\n",
      "LFM:\t 26dB\t accuracy:98.56115107913669%\n",
      "LFM:\t 27dB\t accuracy:100.0%\n",
      "LFM:\t 28dB\t accuracy:99.25373134328358%\n",
      "LFM:\t 29dB\t accuracy:100.0%\n",
      "LFM:\t 30dB\t accuracy:98.27586206896552%\n",
      "QFM:\t -10dB\t accuracy:69.44444444444444%\n",
      "QFM:\t -9dB\t accuracy:74.33628318584071%\n",
      "QFM:\t -8dB\t accuracy:86.84210526315789%\n",
      "QFM:\t -7dB\t accuracy:90.98360655737704%\n",
      "QFM:\t -6dB\t accuracy:91.15646258503402%\n",
      "QFM:\t -5dB\t accuracy:87.28813559322033%\n",
      "QFM:\t -4dB\t accuracy:94.95798319327731%\n",
      "QFM:\t -3dB\t accuracy:94.4%\n",
      "QFM:\t -2dB\t accuracy:95.53571428571429%\n",
      "QFM:\t -1dB\t accuracy:95.2%\n",
      "QFM:\t 0dB\t accuracy:93.02325581395348%\n",
      "QFM:\t 1dB\t accuracy:92.43697478991596%\n",
      "QFM:\t 2dB\t accuracy:100.0%\n",
      "QFM:\t 3dB\t accuracy:99.16666666666667%\n",
      "QFM:\t 4dB\t accuracy:99.09909909909909%\n",
      "QFM:\t 5dB\t accuracy:99.25925925925925%\n",
      "QFM:\t 6dB\t accuracy:100.0%\n",
      "QFM:\t 7dB\t accuracy:96.8%\n",
      "QFM:\t 8dB\t accuracy:100.0%\n",
      "QFM:\t 9dB\t accuracy:98.0952380952381%\n",
      "QFM:\t 10dB\t accuracy:100.0%\n",
      "QFM:\t 11dB\t accuracy:98.13084112149532%\n",
      "QFM:\t 12dB\t accuracy:96.8%\n",
      "QFM:\t 13dB\t accuracy:97.63779527559055%\n",
      "QFM:\t 14dB\t accuracy:98.49624060150376%\n",
      "QFM:\t 15dB\t accuracy:100.0%\n",
      "QFM:\t 16dB\t accuracy:100.0%\n",
      "QFM:\t 17dB\t accuracy:98.1981981981982%\n",
      "QFM:\t 18dB\t accuracy:100.0%\n",
      "QFM:\t 19dB\t accuracy:97.45762711864407%\n",
      "QFM:\t 20dB\t accuracy:100.0%\n",
      "QFM:\t 21dB\t accuracy:100.0%\n",
      "QFM:\t 22dB\t accuracy:98.47328244274809%\n",
      "QFM:\t 23dB\t accuracy:99.2063492063492%\n",
      "QFM:\t 24dB\t accuracy:98.48484848484848%\n",
      "QFM:\t 25dB\t accuracy:100.0%\n",
      "QFM:\t 26dB\t accuracy:100.0%\n",
      "QFM:\t 27dB\t accuracy:99.13793103448276%\n",
      "QFM:\t 28dB\t accuracy:98.31932773109244%\n",
      "QFM:\t 29dB\t accuracy:97.95918367346938%\n",
      "QFM:\t 30dB\t accuracy:99.21259842519684%\n",
      "2FSK:\t -10dB\t accuracy:56.25%\n",
      "2FSK:\t -9dB\t accuracy:65.41353383458646%\n",
      "2FSK:\t -8dB\t accuracy:69.46564885496183%\n",
      "2FSK:\t -7dB\t accuracy:71.54471544715447%\n",
      "2FSK:\t -6dB\t accuracy:73.38709677419355%\n",
      "2FSK:\t -5dB\t accuracy:71.42857142857143%\n",
      "2FSK:\t -4dB\t accuracy:75.88652482269504%\n",
      "2FSK:\t -3dB\t accuracy:77.8688524590164%\n",
      "2FSK:\t -2dB\t accuracy:78.70370370370371%\n",
      "2FSK:\t -1dB\t accuracy:74.07407407407408%\n",
      "2FSK:\t 0dB\t accuracy:82.8125%\n",
      "2FSK:\t 1dB\t accuracy:76.42276422764228%\n",
      "2FSK:\t 2dB\t accuracy:80.18867924528301%\n",
      "2FSK:\t 3dB\t accuracy:74.3801652892562%\n",
      "2FSK:\t 4dB\t accuracy:76.81159420289855%\n",
      "2FSK:\t 5dB\t accuracy:68.25396825396825%\n",
      "2FSK:\t 6dB\t accuracy:73.91304347826087%\n",
      "2FSK:\t 7dB\t accuracy:77.3109243697479%\n",
      "2FSK:\t 8dB\t accuracy:81.9672131147541%\n",
      "2FSK:\t 9dB\t accuracy:78.15126050420169%\n",
      "2FSK:\t 10dB\t accuracy:76.0%\n",
      "2FSK:\t 11dB\t accuracy:76.66666666666667%\n",
      "2FSK:\t 12dB\t accuracy:70.94017094017094%\n",
      "2FSK:\t 13dB\t accuracy:72.22222222222223%\n",
      "2FSK:\t 14dB\t accuracy:75.0%\n",
      "2FSK:\t 15dB\t accuracy:78.125%\n",
      "2FSK:\t 16dB\t accuracy:79.67479674796748%\n",
      "2FSK:\t 17dB\t accuracy:76.03305785123968%\n",
      "2FSK:\t 18dB\t accuracy:74.35897435897436%\n",
      "2FSK:\t 19dB\t accuracy:76.99115044247787%\n",
      "2FSK:\t 20dB\t accuracy:77.51937984496124%\n",
      "2FSK:\t 21dB\t accuracy:78.30188679245283%\n",
      "2FSK:\t 22dB\t accuracy:73.91304347826087%\n",
      "2FSK:\t 23dB\t accuracy:77.22772277227723%\n",
      "2FSK:\t 24dB\t accuracy:71.69811320754717%\n",
      "2FSK:\t 25dB\t accuracy:68.84057971014492%\n",
      "2FSK:\t 26dB\t accuracy:71.66666666666667%\n",
      "2FSK:\t 27dB\t accuracy:74.56140350877193%\n",
      "2FSK:\t 28dB\t accuracy:68.8%\n",
      "2FSK:\t 29dB\t accuracy:78.76106194690266%\n",
      "2FSK:\t 30dB\t accuracy:72.54901960784314%\n",
      "4FSK:\t -10dB\t accuracy:48.93617021276596%\n",
      "4FSK:\t -9dB\t accuracy:66.66666666666667%\n",
      "4FSK:\t -8dB\t accuracy:64.81481481481481%\n",
      "4FSK:\t -7dB\t accuracy:72.05882352941177%\n",
      "4FSK:\t -6dB\t accuracy:69.64285714285714%\n",
      "4FSK:\t -5dB\t accuracy:76.52173913043478%\n",
      "4FSK:\t -4dB\t accuracy:71.7948717948718%\n",
      "4FSK:\t -3dB\t accuracy:79.85074626865672%\n",
      "4FSK:\t -2dB\t accuracy:74.48979591836735%\n",
      "4FSK:\t -1dB\t accuracy:73.4375%\n",
      "4FSK:\t 0dB\t accuracy:76.19047619047619%\n",
      "4FSK:\t 1dB\t accuracy:72.26890756302521%\n",
      "4FSK:\t 2dB\t accuracy:86.15384615384616%\n",
      "4FSK:\t 3dB\t accuracy:75.22123893805309%\n",
      "4FSK:\t 4dB\t accuracy:83.73983739837398%\n",
      "4FSK:\t 5dB\t accuracy:81.3953488372093%\n",
      "4FSK:\t 6dB\t accuracy:83.33333333333333%\n",
      "4FSK:\t 7dB\t accuracy:85.36585365853658%\n",
      "4FSK:\t 8dB\t accuracy:80.8%\n",
      "4FSK:\t 9dB\t accuracy:80.88235294117646%\n",
      "4FSK:\t 10dB\t accuracy:84.12698412698413%\n",
      "4FSK:\t 11dB\t accuracy:85.15625%\n",
      "4FSK:\t 12dB\t accuracy:80.1470588235294%\n",
      "4FSK:\t 13dB\t accuracy:83.33333333333333%\n",
      "4FSK:\t 14dB\t accuracy:86.36363636363636%\n",
      "4FSK:\t 15dB\t accuracy:82.17054263565892%\n",
      "4FSK:\t 16dB\t accuracy:85.9375%\n",
      "4FSK:\t 17dB\t accuracy:88.88888888888889%\n",
      "4FSK:\t 18dB\t accuracy:82.30088495575221%\n",
      "4FSK:\t 19dB\t accuracy:84.95575221238938%\n",
      "4FSK:\t 20dB\t accuracy:83.62068965517241%\n",
      "4FSK:\t 21dB\t accuracy:83.59375%\n",
      "4FSK:\t 22dB\t accuracy:82.63888888888889%\n",
      "4FSK:\t 23dB\t accuracy:83.60655737704919%\n",
      "4FSK:\t 24dB\t accuracy:87.5%\n",
      "4FSK:\t 25dB\t accuracy:82.56880733944953%\n",
      "4FSK:\t 26dB\t accuracy:84.0909090909091%\n",
      "4FSK:\t 27dB\t accuracy:92.85714285714286%\n",
      "4FSK:\t 28dB\t accuracy:79.82456140350877%\n",
      "4FSK:\t 29dB\t accuracy:88.33333333333333%\n",
      "4FSK:\t 30dB\t accuracy:83.33333333333333%\n",
      "BPSK:\t -10dB\t accuracy:28.07017543859649%\n",
      "BPSK:\t -9dB\t accuracy:33.333333333333336%\n",
      "BPSK:\t -8dB\t accuracy:33.088235294117645%\n",
      "BPSK:\t -7dB\t accuracy:47.57281553398058%\n",
      "BPSK:\t -6dB\t accuracy:52.38095238095238%\n",
      "BPSK:\t -5dB\t accuracy:59.32203389830509%\n",
      "BPSK:\t -4dB\t accuracy:61.81818181818182%\n",
      "BPSK:\t -3dB\t accuracy:55.172413793103445%\n",
      "BPSK:\t -2dB\t accuracy:59.09090909090909%\n",
      "BPSK:\t -1dB\t accuracy:58.62068965517241%\n",
      "BPSK:\t 0dB\t accuracy:60.215053763440864%\n",
      "BPSK:\t 1dB\t accuracy:55.55555555555556%\n",
      "BPSK:\t 2dB\t accuracy:61.29032258064516%\n",
      "BPSK:\t 3dB\t accuracy:64.61538461538461%\n",
      "BPSK:\t 4dB\t accuracy:55.833333333333336%\n",
      "BPSK:\t 5dB\t accuracy:63.2%\n",
      "BPSK:\t 6dB\t accuracy:61.15702479338843%\n",
      "BPSK:\t 7dB\t accuracy:57.00934579439252%\n",
      "BPSK:\t 8dB\t accuracy:61.53846153846154%\n",
      "BPSK:\t 9dB\t accuracy:62.295081967213115%\n",
      "BPSK:\t 10dB\t accuracy:55.118110236220474%\n",
      "BPSK:\t 11dB\t accuracy:64.07766990291262%\n",
      "BPSK:\t 12dB\t accuracy:60.74074074074074%\n",
      "BPSK:\t 13dB\t accuracy:57.142857142857146%\n",
      "BPSK:\t 14dB\t accuracy:66.90140845070422%\n",
      "BPSK:\t 15dB\t accuracy:65.11627906976744%\n",
      "BPSK:\t 16dB\t accuracy:62.93103448275862%\n",
      "BPSK:\t 17dB\t accuracy:63.9344262295082%\n",
      "BPSK:\t 18dB\t accuracy:60.97560975609756%\n",
      "BPSK:\t 19dB\t accuracy:68.85245901639344%\n",
      "BPSK:\t 20dB\t accuracy:64.0625%\n",
      "BPSK:\t 21dB\t accuracy:68.18181818181819%\n",
      "BPSK:\t 22dB\t accuracy:65.18518518518519%\n",
      "BPSK:\t 23dB\t accuracy:58.62068965517241%\n",
      "BPSK:\t 24dB\t accuracy:68.54838709677419%\n",
      "BPSK:\t 25dB\t accuracy:59.83606557377049%\n",
      "BPSK:\t 26dB\t accuracy:60.0%\n",
      "BPSK:\t 27dB\t accuracy:63.970588235294116%\n",
      "BPSK:\t 28dB\t accuracy:64.56692913385827%\n",
      "BPSK:\t 29dB\t accuracy:51.14503816793893%\n",
      "BPSK:\t 30dB\t accuracy:68.88888888888889%\n",
      "QPSK:\t -10dB\t accuracy:50.43478260869565%\n",
      "QPSK:\t -9dB\t accuracy:41.6%\n",
      "QPSK:\t -8dB\t accuracy:44.09448818897638%\n",
      "QPSK:\t -7dB\t accuracy:34.710743801652896%\n",
      "QPSK:\t -6dB\t accuracy:34.12698412698413%\n",
      "QPSK:\t -5dB\t accuracy:22.950819672131146%\n",
      "QPSK:\t -4dB\t accuracy:26.845637583892618%\n",
      "QPSK:\t -3dB\t accuracy:22.01834862385321%\n",
      "QPSK:\t -2dB\t accuracy:24.56140350877193%\n",
      "QPSK:\t -1dB\t accuracy:38.392857142857146%\n",
      "QPSK:\t 0dB\t accuracy:53.278688524590166%\n",
      "QPSK:\t 1dB\t accuracy:43.065693430656935%\n",
      "QPSK:\t 2dB\t accuracy:56.41025641025641%\n",
      "QPSK:\t 3dB\t accuracy:51.851851851851855%\n",
      "QPSK:\t 4dB\t accuracy:48.507462686567166%\n",
      "QPSK:\t 5dB\t accuracy:62.39316239316239%\n",
      "QPSK:\t 6dB\t accuracy:67.54385964912281%\n",
      "QPSK:\t 7dB\t accuracy:65.18518518518519%\n",
      "QPSK:\t 8dB\t accuracy:67.22689075630252%\n",
      "QPSK:\t 9dB\t accuracy:74.82517482517483%\n",
      "QPSK:\t 10dB\t accuracy:74.0%\n",
      "QPSK:\t 11dB\t accuracy:79.3103448275862%\n",
      "QPSK:\t 12dB\t accuracy:74.81481481481481%\n",
      "QPSK:\t 13dB\t accuracy:74.24242424242425%\n",
      "QPSK:\t 14dB\t accuracy:75.0%\n",
      "QPSK:\t 15dB\t accuracy:79.23076923076923%\n",
      "QPSK:\t 16dB\t accuracy:66.94915254237289%\n",
      "QPSK:\t 17dB\t accuracy:78.51239669421487%\n",
      "QPSK:\t 18dB\t accuracy:73.17073170731707%\n",
      "QPSK:\t 19dB\t accuracy:79.69924812030075%\n",
      "QPSK:\t 20dB\t accuracy:82.90598290598291%\n",
      "QPSK:\t 21dB\t accuracy:80.8695652173913%\n",
      "QPSK:\t 22dB\t accuracy:80.0%\n",
      "QPSK:\t 23dB\t accuracy:76.8%\n",
      "QPSK:\t 24dB\t accuracy:75.1937984496124%\n",
      "QPSK:\t 25dB\t accuracy:82.6086956521739%\n",
      "QPSK:\t 26dB\t accuracy:76.27118644067797%\n",
      "QPSK:\t 27dB\t accuracy:77.94117647058823%\n",
      "QPSK:\t 28dB\t accuracy:82.94573643410853%\n",
      "QPSK:\t 29dB\t accuracy:74.19354838709677%\n",
      "QPSK:\t 30dB\t accuracy:75.51020408163265%\n"
     ]
    }
   ],
   "source": [
    "result = np.ndarray((8, 41))\n",
    "for n in range(1, 1 + len(name)):\n",
    "    for snr in range(-10, 31):\n",
    "        img, labels = next(iter(getLoader(n, snr)))\n",
    "        length = len(labels)\n",
    "        output = net(img)\n",
    "        pred = output.data.max(1, keepdim=True)[1].reshape(length)\n",
    "        pred = pred.numpy()\n",
    "        labels = labels.reshape(length).numpy()\n",
    "        err_idx = np.argwhere(pred != labels)\n",
    "        accuacy=(length - len(err_idx)) * 100 / length\n",
    "        print(\"{}:\\t {}dB\\t accuracy:{}%\".format(name[n - 1], snr, (length - len(err_idx)) * 100 / length))\n",
    "        result[n-1,snr+10]=accuacy\n",
    "        #SNR_array.append(snr.tolist()[0])\n",
    "        #accuracy_array.append(80 - 80 * len(err_idx) / 80)"
   ]
  },
  {
   "cell_type": "code",
   "execution_count": 15,
   "outputs": [
    {
     "data": {
      "text/plain": "array([[ 20.32520325,  33.89830508,  39.25925926,  51.09489051,\n         48.4375    ,  54.12844037,  57.48031496,  62.13592233,\n         71.90082645,  79.48717949,  80.6122449 ,  84.32835821,\n         84.15841584,  93.44262295,  93.16239316,  96.22641509,\n         99.21875   ,  99.18032787,  98.4       ,  97.4137931 ,\n        100.        ,  99.24242424,  99.19354839, 100.        ,\n        100.        , 100.        ,  99.21259843, 100.        ,\n        100.        , 100.        , 100.        , 100.        ,\n        100.        , 100.        , 100.        , 100.        ,\n        100.        , 100.        , 100.        , 100.        ,\n        100.        ],\n       [ 79.36507937,  79.85074627,  87.73584906,  91.26984127,\n         91.2       ,  96.61016949,  91.33858268,  95.38461538,\n         96.18320611,  96.06299213,  97.69230769,  98.54014599,\n         96.57534247,  97.27272727,  99.10714286,  96.69421488,\n         99.20634921,  94.87179487,  95.28301887,  95.61403509,\n         97.6       ,  96.66666667,  99.03846154,  94.44444444,\n         95.96774194,  94.95798319,  98.4       ,  97.56097561,\n         95.68965517,  97.4137931 ,  98.48484848,  98.61111111,\n         97.39130435,  98.4375    ,  94.87179487,  97.36842105,\n         96.03960396,  97.56097561,  95.04132231,  95.2       ,\n         98.2300885 ],\n       [ 95.23809524,  99.18032787,  99.17355372,  97.82608696,\n         99.09090909, 100.        ,  99.18032787, 100.        ,\n         99.12280702, 100.        , 100.        , 100.        ,\n         99.15254237, 100.        , 100.        , 100.        ,\n         99.2481203 ,  98.97959184,  99.23076923, 100.        ,\n        100.        , 100.        , 100.        , 100.        ,\n        100.        ,  99.0990991 , 100.        , 100.        ,\n         98.36065574, 100.        , 100.        , 100.        ,\n        100.        ,  99.15966387,  99.07407407, 100.        ,\n         98.56115108, 100.        ,  99.25373134, 100.        ,\n         98.27586207],\n       [ 69.44444444,  74.33628319,  86.84210526,  90.98360656,\n         91.15646259,  87.28813559,  94.95798319,  94.4       ,\n         95.53571429,  95.2       ,  93.02325581,  92.43697479,\n        100.        ,  99.16666667,  99.0990991 ,  99.25925926,\n        100.        ,  96.8       , 100.        ,  98.0952381 ,\n        100.        ,  98.13084112,  96.8       ,  97.63779528,\n         98.4962406 , 100.        , 100.        ,  98.1981982 ,\n        100.        ,  97.45762712, 100.        , 100.        ,\n         98.47328244,  99.20634921,  98.48484848, 100.        ,\n        100.        ,  99.13793103,  98.31932773,  97.95918367,\n         99.21259843],\n       [ 56.25      ,  65.41353383,  69.46564885,  71.54471545,\n         73.38709677,  71.42857143,  75.88652482,  77.86885246,\n         78.7037037 ,  74.07407407,  82.8125    ,  76.42276423,\n         80.18867925,  74.38016529,  76.8115942 ,  68.25396825,\n         73.91304348,  77.31092437,  81.96721311,  78.1512605 ,\n         76.        ,  76.66666667,  70.94017094,  72.22222222,\n         75.        ,  78.125     ,  79.67479675,  76.03305785,\n         74.35897436,  76.99115044,  77.51937984,  78.30188679,\n         73.91304348,  77.22772277,  71.69811321,  68.84057971,\n         71.66666667,  74.56140351,  68.8       ,  78.76106195,\n         72.54901961],\n       [ 48.93617021,  66.66666667,  64.81481481,  72.05882353,\n         69.64285714,  76.52173913,  71.79487179,  79.85074627,\n         74.48979592,  73.4375    ,  76.19047619,  72.26890756,\n         86.15384615,  75.22123894,  83.7398374 ,  81.39534884,\n         83.33333333,  85.36585366,  80.8       ,  80.88235294,\n         84.12698413,  85.15625   ,  80.14705882,  83.33333333,\n         86.36363636,  82.17054264,  85.9375    ,  88.88888889,\n         82.30088496,  84.95575221,  83.62068966,  83.59375   ,\n         82.63888889,  83.60655738,  87.5       ,  82.56880734,\n         84.09090909,  92.85714286,  79.8245614 ,  88.33333333,\n         83.33333333],\n       [ 28.07017544,  33.33333333,  33.08823529,  47.57281553,\n         52.38095238,  59.3220339 ,  61.81818182,  55.17241379,\n         59.09090909,  58.62068966,  60.21505376,  55.55555556,\n         61.29032258,  64.61538462,  55.83333333,  63.2       ,\n         61.15702479,  57.00934579,  61.53846154,  62.29508197,\n         55.11811024,  64.0776699 ,  60.74074074,  57.14285714,\n         66.90140845,  65.11627907,  62.93103448,  63.93442623,\n         60.97560976,  68.85245902,  64.0625    ,  68.18181818,\n         65.18518519,  58.62068966,  68.5483871 ,  59.83606557,\n         60.        ,  63.97058824,  64.56692913,  51.14503817,\n         68.88888889],\n       [ 50.43478261,  41.6       ,  44.09448819,  34.7107438 ,\n         34.12698413,  22.95081967,  26.84563758,  22.01834862,\n         24.56140351,  38.39285714,  53.27868852,  43.06569343,\n         56.41025641,  51.85185185,  48.50746269,  62.39316239,\n         67.54385965,  65.18518519,  67.22689076,  74.82517483,\n         74.        ,  79.31034483,  74.81481481,  74.24242424,\n         75.        ,  79.23076923,  66.94915254,  78.51239669,\n         73.17073171,  79.69924812,  82.90598291,  80.86956522,\n         80.        ,  76.8       ,  75.19379845,  82.60869565,\n         76.27118644,  77.94117647,  82.94573643,  74.19354839,\n         75.51020408]])"
     },
     "execution_count": 15,
     "metadata": {},
     "output_type": "execute_result"
    }
   ],
   "source": [
    "result"
   ],
   "metadata": {
    "collapsed": false,
    "pycharm": {
     "name": "#%%\n"
    }
   }
  },
  {
   "cell_type": "code",
   "execution_count": 57,
   "outputs": [
    {
     "data": {
      "text/plain": "[<matplotlib.lines.Line2D at 0x1b1582f01c0>,\n <matplotlib.lines.Line2D at 0x1b1582f0160>,\n <matplotlib.lines.Line2D at 0x1b1582f0280>,\n <matplotlib.lines.Line2D at 0x1b1582f03a0>,\n <matplotlib.lines.Line2D at 0x1b1582f04c0>,\n <matplotlib.lines.Line2D at 0x1b1582f05e0>,\n <matplotlib.lines.Line2D at 0x1b1582f0700>,\n <matplotlib.lines.Line2D at 0x1b1582f0820>,\n <matplotlib.lines.Line2D at 0x1b1582d4eb0>,\n <matplotlib.lines.Line2D at 0x1b1582d4ee0>,\n <matplotlib.lines.Line2D at 0x1b1582f0a60>,\n <matplotlib.lines.Line2D at 0x1b1582f01f0>,\n <matplotlib.lines.Line2D at 0x1b1582f0c70>,\n <matplotlib.lines.Line2D at 0x1b1582f0d90>,\n <matplotlib.lines.Line2D at 0x1b1582f0eb0>,\n <matplotlib.lines.Line2D at 0x1b1582f0fd0>,\n <matplotlib.lines.Line2D at 0x1b1582f4130>,\n <matplotlib.lines.Line2D at 0x1b1582f4250>,\n <matplotlib.lines.Line2D at 0x1b1582f4370>,\n <matplotlib.lines.Line2D at 0x1b1582f4490>,\n <matplotlib.lines.Line2D at 0x1b1582f45b0>,\n <matplotlib.lines.Line2D at 0x1b1582f46d0>,\n <matplotlib.lines.Line2D at 0x1b1582f47f0>,\n <matplotlib.lines.Line2D at 0x1b1582f4910>,\n <matplotlib.lines.Line2D at 0x1b1582f4a30>,\n <matplotlib.lines.Line2D at 0x1b1582f4b50>,\n <matplotlib.lines.Line2D at 0x1b1582f4c70>,\n <matplotlib.lines.Line2D at 0x1b1582f4d90>,\n <matplotlib.lines.Line2D at 0x1b1582f4eb0>,\n <matplotlib.lines.Line2D at 0x1b1582f4fd0>,\n <matplotlib.lines.Line2D at 0x1b1582f7130>,\n <matplotlib.lines.Line2D at 0x1b1582f7250>,\n <matplotlib.lines.Line2D at 0x1b1582f7370>,\n <matplotlib.lines.Line2D at 0x1b1582f7490>,\n <matplotlib.lines.Line2D at 0x1b1582f75b0>,\n <matplotlib.lines.Line2D at 0x1b1582f76d0>,\n <matplotlib.lines.Line2D at 0x1b1582f77f0>,\n <matplotlib.lines.Line2D at 0x1b1582f7910>,\n <matplotlib.lines.Line2D at 0x1b1582f7a30>,\n <matplotlib.lines.Line2D at 0x1b1582f7b50>,\n <matplotlib.lines.Line2D at 0x1b1582f7c70>]"
     },
     "execution_count": 57,
     "metadata": {},
     "output_type": "execute_result"
    },
    {
     "data": {
      "text/plain": "<Figure size 432x288 with 1 Axes>",
      "image/png": "[encoded data removed]"
     },
     "metadata": {
      "needs_background": "light"
     },
     "output_type": "display_data"
    }
   ],
   "source": [
    "plt.plot(result)"
   ],
   "metadata": {
    "collapsed": false,
    "pycharm": {
     "name": "#%%\n"
    }
   }
  },
  {
   "cell_type": "code",
   "execution_count": 20,
   "outputs": [
    {
     "data": {
      "text/plain": "[tensor([[[[0.0334, 0.0048, 0.0212,  ..., 0.0110, 0.0237, 0.0098],\n           [0.0298, 0.0098, 0.0280,  ..., 0.0155, 0.0214, 0.0210],\n           [0.0253, 0.0174, 0.0260,  ..., 0.0178, 0.0255, 0.0175],\n           ...,\n           [0.0172, 0.0307, 0.0085,  ..., 0.0267, 0.0275, 0.0159],\n           [0.0218, 0.0259, 0.0083,  ..., 0.0238, 0.0192, 0.0139],\n           [0.0150, 0.0171, 0.0073,  ..., 0.0060, 0.0225, 0.0087]]],\n \n \n         [[[0.0069, 0.0040, 0.0028,  ..., 0.0054, 0.0057, 0.0058],\n           [0.0048, 0.0067, 0.0014,  ..., 0.0047, 0.0122, 0.0063],\n           [0.0027, 0.0088, 0.0025,  ..., 0.0029, 0.0112, 0.0020],\n           ...,\n           [0.0024, 0.0041, 0.0058,  ..., 0.0029, 0.0043, 0.0037],\n           [0.0009, 0.0047, 0.0033,  ..., 0.0038, 0.0063, 0.0048],\n           [0.0036, 0.0053, 0.0025,  ..., 0.0048, 0.0049, 0.0008]]],\n \n \n         [[[0.0331, 0.0161, 0.0526,  ..., 0.1322, 0.0517, 0.0478],\n           [0.0416, 0.0289, 0.0644,  ..., 0.0684, 0.0955, 0.0388],\n           [0.0504, 0.0460, 0.0548,  ..., 0.0321, 0.1317, 0.0402],\n           ...,\n           [0.0565, 0.0413, 0.1364,  ..., 0.0585, 0.0246, 0.1559],\n           [0.0597, 0.1048, 0.1036,  ..., 0.0431, 0.0489, 0.1100],\n           [0.0854, 0.1053, 0.0457,  ..., 0.0346, 0.0787, 0.0905]]],\n \n \n         ...,\n \n \n         [[[0.0836, 0.0239, 0.0328,  ..., 0.0196, 0.0947, 0.0579],\n           [0.0790, 0.0516, 0.0754,  ..., 0.0686, 0.0798, 0.0801],\n           [0.0428, 0.0377, 0.0762,  ..., 0.0688, 0.0441, 0.0500],\n           ...,\n           [0.0110, 0.0156, 0.0471,  ..., 0.0873, 0.0347, 0.0850],\n           [0.0653, 0.0455, 0.0367,  ..., 0.0538, 0.0131, 0.1282],\n           [0.0863, 0.0405, 0.0531,  ..., 0.0643, 0.0468, 0.1256]]],\n \n \n         [[[0.0195, 0.0105, 0.0094,  ..., 0.0193, 0.0147, 0.0138],\n           [0.0100, 0.0053, 0.0050,  ..., 0.0206, 0.0156, 0.0122],\n           [0.0037, 0.0071, 0.0099,  ..., 0.0239, 0.0134, 0.0118],\n           ...,\n           [0.0071, 0.0226, 0.0142,  ..., 0.0125, 0.0061, 0.0040],\n           [0.0012, 0.0140, 0.0079,  ..., 0.0134, 0.0051, 0.0070],\n           [0.0071, 0.0122, 0.0020,  ..., 0.0052, 0.0079, 0.0072]]],\n \n \n         [[[0.0289, 0.0918, 0.0293,  ..., 0.0609, 0.0378, 0.0549],\n           [0.0121, 0.1055, 0.0255,  ..., 0.0486, 0.1027, 0.0794],\n           [0.0332, 0.1344, 0.0337,  ..., 0.0163, 0.0867, 0.1053],\n           ...,\n           [0.0540, 0.0515, 0.0848,  ..., 0.0574, 0.1065, 0.0237],\n           [0.0581, 0.0489, 0.1048,  ..., 0.0397, 0.0875, 0.0251],\n           [0.0566, 0.0079, 0.0853,  ..., 0.0173, 0.0788, 0.0310]]]]),\n tensor([0, 0, 0, 0, 0, 0, 0, 0, 0, 0, 0, 0, 0, 0, 0, 0, 0, 0, 0, 0, 0, 0, 0, 0,\n         0, 0, 0, 0, 0, 0, 0, 0, 0, 0, 0, 0, 0, 0, 0, 0, 0, 0, 0, 0, 0, 0, 0, 0,\n         0, 0, 0, 0, 0, 0, 0, 0, 0, 0, 0, 0, 0, 0, 0, 0, 0, 0, 0, 0, 0, 0, 0, 0,\n         0, 0, 0, 0, 0, 0, 0, 0, 0, 0, 0, 0, 0, 0, 0, 0, 0, 0, 0, 0, 0, 0, 0, 0,\n         0, 0, 0, 0]),\n tensor([ 15,  28,   1,  15,  30,  16,  19,  -1,   7,  19,  -9,  -4, -10,  16,\n          17,  20,  27,  13,  -7,  -7,  27, -10,  26,  13,  -4,   2,  28,  18,\n           4,   5,  25,  -6,  18,  -1,   7,  24,  21,  18, -10,  17,   8,   4,\n           6,   2,   1,  13,   7,  12,   1,  10,   1,  26,  15,   4,   3,  25,\n          -9,  15,  18,  -4,   7,  16,  21,   5,   0,  -4,  20,  18,  18, -10,\n           8,  -5,  -9,   9,  16,  10,  24,  -9,  15,  30,  21,  27,  -7,  -6,\n          28,  -8,  16,  21,   0,  18,  -1, -10,   6,   6,  -9,  10, -10,   4,\n          20,   8])]"
     },
     "execution_count": 20,
     "metadata": {},
     "output_type": "execute_result"
    }
   ],
   "source": [
    "next(iter(test_loader))"
   ],
   "metadata": {
    "collapsed": false,
    "pycharm": {
     "name": "#%%\n"
    }
   }
  },
  {
   "cell_type": "code",
   "execution_count": 24,
   "metadata": {
    "collapsed": false,
    "pycharm": {
     "name": "#%%\n"
    }
   },
   "outputs": [
    {
     "name": "stdout",
     "output_type": "stream",
     "text": [
      "7:predict:6 real:0\n",
      "10:predict:6 real:0\n",
      "12:predict:7 real:0\n",
      "18:predict:7 real:0\n",
      "21:predict:7 real:0\n",
      "38:predict:7 real:0\n",
      "48:predict:6 real:0\n",
      "56:predict:6 real:0\n",
      "59:predict:6 real:0\n",
      "69:predict:7 real:0\n",
      "72:predict:6 real:0\n",
      "77:predict:4 real:0\n",
      "83:predict:6 real:0\n",
      "85:predict:7 real:0\n",
      "91:predict:6 real:0\n",
      "94:predict:7 real:0\n",
      "96:predict:7 real:0\n",
      "99:predict:6 real:0\n"
     ]
    },
    {
     "data": {
      "text/plain": "<Figure size 432x288 with 1 Axes>",
      "image/png": "[encoded data removed]"
     },
     "metadata": {
      "needs_background": "light"
     },
     "output_type": "display_data"
    },
    {
     "ename": "KeyboardInterrupt",
     "evalue": "",
     "output_type": "error",
     "traceback": [
      "\u001B[1;31m---------------------------------------------------------------------------\u001B[0m",
      "\u001B[1;31mKeyboardInterrupt\u001B[0m                         Traceback (most recent call last)",
      "Input \u001B[1;32mIn [24]\u001B[0m, in \u001B[0;36m<cell line: 4>\u001B[1;34m()\u001B[0m\n\u001B[0;32m      3\u001B[0m accuacy \u001B[38;5;241m=\u001B[39m []\n\u001B[0;32m      4\u001B[0m \u001B[38;5;28;01mfor\u001B[39;00m img, labels,_ \u001B[38;5;129;01min\u001B[39;00m test_loader:\n\u001B[1;32m----> 5\u001B[0m     length \u001B[38;5;241m=\u001B[39m \u001B[38;5;28;43mlen\u001B[39;49m(labels)\n\u001B[0;32m      6\u001B[0m     output \u001B[38;5;241m=\u001B[39m net(img)\n\u001B[0;32m      7\u001B[0m     pred \u001B[38;5;241m=\u001B[39m output\u001B[38;5;241m.\u001B[39mdata\u001B[38;5;241m.\u001B[39mmax(\u001B[38;5;241m1\u001B[39m, keepdim\u001B[38;5;241m=\u001B[39m\u001B[38;5;28;01mTrue\u001B[39;00m)[\u001B[38;5;241m1\u001B[39m]\u001B[38;5;241m.\u001B[39mreshape(length)\n",
      "Input \u001B[1;32mIn [24]\u001B[0m, in \u001B[0;36m<cell line: 4>\u001B[1;34m()\u001B[0m\n\u001B[0;32m      3\u001B[0m accuacy \u001B[38;5;241m=\u001B[39m []\n\u001B[0;32m      4\u001B[0m \u001B[38;5;28;01mfor\u001B[39;00m img, labels,_ \u001B[38;5;129;01min\u001B[39;00m test_loader:\n\u001B[1;32m----> 5\u001B[0m     length \u001B[38;5;241m=\u001B[39m \u001B[38;5;28;43mlen\u001B[39;49m(labels)\n\u001B[0;32m      6\u001B[0m     output \u001B[38;5;241m=\u001B[39m net(img)\n\u001B[0;32m      7\u001B[0m     pred \u001B[38;5;241m=\u001B[39m output\u001B[38;5;241m.\u001B[39mdata\u001B[38;5;241m.\u001B[39mmax(\u001B[38;5;241m1\u001B[39m, keepdim\u001B[38;5;241m=\u001B[39m\u001B[38;5;28;01mTrue\u001B[39;00m)[\u001B[38;5;241m1\u001B[39m]\u001B[38;5;241m.\u001B[39mreshape(length)\n",
      "File \u001B[1;32m_pydevd_bundle\\pydevd_cython_win32_39_64.pyx:1180\u001B[0m, in \u001B[0;36m_pydevd_bundle.pydevd_cython_win32_39_64.SafeCallWrapper.__call__\u001B[1;34m()\u001B[0m\n",
      "File \u001B[1;32m_pydevd_bundle\\pydevd_cython_win32_39_64.pyx:621\u001B[0m, in \u001B[0;36m_pydevd_bundle.pydevd_cython_win32_39_64.PyDBFrame.trace_dispatch\u001B[1;34m()\u001B[0m\n",
      "File \u001B[1;32m_pydevd_bundle\\pydevd_cython_win32_39_64.pyx:930\u001B[0m, in \u001B[0;36m_pydevd_bundle.pydevd_cython_win32_39_64.PyDBFrame.trace_dispatch\u001B[1;34m()\u001B[0m\n",
      "File \u001B[1;32m_pydevd_bundle\\pydevd_cython_win32_39_64.pyx:921\u001B[0m, in \u001B[0;36m_pydevd_bundle.pydevd_cython_win32_39_64.PyDBFrame.trace_dispatch\u001B[1;34m()\u001B[0m\n",
      "File \u001B[1;32m_pydevd_bundle\\pydevd_cython_win32_39_64.pyx:318\u001B[0m, in \u001B[0;36m_pydevd_bundle.pydevd_cython_win32_39_64.PyDBFrame.do_wait_suspend\u001B[1;34m()\u001B[0m\n",
      "File \u001B[1;32mR:\\App\\JetBrains\\Toolbox\\apps\\PyCharm-P\\ch-0\\213.7172.26\\plugins\\python\\helpers\\pydev\\pydevd.py:1147\u001B[0m, in \u001B[0;36mPyDB.do_wait_suspend\u001B[1;34m(self, thread, frame, event, arg, send_suspend_message, is_unhandled_exception)\u001B[0m\n\u001B[0;32m   1144\u001B[0m         from_this_thread\u001B[38;5;241m.\u001B[39mappend(frame_id)\n\u001B[0;32m   1146\u001B[0m \u001B[38;5;28;01mwith\u001B[39;00m \u001B[38;5;28mself\u001B[39m\u001B[38;5;241m.\u001B[39m_threads_suspended_single_notification\u001B[38;5;241m.\u001B[39mnotify_thread_suspended(thread_id, stop_reason):\n\u001B[1;32m-> 1147\u001B[0m     \u001B[38;5;28;43mself\u001B[39;49m\u001B[38;5;241;43m.\u001B[39;49m\u001B[43m_do_wait_suspend\u001B[49m\u001B[43m(\u001B[49m\u001B[43mthread\u001B[49m\u001B[43m,\u001B[49m\u001B[43m \u001B[49m\u001B[43mframe\u001B[49m\u001B[43m,\u001B[49m\u001B[43m \u001B[49m\u001B[43mevent\u001B[49m\u001B[43m,\u001B[49m\u001B[43m \u001B[49m\u001B[43marg\u001B[49m\u001B[43m,\u001B[49m\u001B[43m \u001B[49m\u001B[43msuspend_type\u001B[49m\u001B[43m,\u001B[49m\u001B[43m \u001B[49m\u001B[43mfrom_this_thread\u001B[49m\u001B[43m)\u001B[49m\n",
      "File \u001B[1;32mR:\\App\\JetBrains\\Toolbox\\apps\\PyCharm-P\\ch-0\\213.7172.26\\plugins\\python\\helpers\\pydev\\pydevd.py:1162\u001B[0m, in \u001B[0;36mPyDB._do_wait_suspend\u001B[1;34m(self, thread, frame, event, arg, suspend_type, from_this_thread)\u001B[0m\n\u001B[0;32m   1159\u001B[0m             \u001B[38;5;28mself\u001B[39m\u001B[38;5;241m.\u001B[39m_call_mpl_hook()\n\u001B[0;32m   1161\u001B[0m         \u001B[38;5;28mself\u001B[39m\u001B[38;5;241m.\u001B[39mprocess_internal_commands()\n\u001B[1;32m-> 1162\u001B[0m         \u001B[43mtime\u001B[49m\u001B[38;5;241;43m.\u001B[39;49m\u001B[43msleep\u001B[49m\u001B[43m(\u001B[49m\u001B[38;5;241;43m0.01\u001B[39;49m\u001B[43m)\u001B[49m\n\u001B[0;32m   1164\u001B[0m \u001B[38;5;28mself\u001B[39m\u001B[38;5;241m.\u001B[39mcancel_async_evaluation(get_current_thread_id(thread), \u001B[38;5;28mstr\u001B[39m(\u001B[38;5;28mid\u001B[39m(frame)))\n\u001B[0;32m   1166\u001B[0m \u001B[38;5;66;03m# process any stepping instructions\u001B[39;00m\n",
      "\u001B[1;31mKeyboardInterrupt\u001B[0m: "
     ]
    },
    {
     "data": {
      "text/plain": "<Figure size 432x288 with 1 Axes>",
      "image/png": "[encoded data removed]"
     },
     "metadata": {
      "needs_background": "light"
     },
     "output_type": "display_data"
    }
   ],
   "source": [
    "import matplotlib.pyplot as plt\n",
    "\n",
    "accuacy = []\n",
    "for img, labels,_ in test_loader:\n",
    "    length = len(labels)\n",
    "    output = net(img)\n",
    "    pred = output.data.max(1, keepdim=True)[1].reshape(length)\n",
    "    pred = pred.numpy()\n",
    "    for i,p in enumerate(pred):\n",
    "        if p==labels[i]:\n",
    "            continue\n",
    "        # plt.imshow(img[i, 0, :, :].t(), cmap=\"gray\")\n",
    "        # plt.title('predict:{} real:{}'.format(name[pred[i]], name[labels[i]]))\n",
    "        # plt.show()\n",
    "        print('{}:predict:{} real:{}'.format(i,p, labels[i]))\n",
    "        err_idx = np.argwhere(pred != labels)\n",
    "        accuacy.append(100 - len(err_idx))\n",
    "plt.plot(accuacy)"
   ]
  },
  {
   "cell_type": "markdown",
   "metadata": {
    "collapsed": false,
    "pycharm": {
     "name": "#%% md\n"
    }
   },
   "source": [
    "## 单SNR测试"
   ]
  },
  {
   "cell_type": "code",
   "execution_count": 7,
   "metadata": {
    "collapsed": false,
    "pycharm": {
     "name": "#%%\n"
    }
   },
   "outputs": [
    {
     "data": {
      "text/plain": "<KeysViewHDF5 ['SNRData', 'SNRType']>"
     },
     "execution_count": 7,
     "metadata": {},
     "output_type": "execute_result"
    }
   ],
   "source": [
    "path = r\"E:\\test1.h5\"\n",
    "file = h5py.File(path, \"r\")\n",
    "file.keys()"
   ]
  },
  {
   "cell_type": "code",
   "execution_count": 35,
   "metadata": {
    "collapsed": false,
    "pycharm": {
     "name": "#%%\n"
    }
   },
   "outputs": [
    {
     "data": {
      "text/plain": [
       "<HDF5 dataset \"SNRType\": shape (5, 3280), type \"<f8\">"
      ]
     },
     "execution_count": 35,
     "metadata": {},
     "output_type": "execute_result"
    }
   ],
   "source": [
    "file['SNRType']"
   ]
  },
  {
   "cell_type": "code",
   "execution_count": 8,
   "metadata": {
    "collapsed": false,
    "pycharm": {
     "name": "#%%\n"
    }
   },
   "outputs": [],
   "source": [
    "file.close()"
   ]
  },
  {
   "cell_type": "code",
   "execution_count": 5,
   "metadata": {
    "collapsed": false,
    "pycharm": {
     "name": "#%%\n"
    }
   },
   "outputs": [],
   "source": [
    "class SNRDataSets(Dataset):\n",
    "    def __init__(self, file):\n",
    "        self.h5 = h5py.File(file, \"r\")\n",
    "        self.label_id = self.h5['SNRType']\n",
    "        _, self.length = self.label_id.shape\n",
    "        self.img = self.h5['SNRData']\n",
    "        self.toTensor = ToTensor()\n",
    "\n",
    "    def __getitem__(self, idx):\n",
    "        return (self.toTensor(self.img[:, :, idx]).float(),\n",
    "                torch.tensor(int(self.label_id[0, idx] - 1), dtype=torch.long),\n",
    "                torch.tensor(self.label_id[1, idx]))\n",
    "\n",
    "    def __len__(self):\n",
    "        return self.length\n",
    "\n",
    "    def __exit__(self, exc_type, exc_val, exc_tb):\n",
    "        self.h5.close()"
   ]
  },
  {
   "cell_type": "code",
   "execution_count": 9,
   "metadata": {
    "collapsed": false,
    "pycharm": {
     "name": "#%%\n"
    }
   },
   "outputs": [],
   "source": [
    "snr_dataset = SNRDataSets(path)\n",
    "snr_loader = torch.utils.data.DataLoader(\n",
    "    dataset=snr_dataset, batch_size=80,\n",
    "    shuffle=False, num_workers=0, drop_last=False)"
   ]
  },
  {
   "cell_type": "code",
   "execution_count": 45,
   "metadata": {
    "collapsed": false,
    "pycharm": {
     "name": "#%%\n"
    }
   },
   "outputs": [],
   "source": [
    "img, label, snr = next(iter(snr_loader))"
   ]
  },
  {
   "cell_type": "code",
   "execution_count": 46,
   "metadata": {
    "collapsed": false,
    "pycharm": {
     "name": "#%%\n"
    }
   },
   "outputs": [
    {
     "data": {
      "text/plain": [
       "torch.Size([80, 1, 196, 64])"
      ]
     },
     "execution_count": 46,
     "metadata": {},
     "output_type": "execute_result"
    }
   ],
   "source": [
    "img.shape"
   ]
  },
  {
   "cell_type": "code",
   "execution_count": 47,
   "metadata": {
    "collapsed": false,
    "pycharm": {
     "name": "#%%\n"
    }
   },
   "outputs": [
    {
     "data": {
      "text/plain": [
       "torch.Size([80])"
      ]
     },
     "execution_count": 47,
     "metadata": {},
     "output_type": "execute_result"
    }
   ],
   "source": [
    "label.shape"
   ]
  },
  {
   "cell_type": "code",
   "execution_count": 10,
   "metadata": {
    "collapsed": false,
    "pycharm": {
     "name": "#%%\n"
    }
   },
   "outputs": [
    {
     "name": "stderr",
     "output_type": "stream",
     "text": [
      "E:\\App\\Miniconda3\\envs\\torch-cuda\\lib\\site-packages\\torch\\nn\\modules\\container.py:141: UserWarning: Implicit dimension choice for softmax has been deprecated. Change the call to include dim=X as an argument.\n",
      "  input = module(input)\n"
     ]
    }
   ],
   "source": [
    "SNR_array = []\n",
    "accuracy_array = []\n",
    "for img, labels, snr in snr_loader:\n",
    "    length = len(labels)\n",
    "    output = net(img)\n",
    "    pred = output.data.max(1, keepdim=True)[1].reshape(length)\n",
    "    pred = pred.numpy()\n",
    "    labels = labels.reshape(length).numpy()\n",
    "    err_idx = np.argwhere(pred != labels)\n",
    "    # print(\"SNR:{} accuracy:{}%\".format(snr[0],80-80*len(err_idx)/80))\n",
    "    SNR_array.append(snr.tolist()[0])\n",
    "    accuracy_array.append((length - len(err_idx)) / length * 100)"
   ]
  },
  {
   "cell_type": "code",
   "execution_count": 12,
   "metadata": {
    "collapsed": false,
    "pycharm": {
     "name": "#%%\n"
    }
   },
   "outputs": [
    {
     "data": {
      "text/plain": "Text(0, 0.5, 'accuracy')"
     },
     "execution_count": 12,
     "metadata": {},
     "output_type": "execute_result"
    },
    {
     "data": {
      "text/plain": "<Figure size 432x288 with 1 Axes>",
      "image/png": "[encoded data removed]"
     },
     "metadata": {
      "needs_background": "light"
     },
     "output_type": "display_data"
    }
   ],
   "source": [
    "plt.plot(SNR_array, accuracy_array)\n",
    "plt.rcParams['font.sans-serif'] = ['SimHei']  #用来正常显示中文标签\n",
    "plt.rcParams['axes.unicode_minus'] = False  #用来正常显示负号\n",
    "\n",
    "plt.title(\"正确率与SNR的关系\")\n",
    "plt.xlabel(\"SNR\")\n",
    "plt.ylabel(\"accuracy\")"
   ]
  },
  {
   "cell_type": "code",
   "execution_count": null,
   "metadata": {
    "collapsed": false,
    "pycharm": {
     "name": "#%%\n"
    }
   },
   "outputs": [],
   "source": []
  }
 ],
 "metadata": {
  "kernelspec": {
   "display_name": "Python 3",
   "language": "python",
   "name": "python3"
  },
  "language_info": {
   "codemirror_mode": {
    "name": "ipython",
    "version": 3
   },
   "file_extension": ".py",
   "mimetype": "text/x-python",
   "name": "python",
   "nbconvert_exporter": "python",
   "pygments_lexer": "ipython3",
   "version": "3.9.7"
  }
 },
 "nbformat": 4,
 "nbformat_minor": 0
}