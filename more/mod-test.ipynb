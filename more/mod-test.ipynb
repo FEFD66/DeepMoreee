{
 "cells": [
  {
   "cell_type": "code",
   "execution_count": 1,
   "metadata": {
    "collapsed": false,
    "pycharm": {
     "name": "#%%\n"
    }
   },
   "outputs": [],
   "source": [
    "import h5py\n",
    "import numpy as np\n",
    "import torch\n",
    "import torch.utils.data\n",
    "from torch import nn\n",
    "from torch.utils.data import Dataset\n",
    "from torchvision.transforms import ToTensor\n",
    "from matplotlib import pyplot as plt"
   ]
  },
  {
   "cell_type": "code",
   "execution_count": 3,
   "metadata": {
    "collapsed": false,
    "pycharm": {
     "name": "#%%\n"
    }
   },
   "outputs": [],
   "source": [
    "class ModulationDataSets(Dataset):\n",
    "    def __init__(self, file):\n",
    "        self.h5 = h5py.File(file, \"r\")\n",
    "        self.label_id = self.h5['sampleType']\n",
    "        _, self.length = self.label_id.shape\n",
    "        self.img = self.h5['sampleData']\n",
    "        self.toTensor = ToTensor()\n",
    "\n",
    "    def __getitem__(self, idx):\n",
    "        return self.toTensor(self.img[:, :, idx]).float(), torch.tensor(int(self.label_id[0, idx] - 1),\n",
    "                                                                        dtype=torch.long), torch.tensor(\n",
    "            int(self.label_id[1, idx]), dtype=torch.long)\n",
    "\n",
    "    def __len__(self):\n",
    "        return self.length\n",
    "\n",
    "    def __exit__(self, exc_type, exc_val, exc_tb):\n",
    "        self.h5.close()"
   ]
  },
  {
   "cell_type": "code",
   "execution_count": null,
   "metadata": {
    "collapsed": false,
    "pycharm": {
     "is_executing": true,
     "name": "#%%\n"
    }
   },
   "outputs": [],
   "source": [
    "torch.load(\"basic-8.parm\")"
   ]
  },
  {
   "cell_type": "code",
   "execution_count": 2,
   "metadata": {
    "collapsed": false,
    "pycharm": {
     "name": "#%%\n"
    }
   },
   "outputs": [
    {
     "data": {
      "text/plain": "Sequential(\n  (0): Conv2d(1, 10, kernel_size=(5, 5), stride=(1, 1))\n  (1): MaxPool2d(kernel_size=2, stride=2, padding=0, dilation=1, ceil_mode=False)\n  (2): ReLU()\n  (3): Conv2d(10, 20, kernel_size=(5, 5), stride=(1, 1))\n  (4): Dropout2d(p=0.2, inplace=False)\n  (5): MaxPool2d(kernel_size=2, stride=2, padding=0, dilation=1, ceil_mode=False)\n  (6): ReLU()\n  (7): Flatten(start_dim=1, end_dim=-1)\n  (8): Linear(in_features=11960, out_features=4096, bias=True)\n  (9): ReLU()\n  (10): Linear(in_features=4096, out_features=50, bias=True)\n  (11): ReLU()\n  (12): Dropout(p=0, inplace=False)\n  (13): Linear(in_features=50, out_features=8, bias=True)\n  (14): Softmax(dim=None)\n)"
     },
     "execution_count": 2,
     "metadata": {},
     "output_type": "execute_result"
    }
   ],
   "source": [
    "net = nn.Sequential(\n",
    "    nn.Conv2d(1, 10, kernel_size=5), nn.MaxPool2d(2), nn.ReLU(),\n",
    "    nn.Conv2d(10, 20, kernel_size=5), nn.Dropout2d(0.2), nn.MaxPool2d(2), nn.ReLU(),\n",
    "    nn.Flatten(),\n",
    "    nn.Linear(11960, 4096), nn.ReLU(),\n",
    "    nn.Linear(4096, 50), nn.ReLU(),\n",
    "    nn.Dropout(0),\n",
    "    nn.Linear(50, 8),\n",
    "    nn.Softmax()\n",
    ")\n",
    "net.load_state_dict(torch.load(\"basic-8.parm\"))\n",
    "net.eval()"
   ]
  },
  {
   "cell_type": "code",
   "execution_count": 16,
   "metadata": {
    "collapsed": false,
    "pycharm": {
     "name": "#%%\n"
    }
   },
   "outputs": [
    {
     "ename": "RuntimeError",
     "evalue": "Input type (torch.FloatTensor) and weight type (torch.cuda.FloatTensor) should be the same or input should be a MKLDNN tensor and weight is a dense tensor",
     "output_type": "error",
     "traceback": [
      "\u001B[1;31m---------------------------------------------------------------------------\u001B[0m",
      "\u001B[1;31mRuntimeError\u001B[0m                              Traceback (most recent call last)",
      "Input \u001B[1;32mIn [16]\u001B[0m, in \u001B[0;36m<module>\u001B[1;34m\u001B[0m\n\u001B[0;32m      1\u001B[0m X \u001B[38;5;241m=\u001B[39m torch\u001B[38;5;241m.\u001B[39mrand(size\u001B[38;5;241m=\u001B[39m(\u001B[38;5;241m1\u001B[39m, \u001B[38;5;241m1\u001B[39m, \u001B[38;5;241m196\u001B[39m, \u001B[38;5;241m64\u001B[39m), dtype\u001B[38;5;241m=\u001B[39mtorch\u001B[38;5;241m.\u001B[39mfloat32)\n\u001B[0;32m      2\u001B[0m \u001B[38;5;28;01mfor\u001B[39;00m layer \u001B[38;5;129;01min\u001B[39;00m net:\n\u001B[1;32m----> 3\u001B[0m     X \u001B[38;5;241m=\u001B[39m \u001B[43mlayer\u001B[49m\u001B[43m(\u001B[49m\u001B[43mX\u001B[49m\u001B[43m)\u001B[49m\n\u001B[0;32m      4\u001B[0m     \u001B[38;5;28mprint\u001B[39m(layer\u001B[38;5;241m.\u001B[39m\u001B[38;5;18m__class__\u001B[39m\u001B[38;5;241m.\u001B[39m\u001B[38;5;18m__name__\u001B[39m, \u001B[38;5;124m\"\u001B[39m\u001B[38;5;124moutput shape: \u001B[39m\u001B[38;5;130;01m\\t\u001B[39;00m\u001B[38;5;124m\"\u001B[39m, X\u001B[38;5;241m.\u001B[39mshape)\n",
      "File \u001B[1;32mE:\\App\\Miniconda3\\envs\\torch-cuda\\lib\\site-packages\\torch\\nn\\modules\\module.py:1102\u001B[0m, in \u001B[0;36mModule._call_impl\u001B[1;34m(self, *input, **kwargs)\u001B[0m\n\u001B[0;32m   1098\u001B[0m \u001B[38;5;66;03m# If we don't have any hooks, we want to skip the rest of the logic in\u001B[39;00m\n\u001B[0;32m   1099\u001B[0m \u001B[38;5;66;03m# this function, and just call forward.\u001B[39;00m\n\u001B[0;32m   1100\u001B[0m \u001B[38;5;28;01mif\u001B[39;00m \u001B[38;5;129;01mnot\u001B[39;00m (\u001B[38;5;28mself\u001B[39m\u001B[38;5;241m.\u001B[39m_backward_hooks \u001B[38;5;129;01mor\u001B[39;00m \u001B[38;5;28mself\u001B[39m\u001B[38;5;241m.\u001B[39m_forward_hooks \u001B[38;5;129;01mor\u001B[39;00m \u001B[38;5;28mself\u001B[39m\u001B[38;5;241m.\u001B[39m_forward_pre_hooks \u001B[38;5;129;01mor\u001B[39;00m _global_backward_hooks\n\u001B[0;32m   1101\u001B[0m         \u001B[38;5;129;01mor\u001B[39;00m _global_forward_hooks \u001B[38;5;129;01mor\u001B[39;00m _global_forward_pre_hooks):\n\u001B[1;32m-> 1102\u001B[0m     \u001B[38;5;28;01mreturn\u001B[39;00m forward_call(\u001B[38;5;241m*\u001B[39m\u001B[38;5;28minput\u001B[39m, \u001B[38;5;241m*\u001B[39m\u001B[38;5;241m*\u001B[39mkwargs)\n\u001B[0;32m   1103\u001B[0m \u001B[38;5;66;03m# Do not call functions when jit is used\u001B[39;00m\n\u001B[0;32m   1104\u001B[0m full_backward_hooks, non_full_backward_hooks \u001B[38;5;241m=\u001B[39m [], []\n",
      "File \u001B[1;32mE:\\App\\Miniconda3\\envs\\torch-cuda\\lib\\site-packages\\torch\\nn\\modules\\conv.py:446\u001B[0m, in \u001B[0;36mConv2d.forward\u001B[1;34m(self, input)\u001B[0m\n\u001B[0;32m    445\u001B[0m \u001B[38;5;28;01mdef\u001B[39;00m \u001B[38;5;21mforward\u001B[39m(\u001B[38;5;28mself\u001B[39m, \u001B[38;5;28minput\u001B[39m: Tensor) \u001B[38;5;241m-\u001B[39m\u001B[38;5;241m>\u001B[39m Tensor:\n\u001B[1;32m--> 446\u001B[0m     \u001B[38;5;28;01mreturn\u001B[39;00m \u001B[38;5;28;43mself\u001B[39;49m\u001B[38;5;241;43m.\u001B[39;49m\u001B[43m_conv_forward\u001B[49m\u001B[43m(\u001B[49m\u001B[38;5;28;43minput\u001B[39;49m\u001B[43m,\u001B[49m\u001B[43m \u001B[49m\u001B[38;5;28;43mself\u001B[39;49m\u001B[38;5;241;43m.\u001B[39;49m\u001B[43mweight\u001B[49m\u001B[43m,\u001B[49m\u001B[43m \u001B[49m\u001B[38;5;28;43mself\u001B[39;49m\u001B[38;5;241;43m.\u001B[39;49m\u001B[43mbias\u001B[49m\u001B[43m)\u001B[49m\n",
      "File \u001B[1;32mE:\\App\\Miniconda3\\envs\\torch-cuda\\lib\\site-packages\\torch\\nn\\modules\\conv.py:442\u001B[0m, in \u001B[0;36mConv2d._conv_forward\u001B[1;34m(self, input, weight, bias)\u001B[0m\n\u001B[0;32m    438\u001B[0m \u001B[38;5;28;01mif\u001B[39;00m \u001B[38;5;28mself\u001B[39m\u001B[38;5;241m.\u001B[39mpadding_mode \u001B[38;5;241m!=\u001B[39m \u001B[38;5;124m'\u001B[39m\u001B[38;5;124mzeros\u001B[39m\u001B[38;5;124m'\u001B[39m:\n\u001B[0;32m    439\u001B[0m     \u001B[38;5;28;01mreturn\u001B[39;00m F\u001B[38;5;241m.\u001B[39mconv2d(F\u001B[38;5;241m.\u001B[39mpad(\u001B[38;5;28minput\u001B[39m, \u001B[38;5;28mself\u001B[39m\u001B[38;5;241m.\u001B[39m_reversed_padding_repeated_twice, mode\u001B[38;5;241m=\u001B[39m\u001B[38;5;28mself\u001B[39m\u001B[38;5;241m.\u001B[39mpadding_mode),\n\u001B[0;32m    440\u001B[0m                     weight, bias, \u001B[38;5;28mself\u001B[39m\u001B[38;5;241m.\u001B[39mstride,\n\u001B[0;32m    441\u001B[0m                     _pair(\u001B[38;5;241m0\u001B[39m), \u001B[38;5;28mself\u001B[39m\u001B[38;5;241m.\u001B[39mdilation, \u001B[38;5;28mself\u001B[39m\u001B[38;5;241m.\u001B[39mgroups)\n\u001B[1;32m--> 442\u001B[0m \u001B[38;5;28;01mreturn\u001B[39;00m \u001B[43mF\u001B[49m\u001B[38;5;241;43m.\u001B[39;49m\u001B[43mconv2d\u001B[49m\u001B[43m(\u001B[49m\u001B[38;5;28;43minput\u001B[39;49m\u001B[43m,\u001B[49m\u001B[43m \u001B[49m\u001B[43mweight\u001B[49m\u001B[43m,\u001B[49m\u001B[43m \u001B[49m\u001B[43mbias\u001B[49m\u001B[43m,\u001B[49m\u001B[43m \u001B[49m\u001B[38;5;28;43mself\u001B[39;49m\u001B[38;5;241;43m.\u001B[39;49m\u001B[43mstride\u001B[49m\u001B[43m,\u001B[49m\n\u001B[0;32m    443\u001B[0m \u001B[43m                \u001B[49m\u001B[38;5;28;43mself\u001B[39;49m\u001B[38;5;241;43m.\u001B[39;49m\u001B[43mpadding\u001B[49m\u001B[43m,\u001B[49m\u001B[43m \u001B[49m\u001B[38;5;28;43mself\u001B[39;49m\u001B[38;5;241;43m.\u001B[39;49m\u001B[43mdilation\u001B[49m\u001B[43m,\u001B[49m\u001B[43m \u001B[49m\u001B[38;5;28;43mself\u001B[39;49m\u001B[38;5;241;43m.\u001B[39;49m\u001B[43mgroups\u001B[49m\u001B[43m)\u001B[49m\n",
      "\u001B[1;31mRuntimeError\u001B[0m: Input type (torch.FloatTensor) and weight type (torch.cuda.FloatTensor) should be the same or input should be a MKLDNN tensor and weight is a dense tensor"
     ]
    }
   ],
   "source": [
    "X = torch.rand(size=(1, 1, 196, 64), dtype=torch.float32)\n",
    "for layer in net:\n",
    "    X = layer(X)\n",
    "    print(layer.__class__.__name__, \"output shape: \\t\", X.shape)"
   ]
  },
  {
   "cell_type": "code",
   "execution_count": 7,
   "metadata": {
    "collapsed": false,
    "pycharm": {
     "name": "#%%\n"
    }
   },
   "outputs": [],
   "source": [
    "train_path = r'E:\\test.h5'\n",
    "test_path = r'E:\\train.h5'\n",
    "train_dataset = ModulationDataSets(train_path)\n",
    "test_dataset = ModulationDataSets(test_path)\n",
    "batch_size = 100\n",
    "train_loader = torch.utils.data.DataLoader(\n",
    "    dataset=train_dataset, batch_size=batch_size, shuffle=True,\n",
    "    num_workers=0, drop_last=False)\n",
    "test_loader = torch.utils.data.DataLoader(\n",
    "    dataset=test_dataset, batch_size=batch_size,\n",
    "    shuffle=False, num_workers=0, drop_last=False)"
   ]
  },
  {
   "cell_type": "markdown",
   "metadata": {
    "collapsed": false,
    "pycharm": {
     "name": "#%% md\n"
    }
   },
   "source": [
    "## 提取单独类型"
   ]
  },
  {
   "cell_type": "code",
   "execution_count": 3,
   "metadata": {
    "collapsed": false,
    "pycharm": {
     "name": "#%%\n"
    }
   },
   "outputs": [],
   "source": [
    "name = ['singlepulse', 'freqdiv', 'LFM', 'QFM', '2FSK', '4FSK', 'BPSK', 'QPSK']"
   ]
  },
  {
   "cell_type": "code",
   "execution_count": 63,
   "metadata": {
    "collapsed": false,
    "pycharm": {
     "name": "#%%\n"
    }
   },
   "outputs": [],
   "source": [
    "path = r\"E:\\train-full.h5\"\n",
    "h5 = h5py.File(path)\n",
    "g_label = h5['sampleType'][:]\n",
    "g_data = h5['sampleData'][:, :, :]\n",
    "h5.close()\n",
    "toTensor = ToTensor()"
   ]
  },
  {
   "cell_type": "code",
   "execution_count": 50,
   "outputs": [
    {
     "name": "stdout",
     "output_type": "stream",
     "text": [
      "133\n"
     ]
    }
   ],
   "source": [
    "def filter(type=None, snr=None) -> np.ndarray:\n",
    "    full = (g_label[0, :] != None)\n",
    "    if (type != None):\n",
    "        full = full & (g_label[0, :] == type)\n",
    "    if (snr != None):\n",
    "        full = full & (g_label[1, :] == snr)\n",
    "    # 将TrueFalse数组转换为索引\n",
    "    ids = np.argwhere(full).reshape(-1)\n",
    "    return ids\n",
    "\n",
    "\n",
    "def getData(type, snr):\n",
    "    ids = filter(type, snr).tolist()\n",
    "    length = len(ids)\n",
    "    return g_data[:, :, ids], g_label[0, ids].reshape(1, -1)\n",
    "\n",
    "\n",
    "class TypeSet(Dataset):\n",
    "    def __init__(self, type, snr):\n",
    "        self.img, self.label = getData(type, snr)\n",
    "        _, self.length = self.label.shape\n",
    "\n",
    "    def __getitem__(self, idx):\n",
    "        return toTensor(self.img[:, :, idx]).float(), torch.tensor(self.label[0, idx] - 1, dtype=torch.int)\n",
    "\n",
    "    def __len__(self):\n",
    "        return self.length\n",
    "\n",
    "\n",
    "def getLoader(type, snr):\n",
    "    set = TypeSet(type, snr)\n",
    "    #print(set.__len__())\n",
    "    return torch.utils.data.DataLoader(\n",
    "        dataset=set, batch_size=set.__len__(), shuffle=False,\n",
    "        num_workers=0, drop_last=False)\n",
    "\n",
    "\n",
    "x = getLoader(1, -10)"
   ],
   "metadata": {
    "collapsed": false,
    "pycharm": {
     "name": "#%%\n"
    }
   }
  },
  {
   "cell_type": "code",
   "execution_count": 41,
   "outputs": [
    {
     "data": {
      "text/plain": "((196, 64, 133), (1, 133))"
     },
     "execution_count": 41,
     "metadata": {},
     "output_type": "execute_result"
    }
   ],
   "source": [
    "x, y = getData(1, -10)\n",
    "x.shape, y.shape"
   ],
   "metadata": {
    "collapsed": false,
    "pycharm": {
     "name": "#%%\n"
    }
   }
  },
  {
   "cell_type": "code",
   "execution_count": 30,
   "outputs": [
    {
     "name": "stderr",
     "output_type": "stream",
     "text": [
      "C:\\Users\\ZGYwi\\AppData\\Local\\Temp\\ipykernel_3360\\3228186593.py:24: DeprecationWarning: an integer is required (got type numpy.float64).  Implicit conversion to integers using __int__ is deprecated, and may be removed in a future version of Python.\n",
      "  return toTensor(self.img[:, :, idx]), torch.tensor(self.label[idx] - 1, dtype=torch.int)\n"
     ]
    },
    {
     "data": {
      "text/plain": "(torch.Size([121, 1, 196, 64]), torch.Size([121]))"
     },
     "execution_count": 30,
     "metadata": {},
     "output_type": "execute_result"
    }
   ],
   "source": [
    "img, label = next(iter(x))\n",
    "img.shape, label.shape"
   ],
   "metadata": {
    "collapsed": false,
    "pycharm": {
     "name": "#%%\n"
    }
   }
  },
  {
   "cell_type": "code",
   "execution_count": 38,
   "outputs": [
    {
     "data": {
      "text/plain": "(numpy.ndarray, (196, 64, 121))"
     },
     "execution_count": 38,
     "metadata": {},
     "output_type": "execute_result"
    }
   ],
   "source": [
    "ids = filter(1, 2)\n",
    "x = g_data[:, :, ids].reshape(196, 64, -1)\n",
    "type(x), x.shape"
   ],
   "metadata": {
    "collapsed": false,
    "pycharm": {
     "name": "#%%\n"
    }
   }
  },
  {
   "cell_type": "code",
   "execution_count": null,
   "outputs": [],
   "source": [
    "getData(1, -10)"
   ],
   "metadata": {
    "collapsed": false,
    "pycharm": {
     "name": "#%%\n",
     "is_executing": true
    }
   }
  },
  {
   "cell_type": "code",
   "execution_count": 7,
   "outputs": [
    {
     "name": "stderr",
     "output_type": "stream",
     "text": [
      "E:\\App\\Miniconda3\\envs\\torch-cuda\\lib\\site-packages\\torch\\nn\\modules\\container.py:141: UserWarning: Implicit dimension choice for softmax has been deprecated. Change the call to include dim=X as an argument.\n",
      "  input = module(input)\n"
     ]
    },
    {
     "data": {
      "text/plain": "torch.Size([121, 8])"
     },
     "execution_count": 7,
     "metadata": {},
     "output_type": "execute_result"
    }
   ],
   "source": [
    "output = net(img)\n",
    "output.shape"
   ],
   "metadata": {
    "collapsed": false,
    "pycharm": {
     "name": "#%%\n"
    }
   }
  },
  {
   "cell_type": "code",
   "execution_count": 64,
   "metadata": {
    "collapsed": false,
    "pycharm": {
     "name": "#%%\n"
    }
   },
   "outputs": [
    {
     "name": "stdout",
     "output_type": "stream",
     "text": [
      "104\n"
     ]
    },
    {
     "name": "stderr",
     "output_type": "stream",
     "text": [
      "C:\\Users\\ZGYwi\\AppData\\Local\\Temp\\ipykernel_3360\\997630043.py:24: DeprecationWarning: an integer is required (got type numpy.float64).  Implicit conversion to integers using __int__ is deprecated, and may be removed in a future version of Python.\n",
      "  return toTensor(self.img[:, :, idx]).float(), torch.tensor(self.label[0,idx] - 1, dtype=torch.int)\n",
      "E:\\App\\Miniconda3\\envs\\torch-cuda\\lib\\site-packages\\torch\\nn\\modules\\container.py:141: UserWarning: Implicit dimension choice for softmax has been deprecated. Change the call to include dim=X as an argument.\n",
      "  input = module(input)\n"
     ]
    },
    {
     "name": "stdout",
     "output_type": "stream",
     "text": [
      "singlepulse:\t -10dB\t accuracy:51.92307692307692%\n",
      "119\n",
      "singlepulse:\t -9dB\t accuracy:63.02521008403362%\n",
      "128\n",
      "singlepulse:\t -8dB\t accuracy:60.15625%\n",
      "106\n",
      "singlepulse:\t -7dB\t accuracy:75.47169811320755%\n",
      "122\n",
      "singlepulse:\t -6dB\t accuracy:81.14754098360656%\n",
      "132\n",
      "singlepulse:\t -5dB\t accuracy:84.0909090909091%\n",
      "139\n",
      "singlepulse:\t -4dB\t accuracy:86.33093525179856%\n",
      "114\n",
      "singlepulse:\t -3dB\t accuracy:90.35087719298245%\n",
      "123\n",
      "singlepulse:\t -2dB\t accuracy:92.6829268292683%\n",
      "114\n",
      "singlepulse:\t -1dB\t accuracy:96.49122807017544%\n",
      "128\n",
      "singlepulse:\t 0dB\t accuracy:99.21875%\n",
      "120\n",
      "singlepulse:\t 1dB\t accuracy:100.0%\n",
      "113\n",
      "singlepulse:\t 2dB\t accuracy:100.0%\n",
      "111\n",
      "singlepulse:\t 3dB\t accuracy:100.0%\n",
      "130\n",
      "singlepulse:\t 4dB\t accuracy:100.0%\n",
      "135\n",
      "singlepulse:\t 5dB\t accuracy:100.0%\n",
      "132\n",
      "singlepulse:\t 6dB\t accuracy:100.0%\n",
      "118\n",
      "singlepulse:\t 7dB\t accuracy:100.0%\n",
      "125\n",
      "singlepulse:\t 8dB\t accuracy:100.0%\n",
      "130\n",
      "singlepulse:\t 9dB\t accuracy:100.0%\n",
      "137\n",
      "singlepulse:\t 10dB\t accuracy:100.0%\n",
      "101\n",
      "singlepulse:\t 11dB\t accuracy:100.0%\n",
      "118\n",
      "singlepulse:\t 12dB\t accuracy:100.0%\n",
      "141\n",
      "singlepulse:\t 13dB\t accuracy:100.0%\n",
      "114\n",
      "singlepulse:\t 14dB\t accuracy:100.0%\n",
      "127\n",
      "singlepulse:\t 15dB\t accuracy:100.0%\n",
      "122\n",
      "singlepulse:\t 16dB\t accuracy:100.0%\n",
      "131\n",
      "singlepulse:\t 17dB\t accuracy:100.0%\n",
      "109\n",
      "singlepulse:\t 18dB\t accuracy:100.0%\n",
      "133\n",
      "singlepulse:\t 19dB\t accuracy:100.0%\n",
      "131\n",
      "singlepulse:\t 20dB\t accuracy:100.0%\n",
      "118\n",
      "singlepulse:\t 21dB\t accuracy:100.0%\n",
      "122\n",
      "singlepulse:\t 22dB\t accuracy:100.0%\n",
      "128\n",
      "singlepulse:\t 23dB\t accuracy:100.0%\n",
      "132\n",
      "singlepulse:\t 24dB\t accuracy:100.0%\n",
      "110\n",
      "singlepulse:\t 25dB\t accuracy:100.0%\n",
      "121\n",
      "singlepulse:\t 26dB\t accuracy:100.0%\n",
      "111\n",
      "singlepulse:\t 27dB\t accuracy:100.0%\n",
      "118\n",
      "singlepulse:\t 28dB\t accuracy:100.0%\n",
      "111\n",
      "singlepulse:\t 29dB\t accuracy:100.0%\n",
      "122\n",
      "singlepulse:\t 30dB\t accuracy:100.0%\n",
      "109\n",
      "freqdiv:\t -10dB\t accuracy:92.66055045871559%\n",
      "118\n",
      "freqdiv:\t -9dB\t accuracy:95.76271186440678%\n",
      "136\n",
      "freqdiv:\t -8dB\t accuracy:94.8529411764706%\n",
      "115\n",
      "freqdiv:\t -7dB\t accuracy:94.78260869565217%\n",
      "141\n",
      "freqdiv:\t -6dB\t accuracy:97.87234042553192%\n",
      "134\n",
      "freqdiv:\t -5dB\t accuracy:99.25373134328358%\n",
      "107\n",
      "freqdiv:\t -4dB\t accuracy:96.26168224299066%\n",
      "126\n",
      "freqdiv:\t -3dB\t accuracy:99.2063492063492%\n",
      "120\n",
      "freqdiv:\t -2dB\t accuracy:100.0%\n",
      "130\n",
      "freqdiv:\t -1dB\t accuracy:96.15384615384616%\n",
      "124\n",
      "freqdiv:\t 0dB\t accuracy:99.19354838709677%\n",
      "119\n",
      "freqdiv:\t 1dB\t accuracy:95.7983193277311%\n",
      "119\n",
      "freqdiv:\t 2dB\t accuracy:98.31932773109244%\n",
      "122\n",
      "freqdiv:\t 3dB\t accuracy:98.36065573770492%\n",
      "141\n",
      "freqdiv:\t 4dB\t accuracy:97.87234042553192%\n",
      "105\n",
      "freqdiv:\t 5dB\t accuracy:99.04761904761905%\n",
      "127\n",
      "freqdiv:\t 6dB\t accuracy:99.21259842519684%\n",
      "128\n",
      "freqdiv:\t 7dB\t accuracy:96.875%\n",
      "113\n",
      "freqdiv:\t 8dB\t accuracy:99.11504424778761%\n",
      "134\n",
      "freqdiv:\t 9dB\t accuracy:98.50746268656717%\n",
      "116\n",
      "freqdiv:\t 10dB\t accuracy:95.6896551724138%\n",
      "125\n",
      "freqdiv:\t 11dB\t accuracy:98.4%\n",
      "119\n",
      "freqdiv:\t 12dB\t accuracy:98.31932773109244%\n",
      "100\n",
      "freqdiv:\t 13dB\t accuracy:96.0%\n",
      "126\n",
      "freqdiv:\t 14dB\t accuracy:100.0%\n",
      "110\n",
      "freqdiv:\t 15dB\t accuracy:99.0909090909091%\n",
      "109\n",
      "freqdiv:\t 16dB\t accuracy:98.1651376146789%\n",
      "129\n",
      "freqdiv:\t 17dB\t accuracy:99.2248062015504%\n",
      "116\n",
      "freqdiv:\t 18dB\t accuracy:97.41379310344827%\n",
      "129\n",
      "freqdiv:\t 19dB\t accuracy:98.44961240310077%\n",
      "120\n",
      "freqdiv:\t 20dB\t accuracy:99.16666666666667%\n",
      "140\n",
      "freqdiv:\t 21dB\t accuracy:97.14285714285714%\n",
      "116\n",
      "freqdiv:\t 22dB\t accuracy:99.13793103448276%\n",
      "122\n",
      "freqdiv:\t 23dB\t accuracy:100.0%\n",
      "121\n",
      "freqdiv:\t 24dB\t accuracy:97.52066115702479%\n",
      "127\n",
      "freqdiv:\t 25dB\t accuracy:98.4251968503937%\n",
      "122\n",
      "freqdiv:\t 26dB\t accuracy:98.36065573770492%\n",
      "134\n",
      "freqdiv:\t 27dB\t accuracy:99.25373134328358%\n",
      "128\n",
      "freqdiv:\t 28dB\t accuracy:96.09375%\n",
      "114\n",
      "freqdiv:\t 29dB\t accuracy:98.24561403508773%\n",
      "109\n",
      "freqdiv:\t 30dB\t accuracy:98.1651376146789%\n",
      "136\n",
      "LFM:\t -10dB\t accuracy:98.52941176470588%\n",
      "107\n",
      "LFM:\t -9dB\t accuracy:100.0%\n",
      "86\n",
      "LFM:\t -8dB\t accuracy:100.0%\n",
      "125\n",
      "LFM:\t -7dB\t accuracy:100.0%\n",
      "96\n",
      "LFM:\t -6dB\t accuracy:100.0%\n",
      "126\n",
      "LFM:\t -5dB\t accuracy:100.0%\n",
      "111\n",
      "LFM:\t -4dB\t accuracy:100.0%\n",
      "120\n",
      "LFM:\t -3dB\t accuracy:100.0%\n",
      "113\n",
      "LFM:\t -2dB\t accuracy:100.0%\n",
      "120\n",
      "LFM:\t -1dB\t accuracy:100.0%\n",
      "128\n",
      "LFM:\t 0dB\t accuracy:100.0%\n",
      "115\n",
      "LFM:\t 1dB\t accuracy:99.1304347826087%\n",
      "110\n",
      "LFM:\t 2dB\t accuracy:100.0%\n",
      "124\n",
      "LFM:\t 3dB\t accuracy:100.0%\n",
      "117\n",
      "LFM:\t 4dB\t accuracy:100.0%\n",
      "114\n",
      "LFM:\t 5dB\t accuracy:100.0%\n",
      "119\n",
      "LFM:\t 6dB\t accuracy:100.0%\n",
      "115\n",
      "LFM:\t 7dB\t accuracy:100.0%\n",
      "134\n",
      "LFM:\t 8dB\t accuracy:100.0%\n",
      "126\n",
      "LFM:\t 9dB\t accuracy:100.0%\n",
      "109\n",
      "LFM:\t 10dB\t accuracy:100.0%\n",
      "102\n",
      "LFM:\t 11dB\t accuracy:100.0%\n",
      "145\n",
      "LFM:\t 12dB\t accuracy:100.0%\n",
      "126\n",
      "LFM:\t 13dB\t accuracy:100.0%\n",
      "122\n",
      "LFM:\t 14dB\t accuracy:100.0%\n",
      "126\n",
      "LFM:\t 15dB\t accuracy:100.0%\n",
      "114\n",
      "LFM:\t 16dB\t accuracy:100.0%\n",
      "125\n",
      "LFM:\t 17dB\t accuracy:100.0%\n",
      "129\n",
      "LFM:\t 18dB\t accuracy:100.0%\n",
      "132\n",
      "LFM:\t 19dB\t accuracy:100.0%\n",
      "140\n",
      "LFM:\t 20dB\t accuracy:100.0%\n",
      "118\n",
      "LFM:\t 21dB\t accuracy:100.0%\n",
      "135\n",
      "LFM:\t 22dB\t accuracy:100.0%\n",
      "115\n",
      "LFM:\t 23dB\t accuracy:100.0%\n",
      "129\n",
      "LFM:\t 24dB\t accuracy:100.0%\n",
      "116\n",
      "LFM:\t 25dB\t accuracy:100.0%\n",
      "133\n",
      "LFM:\t 26dB\t accuracy:100.0%\n",
      "133\n",
      "LFM:\t 27dB\t accuracy:100.0%\n",
      "143\n",
      "LFM:\t 28dB\t accuracy:100.0%\n",
      "136\n",
      "LFM:\t 29dB\t accuracy:100.0%\n",
      "130\n",
      "LFM:\t 30dB\t accuracy:100.0%\n",
      "116\n",
      "QFM:\t -10dB\t accuracy:92.24137931034483%\n",
      "123\n",
      "QFM:\t -9dB\t accuracy:89.4308943089431%\n",
      "99\n",
      "QFM:\t -8dB\t accuracy:87.87878787878788%\n",
      "128\n",
      "QFM:\t -7dB\t accuracy:90.625%\n",
      "125\n",
      "QFM:\t -6dB\t accuracy:90.4%\n",
      "137\n",
      "QFM:\t -5dB\t accuracy:94.16058394160584%\n",
      "109\n",
      "QFM:\t -4dB\t accuracy:98.1651376146789%\n",
      "100\n",
      "QFM:\t -3dB\t accuracy:95.0%\n",
      "122\n",
      "QFM:\t -2dB\t accuracy:94.26229508196721%\n",
      "116\n",
      "QFM:\t -1dB\t accuracy:97.41379310344827%\n",
      "114\n",
      "QFM:\t 0dB\t accuracy:98.24561403508773%\n",
      "121\n",
      "QFM:\t 1dB\t accuracy:96.69421487603306%\n",
      "130\n",
      "QFM:\t 2dB\t accuracy:95.38461538461539%\n",
      "113\n",
      "QFM:\t 3dB\t accuracy:99.11504424778761%\n",
      "121\n",
      "QFM:\t 4dB\t accuracy:96.69421487603306%\n",
      "143\n",
      "QFM:\t 5dB\t accuracy:97.9020979020979%\n",
      "130\n",
      "QFM:\t 6dB\t accuracy:98.46153846153847%\n",
      "109\n",
      "QFM:\t 7dB\t accuracy:99.08256880733946%\n",
      "136\n",
      "QFM:\t 8dB\t accuracy:97.79411764705883%\n",
      "112\n",
      "QFM:\t 9dB\t accuracy:100.0%\n",
      "110\n",
      "QFM:\t 10dB\t accuracy:100.0%\n",
      "126\n",
      "QFM:\t 11dB\t accuracy:99.2063492063492%\n",
      "119\n",
      "QFM:\t 12dB\t accuracy:97.47899159663865%\n",
      "115\n",
      "QFM:\t 13dB\t accuracy:100.0%\n",
      "125\n",
      "QFM:\t 14dB\t accuracy:98.4%\n",
      "127\n",
      "QFM:\t 15dB\t accuracy:98.4251968503937%\n",
      "123\n",
      "QFM:\t 16dB\t accuracy:99.1869918699187%\n",
      "135\n",
      "QFM:\t 17dB\t accuracy:94.81481481481481%\n",
      "130\n",
      "QFM:\t 18dB\t accuracy:97.6923076923077%\n",
      "131\n",
      "QFM:\t 19dB\t accuracy:99.23664122137404%\n",
      "123\n",
      "QFM:\t 20dB\t accuracy:96.7479674796748%\n",
      "114\n",
      "QFM:\t 21dB\t accuracy:99.12280701754386%\n",
      "107\n",
      "QFM:\t 22dB\t accuracy:99.06542056074767%\n",
      "132\n",
      "QFM:\t 23dB\t accuracy:98.48484848484848%\n",
      "130\n",
      "QFM:\t 24dB\t accuracy:98.46153846153847%\n",
      "127\n",
      "QFM:\t 25dB\t accuracy:98.4251968503937%\n",
      "128\n",
      "QFM:\t 26dB\t accuracy:98.4375%\n",
      "112\n",
      "QFM:\t 27dB\t accuracy:99.10714285714286%\n",
      "136\n",
      "QFM:\t 28dB\t accuracy:99.26470588235294%\n",
      "125\n",
      "QFM:\t 29dB\t accuracy:99.2%\n",
      "121\n",
      "QFM:\t 30dB\t accuracy:97.52066115702479%\n",
      "130\n",
      "2FSK:\t -10dB\t accuracy:66.92307692307692%\n",
      "111\n",
      "2FSK:\t -9dB\t accuracy:73.87387387387388%\n",
      "121\n",
      "2FSK:\t -8dB\t accuracy:80.16528925619835%\n",
      "140\n",
      "2FSK:\t -7dB\t accuracy:83.57142857142857%\n",
      "119\n",
      "2FSK:\t -6dB\t accuracy:82.3529411764706%\n",
      "107\n",
      "2FSK:\t -5dB\t accuracy:78.50467289719626%\n",
      "132\n",
      "2FSK:\t -4dB\t accuracy:79.54545454545455%\n",
      "117\n",
      "2FSK:\t -3dB\t accuracy:83.76068376068376%\n",
      "133\n",
      "2FSK:\t -2dB\t accuracy:87.21804511278195%\n",
      "123\n",
      "2FSK:\t -1dB\t accuracy:81.30081300813008%\n",
      "117\n",
      "2FSK:\t 0dB\t accuracy:84.61538461538461%\n",
      "128\n",
      "2FSK:\t 1dB\t accuracy:88.28125%\n",
      "125\n",
      "2FSK:\t 2dB\t accuracy:84.0%\n",
      "118\n",
      "2FSK:\t 3dB\t accuracy:89.83050847457628%\n",
      "129\n",
      "2FSK:\t 4dB\t accuracy:86.82170542635659%\n",
      "118\n",
      "2FSK:\t 5dB\t accuracy:85.59322033898304%\n",
      "114\n",
      "2FSK:\t 6dB\t accuracy:85.08771929824562%\n",
      "130\n",
      "2FSK:\t 7dB\t accuracy:79.23076923076923%\n",
      "126\n",
      "2FSK:\t 8dB\t accuracy:79.36507936507937%\n",
      "106\n",
      "2FSK:\t 9dB\t accuracy:85.84905660377359%\n",
      "116\n",
      "2FSK:\t 10dB\t accuracy:79.3103448275862%\n",
      "108\n",
      "2FSK:\t 11dB\t accuracy:82.4074074074074%\n",
      "122\n",
      "2FSK:\t 12dB\t accuracy:81.14754098360656%\n",
      "133\n",
      "2FSK:\t 13dB\t accuracy:84.21052631578948%\n",
      "112\n",
      "2FSK:\t 14dB\t accuracy:83.92857142857143%\n",
      "110\n",
      "2FSK:\t 15dB\t accuracy:81.81818181818181%\n",
      "131\n",
      "2FSK:\t 16dB\t accuracy:87.02290076335878%\n",
      "123\n",
      "2FSK:\t 17dB\t accuracy:82.11382113821138%\n",
      "121\n",
      "2FSK:\t 18dB\t accuracy:83.47107438016529%\n",
      "108\n",
      "2FSK:\t 19dB\t accuracy:81.48148148148148%\n",
      "138\n",
      "2FSK:\t 20dB\t accuracy:89.1304347826087%\n",
      "134\n",
      "2FSK:\t 21dB\t accuracy:79.85074626865672%\n",
      "127\n",
      "2FSK:\t 22dB\t accuracy:81.10236220472441%\n",
      "118\n",
      "2FSK:\t 23dB\t accuracy:88.13559322033899%\n",
      "121\n",
      "2FSK:\t 24dB\t accuracy:79.33884297520662%\n",
      "134\n",
      "2FSK:\t 25dB\t accuracy:83.58208955223881%\n",
      "118\n",
      "2FSK:\t 26dB\t accuracy:82.20338983050847%\n",
      "125\n",
      "2FSK:\t 27dB\t accuracy:80.8%\n",
      "109\n",
      "2FSK:\t 28dB\t accuracy:88.07339449541284%\n",
      "131\n",
      "2FSK:\t 29dB\t accuracy:78.62595419847328%\n",
      "117\n",
      "2FSK:\t 30dB\t accuracy:78.63247863247864%\n",
      "131\n",
      "4FSK:\t -10dB\t accuracy:80.1526717557252%\n",
      "134\n",
      "4FSK:\t -9dB\t accuracy:73.13432835820896%\n",
      "136\n",
      "4FSK:\t -8dB\t accuracy:73.52941176470588%\n",
      "113\n",
      "4FSK:\t -7dB\t accuracy:77.87610619469027%\n",
      "121\n",
      "4FSK:\t -6dB\t accuracy:70.24793388429752%\n",
      "128\n",
      "4FSK:\t -5dB\t accuracy:77.34375%\n",
      "118\n",
      "4FSK:\t -4dB\t accuracy:77.11864406779661%\n",
      "101\n",
      "4FSK:\t -3dB\t accuracy:86.13861386138613%\n",
      "135\n",
      "4FSK:\t -2dB\t accuracy:81.48148148148148%\n",
      "109\n",
      "4FSK:\t -1dB\t accuracy:84.40366972477064%\n",
      "114\n",
      "4FSK:\t 0dB\t accuracy:84.21052631578948%\n",
      "109\n",
      "4FSK:\t 1dB\t accuracy:77.06422018348624%\n",
      "131\n",
      "4FSK:\t 2dB\t accuracy:84.73282442748092%\n",
      "125\n",
      "4FSK:\t 3dB\t accuracy:88.0%\n",
      "112\n",
      "4FSK:\t 4dB\t accuracy:80.35714285714286%\n",
      "126\n",
      "4FSK:\t 5dB\t accuracy:87.3015873015873%\n",
      "113\n",
      "4FSK:\t 6dB\t accuracy:84.070796460177%\n",
      "139\n",
      "4FSK:\t 7dB\t accuracy:84.89208633093526%\n",
      "155\n",
      "4FSK:\t 8dB\t accuracy:83.87096774193549%\n",
      "109\n",
      "4FSK:\t 9dB\t accuracy:90.8256880733945%\n",
      "105\n",
      "4FSK:\t 10dB\t accuracy:88.57142857142857%\n",
      "127\n",
      "4FSK:\t 11dB\t accuracy:82.67716535433071%\n",
      "130\n",
      "4FSK:\t 12dB\t accuracy:83.07692307692308%\n",
      "110\n",
      "4FSK:\t 13dB\t accuracy:82.72727272727273%\n",
      "136\n",
      "4FSK:\t 14dB\t accuracy:89.70588235294117%\n",
      "133\n",
      "4FSK:\t 15dB\t accuracy:85.71428571428571%\n",
      "118\n",
      "4FSK:\t 16dB\t accuracy:83.89830508474576%\n",
      "125\n",
      "4FSK:\t 17dB\t accuracy:81.6%\n",
      "125\n",
      "4FSK:\t 18dB\t accuracy:86.4%\n",
      "120\n",
      "4FSK:\t 19dB\t accuracy:89.16666666666667%\n",
      "130\n",
      "4FSK:\t 20dB\t accuracy:89.23076923076923%\n",
      "112\n",
      "4FSK:\t 21dB\t accuracy:84.82142857142857%\n",
      "118\n",
      "4FSK:\t 22dB\t accuracy:88.98305084745763%\n",
      "137\n",
      "4FSK:\t 23dB\t accuracy:78.10218978102189%\n",
      "115\n",
      "4FSK:\t 24dB\t accuracy:90.43478260869566%\n",
      "113\n",
      "4FSK:\t 25dB\t accuracy:84.95575221238938%\n",
      "115\n",
      "4FSK:\t 26dB\t accuracy:87.82608695652173%\n",
      "108\n",
      "4FSK:\t 27dB\t accuracy:88.88888888888889%\n",
      "117\n",
      "4FSK:\t 28dB\t accuracy:90.5982905982906%\n",
      "139\n",
      "4FSK:\t 29dB\t accuracy:80.57553956834532%\n",
      "108\n",
      "4FSK:\t 30dB\t accuracy:85.18518518518519%\n",
      "122\n",
      "BPSK:\t -10dB\t accuracy:31.147540983606557%\n",
      "125\n",
      "BPSK:\t -9dB\t accuracy:36.0%\n",
      "122\n",
      "BPSK:\t -8dB\t accuracy:30.327868852459016%\n",
      "110\n",
      "BPSK:\t -7dB\t accuracy:18.181818181818183%\n",
      "126\n",
      "BPSK:\t -6dB\t accuracy:29.365079365079364%\n",
      "124\n",
      "BPSK:\t -5dB\t accuracy:29.032258064516128%\n",
      "117\n",
      "BPSK:\t -4dB\t accuracy:34.18803418803419%\n",
      "106\n",
      "BPSK:\t -3dB\t accuracy:46.22641509433962%\n",
      "151\n",
      "BPSK:\t -2dB\t accuracy:40.397350993377486%\n",
      "133\n",
      "BPSK:\t -1dB\t accuracy:54.13533834586466%\n",
      "117\n",
      "BPSK:\t 0dB\t accuracy:55.55555555555556%\n",
      "125\n",
      "BPSK:\t 1dB\t accuracy:50.4%\n",
      "102\n",
      "BPSK:\t 2dB\t accuracy:56.86274509803921%\n",
      "122\n",
      "BPSK:\t 3dB\t accuracy:57.377049180327866%\n",
      "124\n",
      "BPSK:\t 4dB\t accuracy:58.87096774193548%\n",
      "120\n",
      "BPSK:\t 5dB\t accuracy:54.166666666666664%\n",
      "110\n",
      "BPSK:\t 6dB\t accuracy:60.90909090909091%\n",
      "113\n",
      "BPSK:\t 7dB\t accuracy:70.79646017699115%\n",
      "134\n",
      "BPSK:\t 8dB\t accuracy:62.6865671641791%\n",
      "126\n",
      "BPSK:\t 9dB\t accuracy:77.77777777777777%\n",
      "117\n",
      "BPSK:\t 10dB\t accuracy:66.66666666666667%\n",
      "121\n",
      "BPSK:\t 11dB\t accuracy:72.72727272727273%\n",
      "114\n",
      "BPSK:\t 12dB\t accuracy:71.9298245614035%\n",
      "126\n",
      "BPSK:\t 13dB\t accuracy:72.22222222222223%\n",
      "116\n",
      "BPSK:\t 14dB\t accuracy:73.27586206896552%\n",
      "116\n",
      "BPSK:\t 15dB\t accuracy:80.17241379310344%\n",
      "132\n",
      "BPSK:\t 16dB\t accuracy:75.75757575757575%\n",
      "125\n",
      "BPSK:\t 17dB\t accuracy:81.6%\n",
      "113\n",
      "BPSK:\t 18dB\t accuracy:79.64601769911505%\n",
      "113\n",
      "BPSK:\t 19dB\t accuracy:86.72566371681415%\n",
      "136\n",
      "BPSK:\t 20dB\t accuracy:83.82352941176471%\n",
      "126\n",
      "BPSK:\t 21dB\t accuracy:84.12698412698413%\n",
      "120\n",
      "BPSK:\t 22dB\t accuracy:84.16666666666667%\n",
      "122\n",
      "BPSK:\t 23dB\t accuracy:86.88524590163935%\n",
      "134\n",
      "BPSK:\t 24dB\t accuracy:84.32835820895522%\n",
      "136\n",
      "BPSK:\t 25dB\t accuracy:80.88235294117646%\n",
      "127\n",
      "BPSK:\t 26dB\t accuracy:81.88976377952756%\n",
      "115\n",
      "BPSK:\t 27dB\t accuracy:86.08695652173913%\n",
      "122\n",
      "BPSK:\t 28dB\t accuracy:84.42622950819673%\n",
      "122\n",
      "BPSK:\t 29dB\t accuracy:80.32786885245902%\n",
      "118\n",
      "BPSK:\t 30dB\t accuracy:89.83050847457628%\n",
      "123\n",
      "QPSK:\t -10dB\t accuracy:31.70731707317073%\n",
      "124\n",
      "QPSK:\t -9dB\t accuracy:37.903225806451616%\n",
      "120\n",
      "QPSK:\t -8dB\t accuracy:48.333333333333336%\n",
      "135\n",
      "QPSK:\t -7dB\t accuracy:60.0%\n",
      "130\n",
      "QPSK:\t -6dB\t accuracy:70.76923076923077%\n",
      "137\n",
      "QPSK:\t -5dB\t accuracy:77.37226277372262%\n",
      "109\n",
      "QPSK:\t -4dB\t accuracy:75.22935779816514%\n",
      "135\n",
      "QPSK:\t -3dB\t accuracy:72.5925925925926%\n",
      "118\n",
      "QPSK:\t -2dB\t accuracy:72.88135593220339%\n",
      "131\n",
      "QPSK:\t -1dB\t accuracy:74.80916030534351%\n",
      "128\n",
      "QPSK:\t 0dB\t accuracy:85.9375%\n",
      "131\n",
      "QPSK:\t 1dB\t accuracy:83.20610687022901%\n",
      "114\n",
      "QPSK:\t 2dB\t accuracy:83.33333333333333%\n",
      "120\n",
      "QPSK:\t 3dB\t accuracy:84.16666666666667%\n",
      "116\n",
      "QPSK:\t 4dB\t accuracy:84.48275862068965%\n",
      "110\n",
      "QPSK:\t 5dB\t accuracy:87.27272727272727%\n",
      "107\n",
      "QPSK:\t 6dB\t accuracy:89.7196261682243%\n",
      "127\n",
      "QPSK:\t 7dB\t accuracy:87.4015748031496%\n",
      "120\n",
      "QPSK:\t 8dB\t accuracy:90.0%\n",
      "121\n",
      "QPSK:\t 9dB\t accuracy:92.56198347107438%\n",
      "114\n",
      "QPSK:\t 10dB\t accuracy:87.71929824561404%\n",
      "118\n",
      "QPSK:\t 11dB\t accuracy:91.52542372881356%\n",
      "143\n",
      "QPSK:\t 12dB\t accuracy:90.20979020979021%\n",
      "127\n",
      "QPSK:\t 13dB\t accuracy:88.97637795275591%\n",
      "123\n",
      "QPSK:\t 14dB\t accuracy:88.6178861788618%\n",
      "127\n",
      "QPSK:\t 15dB\t accuracy:87.4015748031496%\n",
      "118\n",
      "QPSK:\t 16dB\t accuracy:88.13559322033899%\n",
      "112\n",
      "QPSK:\t 17dB\t accuracy:87.5%\n",
      "120\n",
      "QPSK:\t 18dB\t accuracy:85.0%\n",
      "131\n",
      "QPSK:\t 19dB\t accuracy:93.12977099236642%\n",
      "105\n",
      "QPSK:\t 20dB\t accuracy:85.71428571428571%\n",
      "124\n",
      "QPSK:\t 21dB\t accuracy:89.51612903225806%\n",
      "135\n",
      "QPSK:\t 22dB\t accuracy:87.4074074074074%\n",
      "118\n",
      "QPSK:\t 23dB\t accuracy:92.37288135593221%\n",
      "103\n",
      "QPSK:\t 24dB\t accuracy:87.37864077669903%\n",
      "121\n",
      "QPSK:\t 25dB\t accuracy:89.25619834710744%\n",
      "119\n",
      "QPSK:\t 26dB\t accuracy:88.23529411764706%\n",
      "121\n",
      "QPSK:\t 27dB\t accuracy:80.16528925619835%\n",
      "125\n",
      "QPSK:\t 28dB\t accuracy:86.4%\n",
      "133\n",
      "QPSK:\t 29dB\t accuracy:81.95488721804512%\n",
      "107\n",
      "QPSK:\t 30dB\t accuracy:83.17757009345794%\n"
     ]
    }
   ],
   "source": [
    "result = np.ndarray((8, 41))\n",
    "for n in range(1, 1 + len(name)):\n",
    "    for snr in range(-10, 31):\n",
    "        img, labels = next(iter(getLoader(n, snr)))\n",
    "        length = len(labels)\n",
    "        output = net(img)\n",
    "        pred = output.data.max(1, keepdim=True)[1].reshape(length)\n",
    "        pred = pred.numpy()\n",
    "        labels = labels.reshape(length).numpy()\n",
    "        err_idx = np.argwhere(pred != labels)\n",
    "        accuacy=(length - len(err_idx)) * 100 / length\n",
    "        print(\"{}:\\t {}dB\\t accuracy:{}%\".format(name[n - 1], snr, (length - len(err_idx)) * 100 / length))\n",
    "        result[n-1,snr+10]=accuacy\n",
    "        #SNR_array.append(snr.tolist()[0])\n",
    "        #accuracy_array.append(80 - 80 * len(err_idx) / 80)"
   ]
  },
  {
   "cell_type": "code",
   "execution_count": 65,
   "outputs": [
    {
     "data": {
      "text/plain": "array([[ 51.92307692,  63.02521008,  60.15625   ,  75.47169811,\n         81.14754098,  84.09090909,  86.33093525,  90.35087719,\n         92.68292683,  96.49122807,  99.21875   , 100.        ,\n        100.        , 100.        , 100.        , 100.        ,\n        100.        , 100.        , 100.        , 100.        ,\n        100.        , 100.        , 100.        , 100.        ,\n        100.        , 100.        , 100.        , 100.        ,\n        100.        , 100.        , 100.        , 100.        ,\n        100.        , 100.        , 100.        , 100.        ,\n        100.        , 100.        , 100.        , 100.        ,\n        100.        ],\n       [ 92.66055046,  95.76271186,  94.85294118,  94.7826087 ,\n         97.87234043,  99.25373134,  96.26168224,  99.20634921,\n        100.        ,  96.15384615,  99.19354839,  95.79831933,\n         98.31932773,  98.36065574,  97.87234043,  99.04761905,\n         99.21259843,  96.875     ,  99.11504425,  98.50746269,\n         95.68965517,  98.4       ,  98.31932773,  96.        ,\n        100.        ,  99.09090909,  98.16513761,  99.2248062 ,\n         97.4137931 ,  98.4496124 ,  99.16666667,  97.14285714,\n         99.13793103, 100.        ,  97.52066116,  98.42519685,\n         98.36065574,  99.25373134,  96.09375   ,  98.24561404,\n         98.16513761],\n       [ 98.52941176, 100.        , 100.        , 100.        ,\n        100.        , 100.        , 100.        , 100.        ,\n        100.        , 100.        , 100.        ,  99.13043478,\n        100.        , 100.        , 100.        , 100.        ,\n        100.        , 100.        , 100.        , 100.        ,\n        100.        , 100.        , 100.        , 100.        ,\n        100.        , 100.        , 100.        , 100.        ,\n        100.        , 100.        , 100.        , 100.        ,\n        100.        , 100.        , 100.        , 100.        ,\n        100.        , 100.        , 100.        , 100.        ,\n        100.        ],\n       [ 92.24137931,  89.43089431,  87.87878788,  90.625     ,\n         90.4       ,  94.16058394,  98.16513761,  95.        ,\n         94.26229508,  97.4137931 ,  98.24561404,  96.69421488,\n         95.38461538,  99.11504425,  96.69421488,  97.9020979 ,\n         98.46153846,  99.08256881,  97.79411765, 100.        ,\n        100.        ,  99.20634921,  97.4789916 , 100.        ,\n         98.4       ,  98.42519685,  99.18699187,  94.81481481,\n         97.69230769,  99.23664122,  96.74796748,  99.12280702,\n         99.06542056,  98.48484848,  98.46153846,  98.42519685,\n         98.4375    ,  99.10714286,  99.26470588,  99.2       ,\n         97.52066116],\n       [ 66.92307692,  73.87387387,  80.16528926,  83.57142857,\n         82.35294118,  78.5046729 ,  79.54545455,  83.76068376,\n         87.21804511,  81.30081301,  84.61538462,  88.28125   ,\n         84.        ,  89.83050847,  86.82170543,  85.59322034,\n         85.0877193 ,  79.23076923,  79.36507937,  85.8490566 ,\n         79.31034483,  82.40740741,  81.14754098,  84.21052632,\n         83.92857143,  81.81818182,  87.02290076,  82.11382114,\n         83.47107438,  81.48148148,  89.13043478,  79.85074627,\n         81.1023622 ,  88.13559322,  79.33884298,  83.58208955,\n         82.20338983,  80.8       ,  88.0733945 ,  78.6259542 ,\n         78.63247863],\n       [ 80.15267176,  73.13432836,  73.52941176,  77.87610619,\n         70.24793388,  77.34375   ,  77.11864407,  86.13861386,\n         81.48148148,  84.40366972,  84.21052632,  77.06422018,\n         84.73282443,  88.        ,  80.35714286,  87.3015873 ,\n         84.07079646,  84.89208633,  83.87096774,  90.82568807,\n         88.57142857,  82.67716535,  83.07692308,  82.72727273,\n         89.70588235,  85.71428571,  83.89830508,  81.6       ,\n         86.4       ,  89.16666667,  89.23076923,  84.82142857,\n         88.98305085,  78.10218978,  90.43478261,  84.95575221,\n         87.82608696,  88.88888889,  90.5982906 ,  80.57553957,\n         85.18518519],\n       [ 31.14754098,  36.        ,  30.32786885,  18.18181818,\n         29.36507937,  29.03225806,  34.18803419,  46.22641509,\n         40.39735099,  54.13533835,  55.55555556,  50.4       ,\n         56.8627451 ,  57.37704918,  58.87096774,  54.16666667,\n         60.90909091,  70.79646018,  62.68656716,  77.77777778,\n         66.66666667,  72.72727273,  71.92982456,  72.22222222,\n         73.27586207,  80.17241379,  75.75757576,  81.6       ,\n         79.6460177 ,  86.72566372,  83.82352941,  84.12698413,\n         84.16666667,  86.8852459 ,  84.32835821,  80.88235294,\n         81.88976378,  86.08695652,  84.42622951,  80.32786885,\n         89.83050847],\n       [ 31.70731707,  37.90322581,  48.33333333,  60.        ,\n         70.76923077,  77.37226277,  75.2293578 ,  72.59259259,\n         72.88135593,  74.80916031,  85.9375    ,  83.20610687,\n         83.33333333,  84.16666667,  84.48275862,  87.27272727,\n         89.71962617,  87.4015748 ,  90.        ,  92.56198347,\n         87.71929825,  91.52542373,  90.20979021,  88.97637795,\n         88.61788618,  87.4015748 ,  88.13559322,  87.5       ,\n         85.        ,  93.12977099,  85.71428571,  89.51612903,\n         87.40740741,  92.37288136,  87.37864078,  89.25619835,\n         88.23529412,  80.16528926,  86.4       ,  81.95488722,\n         83.17757009]])"
     },
     "execution_count": 65,
     "metadata": {},
     "output_type": "execute_result"
    }
   ],
   "source": [
    "result"
   ],
   "metadata": {
    "collapsed": false,
    "pycharm": {
     "name": "#%%\n"
    }
   }
  },
  {
   "cell_type": "code",
   "execution_count": 57,
   "outputs": [
    {
     "data": {
      "text/plain": "[<matplotlib.lines.Line2D at 0x1b1582f01c0>,\n <matplotlib.lines.Line2D at 0x1b1582f0160>,\n <matplotlib.lines.Line2D at 0x1b1582f0280>,\n <matplotlib.lines.Line2D at 0x1b1582f03a0>,\n <matplotlib.lines.Line2D at 0x1b1582f04c0>,\n <matplotlib.lines.Line2D at 0x1b1582f05e0>,\n <matplotlib.lines.Line2D at 0x1b1582f0700>,\n <matplotlib.lines.Line2D at 0x1b1582f0820>,\n <matplotlib.lines.Line2D at 0x1b1582d4eb0>,\n <matplotlib.lines.Line2D at 0x1b1582d4ee0>,\n <matplotlib.lines.Line2D at 0x1b1582f0a60>,\n <matplotlib.lines.Line2D at 0x1b1582f01f0>,\n <matplotlib.lines.Line2D at 0x1b1582f0c70>,\n <matplotlib.lines.Line2D at 0x1b1582f0d90>,\n <matplotlib.lines.Line2D at 0x1b1582f0eb0>,\n <matplotlib.lines.Line2D at 0x1b1582f0fd0>,\n <matplotlib.lines.Line2D at 0x1b1582f4130>,\n <matplotlib.lines.Line2D at 0x1b1582f4250>,\n <matplotlib.lines.Line2D at 0x1b1582f4370>,\n <matplotlib.lines.Line2D at 0x1b1582f4490>,\n <matplotlib.lines.Line2D at 0x1b1582f45b0>,\n <matplotlib.lines.Line2D at 0x1b1582f46d0>,\n <matplotlib.lines.Line2D at 0x1b1582f47f0>,\n <matplotlib.lines.Line2D at 0x1b1582f4910>,\n <matplotlib.lines.Line2D at 0x1b1582f4a30>,\n <matplotlib.lines.Line2D at 0x1b1582f4b50>,\n <matplotlib.lines.Line2D at 0x1b1582f4c70>,\n <matplotlib.lines.Line2D at 0x1b1582f4d90>,\n <matplotlib.lines.Line2D at 0x1b1582f4eb0>,\n <matplotlib.lines.Line2D at 0x1b1582f4fd0>,\n <matplotlib.lines.Line2D at 0x1b1582f7130>,\n <matplotlib.lines.Line2D at 0x1b1582f7250>,\n <matplotlib.lines.Line2D at 0x1b1582f7370>,\n <matplotlib.lines.Line2D at 0x1b1582f7490>,\n <matplotlib.lines.Line2D at 0x1b1582f75b0>,\n <matplotlib.lines.Line2D at 0x1b1582f76d0>,\n <matplotlib.lines.Line2D at 0x1b1582f77f0>,\n <matplotlib.lines.Line2D at 0x1b1582f7910>,\n <matplotlib.lines.Line2D at 0x1b1582f7a30>,\n <matplotlib.lines.Line2D at 0x1b1582f7b50>,\n <matplotlib.lines.Line2D at 0x1b1582f7c70>]"
     },
     "execution_count": 57,
     "metadata": {},
     "output_type": "execute_result"
    },
    {
     "data": {
      "text/plain": "<Figure size 432x288 with 1 Axes>",
      "image/png": "[encoded data removed]"
     },
     "metadata": {
      "needs_background": "light"
     },
     "output_type": "display_data"
    }
   ],
   "source": [
    "plt.plot(result)"
   ],
   "metadata": {
    "collapsed": false,
    "pycharm": {
     "name": "#%%\n"
    }
   }
  },
  {
   "cell_type": "code",
   "execution_count": 17,
   "metadata": {
    "collapsed": false,
    "pycharm": {
     "name": "#%%\n"
    }
   },
   "outputs": [
    {
     "ename": "NameError",
     "evalue": "name 'test_loader' is not defined",
     "output_type": "error",
     "traceback": [
      "\u001B[1;31m---------------------------------------------------------------------------\u001B[0m",
      "\u001B[1;31mNameError\u001B[0m                                 Traceback (most recent call last)",
      "Input \u001B[1;32mIn [17]\u001B[0m, in \u001B[0;36m<module>\u001B[1;34m\u001B[0m\n\u001B[0;32m      1\u001B[0m \u001B[38;5;28;01mimport\u001B[39;00m \u001B[38;5;21;01mmatplotlib\u001B[39;00m\u001B[38;5;21;01m.\u001B[39;00m\u001B[38;5;21;01mpyplot\u001B[39;00m \u001B[38;5;28;01mas\u001B[39;00m \u001B[38;5;21;01mplt\u001B[39;00m\n\u001B[0;32m      3\u001B[0m accuacy \u001B[38;5;241m=\u001B[39m []\n\u001B[1;32m----> 4\u001B[0m \u001B[38;5;28;01mfor\u001B[39;00m img, labels \u001B[38;5;129;01min\u001B[39;00m \u001B[43mtest_loader\u001B[49m:\n\u001B[0;32m      5\u001B[0m     \u001B[38;5;66;03m#plt.imshow(img[i, 0, :, :].t(), cmap=\"gray\")\u001B[39;00m\n\u001B[0;32m      6\u001B[0m     \u001B[38;5;66;03m#plt.title('predict:{} real:{}'.format(name[pred[i]], name[labels[i]]))\u001B[39;00m\n\u001B[0;32m      7\u001B[0m     \u001B[38;5;66;03m#plt.show()\u001B[39;00m\n\u001B[0;32m      8\u001B[0m     \u001B[38;5;28mprint\u001B[39m(\u001B[38;5;124m'\u001B[39m\u001B[38;5;124mpredict:\u001B[39m\u001B[38;5;132;01m{}\u001B[39;00m\u001B[38;5;124m real:\u001B[39m\u001B[38;5;132;01m{}\u001B[39;00m\u001B[38;5;124m'\u001B[39m\u001B[38;5;241m.\u001B[39mformat(pred, labels))\n\u001B[0;32m      9\u001B[0m     err_idx \u001B[38;5;241m=\u001B[39m np\u001B[38;5;241m.\u001B[39margwhere(pred \u001B[38;5;241m!=\u001B[39m labels)\n",
      "\u001B[1;31mNameError\u001B[0m: name 'test_loader' is not defined"
     ]
    }
   ],
   "source": [
    "import matplotlib.pyplot as plt\n",
    "\n",
    "accuacy = []\n",
    "for img, labels in test_loader:\n",
    "    #plt.imshow(img[i, 0, :, :].t(), cmap=\"gray\")\n",
    "    #plt.title('predict:{} real:{}'.format(name[pred[i]], name[labels[i]]))\n",
    "    #plt.show()\n",
    "    print('predict:{} real:{}'.format(pred, labels))\n",
    "    err_idx = np.argwhere(pred != labels)\n",
    "    accuacy.append(100 - len(err_idx))\n",
    "plt.plot(accuacy)"
   ]
  },
  {
   "cell_type": "markdown",
   "metadata": {
    "collapsed": false,
    "pycharm": {
     "name": "#%% md\n"
    }
   },
   "source": [
    "## 单SNR测试"
   ]
  },
  {
   "cell_type": "code",
   "execution_count": 7,
   "metadata": {
    "collapsed": false,
    "pycharm": {
     "name": "#%%\n"
    }
   },
   "outputs": [
    {
     "data": {
      "text/plain": "<KeysViewHDF5 ['SNRData', 'SNRType']>"
     },
     "execution_count": 7,
     "metadata": {},
     "output_type": "execute_result"
    }
   ],
   "source": [
    "path = r\"E:\\test1.h5\"\n",
    "file = h5py.File(path, \"r\")\n",
    "file.keys()"
   ]
  },
  {
   "cell_type": "code",
   "execution_count": 35,
   "metadata": {
    "collapsed": false,
    "pycharm": {
     "name": "#%%\n"
    }
   },
   "outputs": [
    {
     "data": {
      "text/plain": [
       "<HDF5 dataset \"SNRType\": shape (5, 3280), type \"<f8\">"
      ]
     },
     "execution_count": 35,
     "metadata": {},
     "output_type": "execute_result"
    }
   ],
   "source": [
    "file['SNRType']"
   ]
  },
  {
   "cell_type": "code",
   "execution_count": 8,
   "metadata": {
    "collapsed": false,
    "pycharm": {
     "name": "#%%\n"
    }
   },
   "outputs": [],
   "source": [
    "file.close()"
   ]
  },
  {
   "cell_type": "code",
   "execution_count": 5,
   "metadata": {
    "collapsed": false,
    "pycharm": {
     "name": "#%%\n"
    }
   },
   "outputs": [],
   "source": [
    "class SNRDataSets(Dataset):\n",
    "    def __init__(self, file):\n",
    "        self.h5 = h5py.File(file, \"r\")\n",
    "        self.label_id = self.h5['SNRType']\n",
    "        _, self.length = self.label_id.shape\n",
    "        self.img = self.h5['SNRData']\n",
    "        self.toTensor = ToTensor()\n",
    "\n",
    "    def __getitem__(self, idx):\n",
    "        return (self.toTensor(self.img[:, :, idx]).float(),\n",
    "                torch.tensor(int(self.label_id[0, idx] - 1), dtype=torch.long),\n",
    "                torch.tensor(self.label_id[1, idx]))\n",
    "\n",
    "    def __len__(self):\n",
    "        return self.length\n",
    "\n",
    "    def __exit__(self, exc_type, exc_val, exc_tb):\n",
    "        self.h5.close()"
   ]
  },
  {
   "cell_type": "code",
   "execution_count": 9,
   "metadata": {
    "collapsed": false,
    "pycharm": {
     "name": "#%%\n"
    }
   },
   "outputs": [],
   "source": [
    "snr_dataset = SNRDataSets(path)\n",
    "snr_loader = torch.utils.data.DataLoader(\n",
    "    dataset=snr_dataset, batch_size=80,\n",
    "    shuffle=False, num_workers=0, drop_last=False)"
   ]
  },
  {
   "cell_type": "code",
   "execution_count": 45,
   "metadata": {
    "collapsed": false,
    "pycharm": {
     "name": "#%%\n"
    }
   },
   "outputs": [],
   "source": [
    "img, label, snr = next(iter(snr_loader))"
   ]
  },
  {
   "cell_type": "code",
   "execution_count": 46,
   "metadata": {
    "collapsed": false,
    "pycharm": {
     "name": "#%%\n"
    }
   },
   "outputs": [
    {
     "data": {
      "text/plain": [
       "torch.Size([80, 1, 196, 64])"
      ]
     },
     "execution_count": 46,
     "metadata": {},
     "output_type": "execute_result"
    }
   ],
   "source": [
    "img.shape"
   ]
  },
  {
   "cell_type": "code",
   "execution_count": 47,
   "metadata": {
    "collapsed": false,
    "pycharm": {
     "name": "#%%\n"
    }
   },
   "outputs": [
    {
     "data": {
      "text/plain": [
       "torch.Size([80])"
      ]
     },
     "execution_count": 47,
     "metadata": {},
     "output_type": "execute_result"
    }
   ],
   "source": [
    "label.shape"
   ]
  },
  {
   "cell_type": "code",
   "execution_count": 10,
   "metadata": {
    "collapsed": false,
    "pycharm": {
     "name": "#%%\n"
    }
   },
   "outputs": [
    {
     "name": "stderr",
     "output_type": "stream",
     "text": [
      "E:\\App\\Miniconda3\\envs\\torch-cuda\\lib\\site-packages\\torch\\nn\\modules\\container.py:141: UserWarning: Implicit dimension choice for softmax has been deprecated. Change the call to include dim=X as an argument.\n",
      "  input = module(input)\n"
     ]
    }
   ],
   "source": [
    "SNR_array = []\n",
    "accuracy_array = []\n",
    "for img, labels, snr in snr_loader:\n",
    "    length = len(labels)\n",
    "    output = net(img)\n",
    "    pred = output.data.max(1, keepdim=True)[1].reshape(length)\n",
    "    pred = pred.numpy()\n",
    "    labels = labels.reshape(length).numpy()\n",
    "    err_idx = np.argwhere(pred != labels)\n",
    "    # print(\"SNR:{} accuracy:{}%\".format(snr[0],80-80*len(err_idx)/80))\n",
    "    SNR_array.append(snr.tolist()[0])\n",
    "    accuracy_array.append((length - len(err_idx)) / length * 100)"
   ]
  },
  {
   "cell_type": "code",
   "execution_count": 12,
   "metadata": {
    "collapsed": false,
    "pycharm": {
     "name": "#%%\n"
    }
   },
   "outputs": [
    {
     "data": {
      "text/plain": "Text(0, 0.5, 'accuracy')"
     },
     "execution_count": 12,
     "metadata": {},
     "output_type": "execute_result"
    },
    {
     "data": {
      "text/plain": "<Figure size 432x288 with 1 Axes>",
      "image/png": "[encoded data removed]"
     },
     "metadata": {
      "needs_background": "light"
     },
     "output_type": "display_data"
    }
   ],
   "source": [
    "plt.plot(SNR_array, accuracy_array)\n",
    "plt.rcParams['font.sans-serif'] = ['SimHei']  #用来正常显示中文标签\n",
    "plt.rcParams['axes.unicode_minus'] = False  #用来正常显示负号\n",
    "\n",
    "plt.title(\"正确率与SNR的关系\")\n",
    "plt.xlabel(\"SNR\")\n",
    "plt.ylabel(\"accuracy\")"
   ]
  },
  {
   "cell_type": "code",
   "execution_count": null,
   "metadata": {
    "collapsed": false,
    "pycharm": {
     "name": "#%%\n"
    }
   },
   "outputs": [],
   "source": []
  }
 ],
 "metadata": {
  "kernelspec": {
   "display_name": "Python 3",
   "language": "python",
   "name": "python3"
  },
  "language_info": {
   "codemirror_mode": {
    "name": "ipython",
    "version": 3
   },
   "file_extension": ".py",
   "mimetype": "text/x-python",
   "name": "python",
   "nbconvert_exporter": "python",
   "pygments_lexer": "ipython3",
   "version": "3.9.7"
  }
 },
 "nbformat": 4,
 "nbformat_minor": 0
}