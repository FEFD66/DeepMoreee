{
 "cells": [
  {
   "cell_type": "code",
   "execution_count": 1,
   "metadata": {
    "pycharm": {
     "name": "#%%\n"
    }
   },
   "outputs": [],
   "source": [
    "import h5py\n",
    "import numpy as np\n",
    "import torch\n",
    "import torch.utils.data\n",
    "from torch import nn\n",
    "from torch.utils.data import Dataset\n",
    "from torchvision.transforms import ToTensor\n",
    "from matplotlib import pyplot as plt\n",
    "import os\n",
    "os.environ[\"KMP_DUPLICATE_LIB_OK\"] = \"TRUE\""
   ]
  },
  {
   "cell_type": "code",
   "execution_count": 2,
   "metadata": {
    "pycharm": {
     "name": "#%%\n"
    }
   },
   "outputs": [],
   "source": [
    "class ModulationDataSets(Dataset):\n",
    "    def __init__(self, file):\n",
    "        self.h5 = h5py.File(file, \"r\")\n",
    "        self.label_id = self.h5['sampleType']\n",
    "        _, self.length = self.label_id.shape\n",
    "        self.img = self.h5['sampleData']\n",
    "        self.toTensor = ToTensor()\n",
    "\n",
    "    def __getitem__(self, idx):\n",
    "        return self.toTensor(self.img[:, :, idx]).float(), torch.tensor(int(self.label_id[0, idx] - 1),\n",
    "                                                                        dtype=torch.long), torch.tensor(\n",
    "            int(self.label_id[1, idx]), dtype=torch.long)\n",
    "\n",
    "    def __len__(self):\n",
    "        return self.length\n",
    "\n",
    "    def __exit__(self, exc_type, exc_val, exc_tb):\n",
    "        self.h5.close()"
   ]
  },
  {
   "cell_type": "code",
   "execution_count": 3,
   "metadata": {
    "pycharm": {
     "name": "#%%\n"
    }
   },
   "outputs": [
    {
     "data": {
      "text/plain": [
       "Sequential(\n",
       "  (0): Conv2d(1, 10, kernel_size=(5, 5), stride=(1, 1))\n",
       "  (1): MaxPool2d(kernel_size=2, stride=2, padding=0, dilation=1, ceil_mode=False)\n",
       "  (2): ReLU()\n",
       "  (3): Conv2d(10, 20, kernel_size=(5, 5), stride=(1, 1))\n",
       "  (4): Dropout2d(p=0.2, inplace=False)\n",
       "  (5): MaxPool2d(kernel_size=2, stride=2, padding=0, dilation=1, ceil_mode=False)\n",
       "  (6): ReLU()\n",
       "  (7): Flatten(start_dim=1, end_dim=-1)\n",
       "  (8): Linear(in_features=11700, out_features=4096, bias=True)\n",
       "  (9): ReLU()\n",
       "  (10): Linear(in_features=4096, out_features=50, bias=True)\n",
       "  (11): ReLU()\n",
       "  (12): Dropout(p=0, inplace=False)\n",
       "  (13): Linear(in_features=50, out_features=8, bias=True)\n",
       "  (14): Softmax(dim=None)\n",
       ")"
      ]
     },
     "execution_count": 3,
     "metadata": {},
     "output_type": "execute_result"
    }
   ],
   "source": [
    "net = nn.Sequential(\n",
    "    nn.Conv2d(1, 10, kernel_size=5), nn.MaxPool2d(2), nn.ReLU(),\n",
    "    nn.Conv2d(10, 20, kernel_size=5), nn.Dropout2d(0.2), nn.MaxPool2d(2), nn.ReLU(),\n",
    "    nn.Flatten(),\n",
    "    nn.Linear(11700, 4096), nn.ReLU(),\n",
    "    nn.Linear(4096, 50), nn.ReLU(),\n",
    "    nn.Dropout(0),\n",
    "    nn.Linear(50, 8),\n",
    "    nn.Softmax()\n",
    ")\n",
    "net.load_state_dict(torch.load(\"basic-8.parm\"))\n",
    "net.eval()"
   ]
  },
  {
   "cell_type": "code",
   "execution_count": 4,
   "metadata": {
    "pycharm": {
     "name": "#%%\n"
    }
   },
   "outputs": [
    {
     "name": "stdout",
     "output_type": "stream",
     "text": [
      "Conv2d output shape: \t torch.Size([1, 10, 191, 60])\n",
      "MaxPool2d output shape: \t torch.Size([1, 10, 95, 30])\n",
      "ReLU output shape: \t torch.Size([1, 10, 95, 30])\n",
      "Conv2d output shape: \t torch.Size([1, 20, 91, 26])\n",
      "Dropout2d output shape: \t torch.Size([1, 20, 91, 26])\n",
      "MaxPool2d output shape: \t torch.Size([1, 20, 45, 13])\n",
      "ReLU output shape: \t torch.Size([1, 20, 45, 13])\n",
      "Flatten output shape: \t torch.Size([1, 11700])\n",
      "Linear output shape: \t torch.Size([1, 4096])\n",
      "ReLU output shape: \t torch.Size([1, 4096])\n",
      "Linear output shape: \t torch.Size([1, 50])\n",
      "ReLU output shape: \t torch.Size([1, 50])\n",
      "Dropout output shape: \t torch.Size([1, 50])\n",
      "Linear output shape: \t torch.Size([1, 8])\n",
      "Softmax output shape: \t torch.Size([1, 8])\n"
     ]
    },
    {
     "name": "stderr",
     "output_type": "stream",
     "text": [
      "C:\\Users\\ZGYwi\\AppData\\Local\\Temp\\ipykernel_9448\\2052838066.py:3: UserWarning: Implicit dimension choice for softmax has been deprecated. Change the call to include dim=X as an argument.\n",
      "  X = layer(X)\n"
     ]
    }
   ],
   "source": [
    "X = torch.rand(size=(1, 1, 195, 64), dtype=torch.float32)\n",
    "for layer in net:\n",
    "    X = layer(X)\n",
    "    print(layer.__class__.__name__, \"output shape: \\t\", X.shape)"
   ]
  },
  {
   "cell_type": "code",
   "execution_count": 7,
   "metadata": {
    "pycharm": {
     "name": "#%%\n"
    }
   },
   "outputs": [],
   "source": [
    "train_path = r'E:\\test.h5'\n",
    "test_path = r'E:\\train.h5'\n",
    "train_dataset = ModulationDataSets(train_path)\n",
    "test_dataset = ModulationDataSets(test_path)\n",
    "batch_size = 100\n",
    "train_loader = torch.utils.data.DataLoader(\n",
    "    dataset=train_dataset, batch_size=batch_size, shuffle=True,\n",
    "    num_workers=0, drop_last=False)\n",
    "test_loader = torch.utils.data.DataLoader(\n",
    "    dataset=test_dataset, batch_size=batch_size,\n",
    "    shuffle=False, num_workers=0, drop_last=False)"
   ]
  },
  {
   "cell_type": "markdown",
   "metadata": {
    "pycharm": {
     "name": "#%% md\n"
    }
   },
   "source": [
    "## 提取单独类型"
   ]
  },
  {
   "cell_type": "code",
   "execution_count": 5,
   "metadata": {
    "pycharm": {
     "name": "#%%\n"
    }
   },
   "outputs": [],
   "source": [
    "name = ['singlefreq', 'freqdiv', 'LFM', 'QFM', '2FSK', '4FSK', 'BPSK', 'QPSK']\n",
    "path = r\"E:\\test-large.h5\"\n",
    "h5 = h5py.File(path)\n",
    "g_label = h5['sampleType'][:]\n",
    "g_data = h5['sampleData'][:, :, :]\n",
    "h5.close()\n",
    "toTensor = ToTensor()"
   ]
  },
  {
   "cell_type": "code",
   "execution_count": 6,
   "metadata": {
    "pycharm": {
     "name": "#%%\n"
    }
   },
   "outputs": [],
   "source": [
    "def filter(type=None, snr=None) -> np.ndarray:\n",
    "    full = (g_label[0, :] != None)\n",
    "    if (type != None):\n",
    "        full = full & (g_label[0, :] == type)\n",
    "    if (snr != None):\n",
    "        full = full & (g_label[1, :] == snr)\n",
    "    # 将TrueFalse数组转换为索引\n",
    "    ids = np.argwhere(full).reshape(-1)\n",
    "    return ids\n",
    "\n",
    "\n",
    "def getData(type, snr):\n",
    "    ids = filter(type, snr).tolist()\n",
    "    length = len(ids)\n",
    "    return g_data[:, :, ids], g_label[0, ids].reshape(1, -1)\n",
    "\n",
    "\n",
    "class TypeSet(Dataset):\n",
    "    def __init__(self, type, snr):\n",
    "        self.img, self.label = getData(type, snr)\n",
    "        _, self.length = self.label.shape\n",
    "\n",
    "    def __getitem__(self, idx):\n",
    "        return toTensor(self.img[:, :, idx]).float(), torch.tensor(self.label[0, idx] - 1, dtype=torch.int)\n",
    "\n",
    "    def __len__(self):\n",
    "        return self.length\n",
    "\n",
    "\n",
    "def getLoader(type, snr):\n",
    "    set = TypeSet(type, snr)\n",
    "    #print(set.__len__())\n",
    "    return torch.utils.data.DataLoader(\n",
    "        dataset=set, batch_size=set.__len__(), shuffle=False,\n",
    "        num_workers=0, drop_last=False)\n",
    "\n",
    "\n",
    "x = getLoader(1, -10)"
   ]
  },
  {
   "cell_type": "code",
   "execution_count": 12,
   "metadata": {
    "pycharm": {
     "name": "#%%\n"
    }
   },
   "outputs": [
    {
     "data": {
      "text/plain": [
       "((195, 64, 126), (1, 126))"
      ]
     },
     "execution_count": 12,
     "metadata": {},
     "output_type": "execute_result"
    }
   ],
   "source": [
    "x, y = getData(3, -10)\n",
    "x.shape, y.shape"
   ]
  },
  {
   "cell_type": "code",
   "execution_count": 13,
   "metadata": {
    "pycharm": {
     "name": "#%%\n"
    }
   },
   "outputs": [
    {
     "data": {
      "text/plain": [
       "<matplotlib.image.AxesImage at 0x219e8039a90>"
      ]
     },
     "execution_count": 13,
     "metadata": {},
     "output_type": "execute_result"
    },
    {
     "data": {
      "image/png": "[encoded data removed]",
      "text/plain": [
       "<Figure size 432x288 with 1 Axes>"
      ]
     },
     "metadata": {
      "needs_background": "light"
     },
     "output_type": "display_data"
    }
   ],
   "source": [
    "i=1\n",
    "x1=x[:,:,i]\n",
    "plt.imshow(x1.transpose())"
   ]
  },
  {
   "cell_type": "code",
   "execution_count": 14,
   "metadata": {
    "pycharm": {
     "name": "#%%\n"
    }
   },
   "outputs": [
    {
     "name": "stdout",
     "output_type": "stream",
     "text": [
      "LFM\n"
     ]
    }
   ],
   "source": [
    "x1.resize(1,1,195,64)\n",
    "xa=torch.tensor(x1,dtype=torch.float)\n",
    "y_hat=net(xa)\n",
    "pred=y_hat.data.max(1,keepdim=True)[1]\n",
    "print(name[pred])"
   ]
  },
  {
   "cell_type": "code",
   "execution_count": 11,
   "metadata": {
    "pycharm": {
     "name": "#%%\n"
    }
   },
   "outputs": [
    {
     "name": "stderr",
     "output_type": "stream",
     "text": [
      "C:\\Users\\ZGYwi\\AppData\\Local\\Temp\\ipykernel_16364\\971741046.py:24: DeprecationWarning: an integer is required (got type numpy.float64).  Implicit conversion to integers using __int__ is deprecated, and may be removed in a future version of Python.\n",
      "  return toTensor(self.img[:, :, idx]).float(), torch.tensor(self.label[0, idx] - 1, dtype=torch.int)\n",
      "R:\\App\\miniconda\\envs\\torch-cuda\\lib\\site-packages\\torch\\nn\\modules\\container.py:141: UserWarning: Implicit dimension choice for softmax has been deprecated. Change the call to include dim=X as an argument.\n",
      "  input = module(input)\n"
     ]
    },
    {
     "name": "stdout",
     "output_type": "stream",
     "text": [
      "singlepulse:\t -10dB\t accuracy:58.53658536585366%\n",
      "singlepulse:\t -9dB\t accuracy:66.94915254237289%\n",
      "singlepulse:\t -8dB\t accuracy:69.62962962962963%\n",
      "singlepulse:\t -7dB\t accuracy:81.02189781021897%\n",
      "singlepulse:\t -6dB\t accuracy:86.71875%\n",
      "singlepulse:\t -5dB\t accuracy:90.8256880733945%\n",
      "singlepulse:\t -4dB\t accuracy:89.76377952755905%\n",
      "singlepulse:\t -3dB\t accuracy:97.0873786407767%\n",
      "singlepulse:\t -2dB\t accuracy:97.52066115702479%\n",
      "singlepulse:\t -1dB\t accuracy:98.2905982905983%\n",
      "singlepulse:\t 0dB\t accuracy:97.95918367346938%\n",
      "singlepulse:\t 1dB\t accuracy:97.01492537313433%\n",
      "singlepulse:\t 2dB\t accuracy:99.00990099009901%\n",
      "singlepulse:\t 3dB\t accuracy:99.18032786885246%\n",
      "singlepulse:\t 4dB\t accuracy:98.2905982905983%\n",
      "singlepulse:\t 5dB\t accuracy:100.0%\n",
      "singlepulse:\t 6dB\t accuracy:100.0%\n",
      "singlepulse:\t 7dB\t accuracy:100.0%\n",
      "singlepulse:\t 8dB\t accuracy:100.0%\n",
      "singlepulse:\t 9dB\t accuracy:100.0%\n",
      "singlepulse:\t 10dB\t accuracy:100.0%\n",
      "singlepulse:\t 11dB\t accuracy:100.0%\n",
      "singlepulse:\t 12dB\t accuracy:100.0%\n",
      "singlepulse:\t 13dB\t accuracy:100.0%\n",
      "singlepulse:\t 14dB\t accuracy:100.0%\n",
      "singlepulse:\t 15dB\t accuracy:100.0%\n",
      "singlepulse:\t 16dB\t accuracy:100.0%\n",
      "singlepulse:\t 17dB\t accuracy:100.0%\n",
      "singlepulse:\t 18dB\t accuracy:100.0%\n",
      "singlepulse:\t 19dB\t accuracy:100.0%\n",
      "singlepulse:\t 20dB\t accuracy:100.0%\n",
      "singlepulse:\t 21dB\t accuracy:100.0%\n",
      "singlepulse:\t 22dB\t accuracy:100.0%\n",
      "singlepulse:\t 23dB\t accuracy:100.0%\n",
      "singlepulse:\t 24dB\t accuracy:100.0%\n",
      "singlepulse:\t 25dB\t accuracy:100.0%\n",
      "singlepulse:\t 26dB\t accuracy:100.0%\n",
      "singlepulse:\t 27dB\t accuracy:100.0%\n",
      "singlepulse:\t 28dB\t accuracy:100.0%\n",
      "singlepulse:\t 29dB\t accuracy:100.0%\n",
      "singlepulse:\t 30dB\t accuracy:100.0%\n",
      "freqdiv:\t -10dB\t accuracy:94.44444444444444%\n",
      "freqdiv:\t -9dB\t accuracy:96.26865671641791%\n",
      "freqdiv:\t -8dB\t accuracy:98.11320754716981%\n",
      "freqdiv:\t -7dB\t accuracy:97.61904761904762%\n",
      "freqdiv:\t -6dB\t accuracy:97.6%\n",
      "freqdiv:\t -5dB\t accuracy:99.15254237288136%\n",
      "freqdiv:\t -4dB\t accuracy:98.4251968503937%\n",
      "freqdiv:\t -3dB\t accuracy:96.15384615384616%\n",
      "freqdiv:\t -2dB\t accuracy:98.47328244274809%\n",
      "freqdiv:\t -1dB\t accuracy:96.85039370078741%\n",
      "freqdiv:\t 0dB\t accuracy:98.46153846153847%\n",
      "freqdiv:\t 1dB\t accuracy:97.81021897810218%\n",
      "freqdiv:\t 2dB\t accuracy:99.31506849315069%\n",
      "freqdiv:\t 3dB\t accuracy:98.18181818181819%\n",
      "freqdiv:\t 4dB\t accuracy:99.10714285714286%\n",
      "freqdiv:\t 5dB\t accuracy:98.34710743801652%\n",
      "freqdiv:\t 6dB\t accuracy:99.2063492063492%\n",
      "freqdiv:\t 7dB\t accuracy:94.87179487179488%\n",
      "freqdiv:\t 8dB\t accuracy:95.28301886792453%\n",
      "freqdiv:\t 9dB\t accuracy:96.49122807017544%\n",
      "freqdiv:\t 10dB\t accuracy:97.6%\n",
      "freqdiv:\t 11dB\t accuracy:97.5%\n",
      "freqdiv:\t 12dB\t accuracy:100.0%\n",
      "freqdiv:\t 13dB\t accuracy:98.41269841269842%\n",
      "freqdiv:\t 14dB\t accuracy:98.38709677419355%\n",
      "freqdiv:\t 15dB\t accuracy:97.47899159663865%\n",
      "freqdiv:\t 16dB\t accuracy:100.0%\n",
      "freqdiv:\t 17dB\t accuracy:97.5609756097561%\n",
      "freqdiv:\t 18dB\t accuracy:97.41379310344827%\n",
      "freqdiv:\t 19dB\t accuracy:98.27586206896552%\n",
      "freqdiv:\t 20dB\t accuracy:99.24242424242425%\n",
      "freqdiv:\t 21dB\t accuracy:99.30555555555556%\n",
      "freqdiv:\t 22dB\t accuracy:98.26086956521739%\n",
      "freqdiv:\t 23dB\t accuracy:99.21875%\n",
      "freqdiv:\t 24dB\t accuracy:96.58119658119658%\n",
      "freqdiv:\t 25dB\t accuracy:96.49122807017544%\n",
      "freqdiv:\t 26dB\t accuracy:98.01980198019803%\n",
      "freqdiv:\t 27dB\t accuracy:99.1869918699187%\n",
      "freqdiv:\t 28dB\t accuracy:97.52066115702479%\n",
      "freqdiv:\t 29dB\t accuracy:96.8%\n",
      "freqdiv:\t 30dB\t accuracy:98.23008849557522%\n",
      "LFM:\t -10dB\t accuracy:96.82539682539682%\n",
      "LFM:\t -9dB\t accuracy:99.18032786885246%\n",
      "LFM:\t -8dB\t accuracy:99.17355371900827%\n",
      "LFM:\t -7dB\t accuracy:100.0%\n",
      "LFM:\t -6dB\t accuracy:100.0%\n",
      "LFM:\t -5dB\t accuracy:100.0%\n",
      "LFM:\t -4dB\t accuracy:100.0%\n",
      "LFM:\t -3dB\t accuracy:100.0%\n",
      "LFM:\t -2dB\t accuracy:100.0%\n",
      "LFM:\t -1dB\t accuracy:100.0%\n",
      "LFM:\t 0dB\t accuracy:100.0%\n",
      "LFM:\t 1dB\t accuracy:100.0%\n",
      "LFM:\t 2dB\t accuracy:100.0%\n",
      "LFM:\t 3dB\t accuracy:100.0%\n",
      "LFM:\t 4dB\t accuracy:100.0%\n",
      "LFM:\t 5dB\t accuracy:100.0%\n",
      "LFM:\t 6dB\t accuracy:100.0%\n",
      "LFM:\t 7dB\t accuracy:100.0%\n",
      "LFM:\t 8dB\t accuracy:100.0%\n",
      "LFM:\t 9dB\t accuracy:100.0%\n",
      "LFM:\t 10dB\t accuracy:100.0%\n",
      "LFM:\t 11dB\t accuracy:100.0%\n",
      "LFM:\t 12dB\t accuracy:100.0%\n",
      "LFM:\t 13dB\t accuracy:100.0%\n",
      "LFM:\t 14dB\t accuracy:100.0%\n",
      "LFM:\t 15dB\t accuracy:100.0%\n",
      "LFM:\t 16dB\t accuracy:99.16666666666667%\n",
      "LFM:\t 17dB\t accuracy:100.0%\n",
      "LFM:\t 18dB\t accuracy:100.0%\n",
      "LFM:\t 19dB\t accuracy:100.0%\n",
      "LFM:\t 20dB\t accuracy:100.0%\n",
      "LFM:\t 21dB\t accuracy:100.0%\n",
      "LFM:\t 22dB\t accuracy:100.0%\n",
      "LFM:\t 23dB\t accuracy:100.0%\n",
      "LFM:\t 24dB\t accuracy:100.0%\n",
      "LFM:\t 25dB\t accuracy:100.0%\n",
      "LFM:\t 26dB\t accuracy:100.0%\n",
      "LFM:\t 27dB\t accuracy:100.0%\n",
      "LFM:\t 28dB\t accuracy:100.0%\n",
      "LFM:\t 29dB\t accuracy:100.0%\n",
      "LFM:\t 30dB\t accuracy:100.0%\n",
      "QFM:\t -10dB\t accuracy:80.55555555555556%\n",
      "QFM:\t -9dB\t accuracy:81.41592920353982%\n",
      "QFM:\t -8dB\t accuracy:86.84210526315789%\n",
      "QFM:\t -7dB\t accuracy:95.08196721311475%\n",
      "QFM:\t -6dB\t accuracy:93.87755102040816%\n",
      "QFM:\t -5dB\t accuracy:92.37288135593221%\n",
      "QFM:\t -4dB\t accuracy:97.47899159663865%\n",
      "QFM:\t -3dB\t accuracy:96.0%\n",
      "QFM:\t -2dB\t accuracy:98.21428571428571%\n",
      "QFM:\t -1dB\t accuracy:94.4%\n",
      "QFM:\t 0dB\t accuracy:93.7984496124031%\n",
      "QFM:\t 1dB\t accuracy:93.27731092436974%\n",
      "QFM:\t 2dB\t accuracy:99.13793103448276%\n",
      "QFM:\t 3dB\t accuracy:95.0%\n",
      "QFM:\t 4dB\t accuracy:95.49549549549549%\n",
      "QFM:\t 5dB\t accuracy:97.03703703703704%\n",
      "QFM:\t 6dB\t accuracy:99.23076923076923%\n",
      "QFM:\t 7dB\t accuracy:95.2%\n",
      "QFM:\t 8dB\t accuracy:98.26086956521739%\n",
      "QFM:\t 9dB\t accuracy:98.0952380952381%\n",
      "QFM:\t 10dB\t accuracy:97.47899159663865%\n",
      "QFM:\t 11dB\t accuracy:96.26168224299066%\n",
      "QFM:\t 12dB\t accuracy:94.4%\n",
      "QFM:\t 13dB\t accuracy:95.2755905511811%\n",
      "QFM:\t 14dB\t accuracy:97.74436090225564%\n",
      "QFM:\t 15dB\t accuracy:95.76271186440678%\n",
      "QFM:\t 16dB\t accuracy:95.45454545454545%\n",
      "QFM:\t 17dB\t accuracy:90.990990990991%\n",
      "QFM:\t 18dB\t accuracy:96.55172413793103%\n",
      "QFM:\t 19dB\t accuracy:96.61016949152543%\n",
      "QFM:\t 20dB\t accuracy:96.7741935483871%\n",
      "QFM:\t 21dB\t accuracy:98.4%\n",
      "QFM:\t 22dB\t accuracy:97.70992366412214%\n",
      "QFM:\t 23dB\t accuracy:98.41269841269842%\n",
      "QFM:\t 24dB\t accuracy:93.93939393939394%\n",
      "QFM:\t 25dB\t accuracy:95.2%\n",
      "QFM:\t 26dB\t accuracy:97.36842105263158%\n",
      "QFM:\t 27dB\t accuracy:99.13793103448276%\n",
      "QFM:\t 28dB\t accuracy:94.95798319327731%\n",
      "QFM:\t 29dB\t accuracy:95.23809523809524%\n",
      "QFM:\t 30dB\t accuracy:94.48818897637796%\n",
      "2FSK:\t -10dB\t accuracy:66.66666666666667%\n",
      "2FSK:\t -9dB\t accuracy:75.18796992481202%\n",
      "2FSK:\t -8dB\t accuracy:83.20610687022901%\n",
      "2FSK:\t -7dB\t accuracy:78.86178861788618%\n",
      "2FSK:\t -6dB\t accuracy:81.45161290322581%\n",
      "2FSK:\t -5dB\t accuracy:84.87394957983193%\n",
      "2FSK:\t -4dB\t accuracy:82.26950354609929%\n",
      "2FSK:\t -3dB\t accuracy:83.60655737704919%\n",
      "2FSK:\t -2dB\t accuracy:80.55555555555556%\n",
      "2FSK:\t -1dB\t accuracy:83.33333333333333%\n",
      "2FSK:\t 0dB\t accuracy:79.6875%\n",
      "2FSK:\t 1dB\t accuracy:85.36585365853658%\n",
      "2FSK:\t 2dB\t accuracy:83.9622641509434%\n",
      "2FSK:\t 3dB\t accuracy:85.12396694214875%\n",
      "2FSK:\t 4dB\t accuracy:76.08695652173913%\n",
      "2FSK:\t 5dB\t accuracy:80.15873015873017%\n",
      "2FSK:\t 6dB\t accuracy:82.6086956521739%\n",
      "2FSK:\t 7dB\t accuracy:80.67226890756302%\n",
      "2FSK:\t 8dB\t accuracy:86.06557377049181%\n",
      "2FSK:\t 9dB\t accuracy:82.3529411764706%\n",
      "2FSK:\t 10dB\t accuracy:80.8%\n",
      "2FSK:\t 11dB\t accuracy:77.5%\n",
      "2FSK:\t 12dB\t accuracy:85.47008547008546%\n",
      "2FSK:\t 13dB\t accuracy:83.33333333333333%\n",
      "2FSK:\t 14dB\t accuracy:86.48648648648648%\n",
      "2FSK:\t 15dB\t accuracy:83.59375%\n",
      "2FSK:\t 16dB\t accuracy:78.86178861788618%\n",
      "2FSK:\t 17dB\t accuracy:81.81818181818181%\n",
      "2FSK:\t 18dB\t accuracy:74.35897435897436%\n",
      "2FSK:\t 19dB\t accuracy:82.30088495575221%\n",
      "2FSK:\t 20dB\t accuracy:90.69767441860465%\n",
      "2FSK:\t 21dB\t accuracy:81.13207547169812%\n",
      "2FSK:\t 22dB\t accuracy:78.98550724637681%\n",
      "2FSK:\t 23dB\t accuracy:82.17821782178218%\n",
      "2FSK:\t 24dB\t accuracy:81.13207547169812%\n",
      "2FSK:\t 25dB\t accuracy:81.8840579710145%\n",
      "2FSK:\t 26dB\t accuracy:83.33333333333333%\n",
      "2FSK:\t 27dB\t accuracy:83.33333333333333%\n",
      "2FSK:\t 28dB\t accuracy:79.2%\n",
      "2FSK:\t 29dB\t accuracy:79.64601769911505%\n",
      "2FSK:\t 30dB\t accuracy:86.27450980392157%\n",
      "4FSK:\t -10dB\t accuracy:82.97872340425532%\n",
      "4FSK:\t -9dB\t accuracy:82.11382113821138%\n",
      "4FSK:\t -8dB\t accuracy:75.0%\n",
      "4FSK:\t -7dB\t accuracy:79.41176470588235%\n",
      "4FSK:\t -6dB\t accuracy:76.78571428571429%\n",
      "4FSK:\t -5dB\t accuracy:85.21739130434783%\n",
      "4FSK:\t -4dB\t accuracy:81.19658119658119%\n",
      "4FSK:\t -3dB\t accuracy:83.58208955223881%\n",
      "4FSK:\t -2dB\t accuracy:80.61224489795919%\n",
      "4FSK:\t -1dB\t accuracy:85.15625%\n",
      "4FSK:\t 0dB\t accuracy:80.15873015873017%\n",
      "4FSK:\t 1dB\t accuracy:80.67226890756302%\n",
      "4FSK:\t 2dB\t accuracy:89.23076923076923%\n",
      "4FSK:\t 3dB\t accuracy:77.87610619469027%\n",
      "4FSK:\t 4dB\t accuracy:84.55284552845528%\n",
      "4FSK:\t 5dB\t accuracy:82.17054263565892%\n",
      "4FSK:\t 6dB\t accuracy:85.71428571428571%\n",
      "4FSK:\t 7dB\t accuracy:86.17886178861788%\n",
      "4FSK:\t 8dB\t accuracy:87.2%\n",
      "4FSK:\t 9dB\t accuracy:89.70588235294117%\n",
      "4FSK:\t 10dB\t accuracy:84.92063492063492%\n",
      "4FSK:\t 11dB\t accuracy:91.40625%\n",
      "4FSK:\t 12dB\t accuracy:86.02941176470588%\n",
      "4FSK:\t 13dB\t accuracy:84.0909090909091%\n",
      "4FSK:\t 14dB\t accuracy:88.18181818181819%\n",
      "4FSK:\t 15dB\t accuracy:89.14728682170542%\n",
      "4FSK:\t 16dB\t accuracy:85.15625%\n",
      "4FSK:\t 17dB\t accuracy:89.74358974358974%\n",
      "4FSK:\t 18dB\t accuracy:84.95575221238938%\n",
      "4FSK:\t 19dB\t accuracy:89.38053097345133%\n",
      "4FSK:\t 20dB\t accuracy:85.34482758620689%\n",
      "4FSK:\t 21dB\t accuracy:79.6875%\n",
      "4FSK:\t 22dB\t accuracy:81.94444444444444%\n",
      "4FSK:\t 23dB\t accuracy:87.70491803278688%\n",
      "4FSK:\t 24dB\t accuracy:86.76470588235294%\n",
      "4FSK:\t 25dB\t accuracy:87.1559633027523%\n",
      "4FSK:\t 26dB\t accuracy:89.39393939393939%\n",
      "4FSK:\t 27dB\t accuracy:84.82142857142857%\n",
      "4FSK:\t 28dB\t accuracy:80.70175438596492%\n",
      "4FSK:\t 29dB\t accuracy:86.66666666666667%\n",
      "4FSK:\t 30dB\t accuracy:84.16666666666667%\n",
      "BPSK:\t -10dB\t accuracy:36.8421052631579%\n",
      "BPSK:\t -9dB\t accuracy:36.111111111111114%\n",
      "BPSK:\t -8dB\t accuracy:31.61764705882353%\n",
      "BPSK:\t -7dB\t accuracy:38.83495145631068%\n",
      "BPSK:\t -6dB\t accuracy:47.61904761904762%\n",
      "BPSK:\t -5dB\t accuracy:46.610169491525426%\n",
      "BPSK:\t -4dB\t accuracy:56.36363636363637%\n",
      "BPSK:\t -3dB\t accuracy:56.03448275862069%\n",
      "BPSK:\t -2dB\t accuracy:55.303030303030305%\n",
      "BPSK:\t -1dB\t accuracy:57.758620689655174%\n",
      "BPSK:\t 0dB\t accuracy:61.29032258064516%\n",
      "BPSK:\t 1dB\t accuracy:61.48148148148148%\n",
      "BPSK:\t 2dB\t accuracy:75.0%\n",
      "BPSK:\t 3dB\t accuracy:64.61538461538461%\n",
      "BPSK:\t 4dB\t accuracy:80.0%\n",
      "BPSK:\t 5dB\t accuracy:81.6%\n",
      "BPSK:\t 6dB\t accuracy:75.20661157024793%\n",
      "BPSK:\t 7dB\t accuracy:74.76635514018692%\n",
      "BPSK:\t 8dB\t accuracy:76.06837606837607%\n",
      "BPSK:\t 9dB\t accuracy:75.40983606557377%\n",
      "BPSK:\t 10dB\t accuracy:81.10236220472441%\n",
      "BPSK:\t 11dB\t accuracy:81.55339805825243%\n",
      "BPSK:\t 12dB\t accuracy:76.29629629629629%\n",
      "BPSK:\t 13dB\t accuracy:82.65306122448979%\n",
      "BPSK:\t 14dB\t accuracy:87.32394366197182%\n",
      "BPSK:\t 15dB\t accuracy:80.62015503875969%\n",
      "BPSK:\t 16dB\t accuracy:83.62068965517241%\n",
      "BPSK:\t 17dB\t accuracy:90.98360655737704%\n",
      "BPSK:\t 18dB\t accuracy:77.23577235772358%\n",
      "BPSK:\t 19dB\t accuracy:85.24590163934427%\n",
      "BPSK:\t 20dB\t accuracy:79.6875%\n",
      "BPSK:\t 21dB\t accuracy:84.84848484848484%\n",
      "BPSK:\t 22dB\t accuracy:85.18518518518519%\n",
      "BPSK:\t 23dB\t accuracy:82.75862068965517%\n",
      "BPSK:\t 24dB\t accuracy:79.83870967741936%\n",
      "BPSK:\t 25dB\t accuracy:86.06557377049181%\n",
      "BPSK:\t 26dB\t accuracy:77.6923076923077%\n",
      "BPSK:\t 27dB\t accuracy:86.02941176470588%\n",
      "BPSK:\t 28dB\t accuracy:74.80314960629921%\n",
      "BPSK:\t 29dB\t accuracy:80.91603053435115%\n",
      "BPSK:\t 30dB\t accuracy:80.74074074074075%\n",
      "QPSK:\t -10dB\t accuracy:23.47826086956522%\n",
      "QPSK:\t -9dB\t accuracy:29.6%\n",
      "QPSK:\t -8dB\t accuracy:33.85826771653543%\n",
      "QPSK:\t -7dB\t accuracy:38.01652892561984%\n",
      "QPSK:\t -6dB\t accuracy:39.682539682539684%\n",
      "QPSK:\t -5dB\t accuracy:44.26229508196721%\n",
      "QPSK:\t -4dB\t accuracy:53.02013422818792%\n",
      "QPSK:\t -3dB\t accuracy:41.28440366972477%\n",
      "QPSK:\t -2dB\t accuracy:40.35087719298246%\n",
      "QPSK:\t -1dB\t accuracy:44.642857142857146%\n",
      "QPSK:\t 0dB\t accuracy:40.16393442622951%\n",
      "QPSK:\t 1dB\t accuracy:40.14598540145985%\n",
      "QPSK:\t 2dB\t accuracy:42.73504273504273%\n",
      "QPSK:\t 3dB\t accuracy:33.333333333333336%\n",
      "QPSK:\t 4dB\t accuracy:25.37313432835821%\n",
      "QPSK:\t 5dB\t accuracy:25.641025641025642%\n",
      "QPSK:\t 6dB\t accuracy:35.08771929824562%\n",
      "QPSK:\t 7dB\t accuracy:34.81481481481482%\n",
      "QPSK:\t 8dB\t accuracy:23.529411764705884%\n",
      "QPSK:\t 9dB\t accuracy:35.66433566433567%\n",
      "QPSK:\t 10dB\t accuracy:34.0%\n",
      "QPSK:\t 11dB\t accuracy:25.0%\n",
      "QPSK:\t 12dB\t accuracy:27.40740740740741%\n",
      "QPSK:\t 13dB\t accuracy:30.303030303030305%\n",
      "QPSK:\t 14dB\t accuracy:25.78125%\n",
      "QPSK:\t 15dB\t accuracy:33.07692307692308%\n",
      "QPSK:\t 16dB\t accuracy:30.508474576271187%\n",
      "QPSK:\t 17dB\t accuracy:24.793388429752067%\n",
      "QPSK:\t 18dB\t accuracy:28.45528455284553%\n",
      "QPSK:\t 19dB\t accuracy:29.32330827067669%\n",
      "QPSK:\t 20dB\t accuracy:24.786324786324787%\n",
      "QPSK:\t 21dB\t accuracy:27.82608695652174%\n",
      "QPSK:\t 22dB\t accuracy:28.695652173913043%\n",
      "QPSK:\t 23dB\t accuracy:27.2%\n",
      "QPSK:\t 24dB\t accuracy:27.131782945736433%\n",
      "QPSK:\t 25dB\t accuracy:31.52173913043478%\n",
      "QPSK:\t 26dB\t accuracy:25.423728813559322%\n",
      "QPSK:\t 27dB\t accuracy:25.735294117647058%\n",
      "QPSK:\t 28dB\t accuracy:27.131782945736433%\n",
      "QPSK:\t 29dB\t accuracy:25.0%\n",
      "QPSK:\t 30dB\t accuracy:40.816326530612244%\n"
     ]
    }
   ],
   "source": [
    "result = np.ndarray((8, 41))\n",
    "for n in range(1, 1 + len(name)):\n",
    "    for snr in range(-10, 31):\n",
    "        img, labels = next(iter(getLoader(n, snr)))\n",
    "        length = len(labels)\n",
    "        output = net(img)\n",
    "        pred = output.data.max(1, keepdim=True)[1].reshape(length)\n",
    "        pred = pred.numpy()\n",
    "        labels = labels.reshape(length).numpy()\n",
    "        err_idx = np.argwhere(pred != labels)\n",
    "        accuacy=(length - len(err_idx)) * 100 / length\n",
    "        print(\"{}:\\t {}dB\\t accuracy:{}%\".format(name[n - 1], snr, (length - len(err_idx)) * 100 / length))\n",
    "        result[n-1,snr+10]=accuacy\n",
    "        #SNR_array.append(snr.tolist()[0])\n",
    "        #accuracy_array.append(80 - 80 * len(err_idx) / 80)"
   ]
  },
  {
   "cell_type": "code",
   "execution_count": 65,
   "metadata": {
    "pycharm": {
     "name": "#%%\n"
    }
   },
   "outputs": [
    {
     "data": {
      "text/plain": [
       "array([[ 51.92307692,  63.02521008,  60.15625   ,  75.47169811,\n",
       "         81.14754098,  84.09090909,  86.33093525,  90.35087719,\n",
       "         92.68292683,  96.49122807,  99.21875   , 100.        ,\n",
       "        100.        , 100.        , 100.        , 100.        ,\n",
       "        100.        , 100.        , 100.        , 100.        ,\n",
       "        100.        , 100.        , 100.        , 100.        ,\n",
       "        100.        , 100.        , 100.        , 100.        ,\n",
       "        100.        , 100.        , 100.        , 100.        ,\n",
       "        100.        , 100.        , 100.        , 100.        ,\n",
       "        100.        , 100.        , 100.        , 100.        ,\n",
       "        100.        ],\n",
       "       [ 92.66055046,  95.76271186,  94.85294118,  94.7826087 ,\n",
       "         97.87234043,  99.25373134,  96.26168224,  99.20634921,\n",
       "        100.        ,  96.15384615,  99.19354839,  95.79831933,\n",
       "         98.31932773,  98.36065574,  97.87234043,  99.04761905,\n",
       "         99.21259843,  96.875     ,  99.11504425,  98.50746269,\n",
       "         95.68965517,  98.4       ,  98.31932773,  96.        ,\n",
       "        100.        ,  99.09090909,  98.16513761,  99.2248062 ,\n",
       "         97.4137931 ,  98.4496124 ,  99.16666667,  97.14285714,\n",
       "         99.13793103, 100.        ,  97.52066116,  98.42519685,\n",
       "         98.36065574,  99.25373134,  96.09375   ,  98.24561404,\n",
       "         98.16513761],\n",
       "       [ 98.52941176, 100.        , 100.        , 100.        ,\n",
       "        100.        , 100.        , 100.        , 100.        ,\n",
       "        100.        , 100.        , 100.        ,  99.13043478,\n",
       "        100.        , 100.        , 100.        , 100.        ,\n",
       "        100.        , 100.        , 100.        , 100.        ,\n",
       "        100.        , 100.        , 100.        , 100.        ,\n",
       "        100.        , 100.        , 100.        , 100.        ,\n",
       "        100.        , 100.        , 100.        , 100.        ,\n",
       "        100.        , 100.        , 100.        , 100.        ,\n",
       "        100.        , 100.        , 100.        , 100.        ,\n",
       "        100.        ],\n",
       "       [ 92.24137931,  89.43089431,  87.87878788,  90.625     ,\n",
       "         90.4       ,  94.16058394,  98.16513761,  95.        ,\n",
       "         94.26229508,  97.4137931 ,  98.24561404,  96.69421488,\n",
       "         95.38461538,  99.11504425,  96.69421488,  97.9020979 ,\n",
       "         98.46153846,  99.08256881,  97.79411765, 100.        ,\n",
       "        100.        ,  99.20634921,  97.4789916 , 100.        ,\n",
       "         98.4       ,  98.42519685,  99.18699187,  94.81481481,\n",
       "         97.69230769,  99.23664122,  96.74796748,  99.12280702,\n",
       "         99.06542056,  98.48484848,  98.46153846,  98.42519685,\n",
       "         98.4375    ,  99.10714286,  99.26470588,  99.2       ,\n",
       "         97.52066116],\n",
       "       [ 66.92307692,  73.87387387,  80.16528926,  83.57142857,\n",
       "         82.35294118,  78.5046729 ,  79.54545455,  83.76068376,\n",
       "         87.21804511,  81.30081301,  84.61538462,  88.28125   ,\n",
       "         84.        ,  89.83050847,  86.82170543,  85.59322034,\n",
       "         85.0877193 ,  79.23076923,  79.36507937,  85.8490566 ,\n",
       "         79.31034483,  82.40740741,  81.14754098,  84.21052632,\n",
       "         83.92857143,  81.81818182,  87.02290076,  82.11382114,\n",
       "         83.47107438,  81.48148148,  89.13043478,  79.85074627,\n",
       "         81.1023622 ,  88.13559322,  79.33884298,  83.58208955,\n",
       "         82.20338983,  80.8       ,  88.0733945 ,  78.6259542 ,\n",
       "         78.63247863],\n",
       "       [ 80.15267176,  73.13432836,  73.52941176,  77.87610619,\n",
       "         70.24793388,  77.34375   ,  77.11864407,  86.13861386,\n",
       "         81.48148148,  84.40366972,  84.21052632,  77.06422018,\n",
       "         84.73282443,  88.        ,  80.35714286,  87.3015873 ,\n",
       "         84.07079646,  84.89208633,  83.87096774,  90.82568807,\n",
       "         88.57142857,  82.67716535,  83.07692308,  82.72727273,\n",
       "         89.70588235,  85.71428571,  83.89830508,  81.6       ,\n",
       "         86.4       ,  89.16666667,  89.23076923,  84.82142857,\n",
       "         88.98305085,  78.10218978,  90.43478261,  84.95575221,\n",
       "         87.82608696,  88.88888889,  90.5982906 ,  80.57553957,\n",
       "         85.18518519],\n",
       "       [ 31.14754098,  36.        ,  30.32786885,  18.18181818,\n",
       "         29.36507937,  29.03225806,  34.18803419,  46.22641509,\n",
       "         40.39735099,  54.13533835,  55.55555556,  50.4       ,\n",
       "         56.8627451 ,  57.37704918,  58.87096774,  54.16666667,\n",
       "         60.90909091,  70.79646018,  62.68656716,  77.77777778,\n",
       "         66.66666667,  72.72727273,  71.92982456,  72.22222222,\n",
       "         73.27586207,  80.17241379,  75.75757576,  81.6       ,\n",
       "         79.6460177 ,  86.72566372,  83.82352941,  84.12698413,\n",
       "         84.16666667,  86.8852459 ,  84.32835821,  80.88235294,\n",
       "         81.88976378,  86.08695652,  84.42622951,  80.32786885,\n",
       "         89.83050847],\n",
       "       [ 31.70731707,  37.90322581,  48.33333333,  60.        ,\n",
       "         70.76923077,  77.37226277,  75.2293578 ,  72.59259259,\n",
       "         72.88135593,  74.80916031,  85.9375    ,  83.20610687,\n",
       "         83.33333333,  84.16666667,  84.48275862,  87.27272727,\n",
       "         89.71962617,  87.4015748 ,  90.        ,  92.56198347,\n",
       "         87.71929825,  91.52542373,  90.20979021,  88.97637795,\n",
       "         88.61788618,  87.4015748 ,  88.13559322,  87.5       ,\n",
       "         85.        ,  93.12977099,  85.71428571,  89.51612903,\n",
       "         87.40740741,  92.37288136,  87.37864078,  89.25619835,\n",
       "         88.23529412,  80.16528926,  86.4       ,  81.95488722,\n",
       "         83.17757009]])"
      ]
     },
     "execution_count": 65,
     "metadata": {},
     "output_type": "execute_result"
    }
   ],
   "source": [
    "result"
   ]
  },
  {
   "cell_type": "code",
   "execution_count": 57,
   "metadata": {
    "pycharm": {
     "name": "#%%\n"
    }
   },
   "outputs": [
    {
     "data": {
      "text/plain": [
       "[<matplotlib.lines.Line2D at 0x1b1582f01c0>,\n",
       " <matplotlib.lines.Line2D at 0x1b1582f0160>,\n",
       " <matplotlib.lines.Line2D at 0x1b1582f0280>,\n",
       " <matplotlib.lines.Line2D at 0x1b1582f03a0>,\n",
       " <matplotlib.lines.Line2D at 0x1b1582f04c0>,\n",
       " <matplotlib.lines.Line2D at 0x1b1582f05e0>,\n",
       " <matplotlib.lines.Line2D at 0x1b1582f0700>,\n",
       " <matplotlib.lines.Line2D at 0x1b1582f0820>,\n",
       " <matplotlib.lines.Line2D at 0x1b1582d4eb0>,\n",
       " <matplotlib.lines.Line2D at 0x1b1582d4ee0>,\n",
       " <matplotlib.lines.Line2D at 0x1b1582f0a60>,\n",
       " <matplotlib.lines.Line2D at 0x1b1582f01f0>,\n",
       " <matplotlib.lines.Line2D at 0x1b1582f0c70>,\n",
       " <matplotlib.lines.Line2D at 0x1b1582f0d90>,\n",
       " <matplotlib.lines.Line2D at 0x1b1582f0eb0>,\n",
       " <matplotlib.lines.Line2D at 0x1b1582f0fd0>,\n",
       " <matplotlib.lines.Line2D at 0x1b1582f4130>,\n",
       " <matplotlib.lines.Line2D at 0x1b1582f4250>,\n",
       " <matplotlib.lines.Line2D at 0x1b1582f4370>,\n",
       " <matplotlib.lines.Line2D at 0x1b1582f4490>,\n",
       " <matplotlib.lines.Line2D at 0x1b1582f45b0>,\n",
       " <matplotlib.lines.Line2D at 0x1b1582f46d0>,\n",
       " <matplotlib.lines.Line2D at 0x1b1582f47f0>,\n",
       " <matplotlib.lines.Line2D at 0x1b1582f4910>,\n",
       " <matplotlib.lines.Line2D at 0x1b1582f4a30>,\n",
       " <matplotlib.lines.Line2D at 0x1b1582f4b50>,\n",
       " <matplotlib.lines.Line2D at 0x1b1582f4c70>,\n",
       " <matplotlib.lines.Line2D at 0x1b1582f4d90>,\n",
       " <matplotlib.lines.Line2D at 0x1b1582f4eb0>,\n",
       " <matplotlib.lines.Line2D at 0x1b1582f4fd0>,\n",
       " <matplotlib.lines.Line2D at 0x1b1582f7130>,\n",
       " <matplotlib.lines.Line2D at 0x1b1582f7250>,\n",
       " <matplotlib.lines.Line2D at 0x1b1582f7370>,\n",
       " <matplotlib.lines.Line2D at 0x1b1582f7490>,\n",
       " <matplotlib.lines.Line2D at 0x1b1582f75b0>,\n",
       " <matplotlib.lines.Line2D at 0x1b1582f76d0>,\n",
       " <matplotlib.lines.Line2D at 0x1b1582f77f0>,\n",
       " <matplotlib.lines.Line2D at 0x1b1582f7910>,\n",
       " <matplotlib.lines.Line2D at 0x1b1582f7a30>,\n",
       " <matplotlib.lines.Line2D at 0x1b1582f7b50>,\n",
       " <matplotlib.lines.Line2D at 0x1b1582f7c70>]"
      ]
     },
     "execution_count": 57,
     "metadata": {},
     "output_type": "execute_result"
    },
    {
     "data": {
      "image/png": "[encoded data removed]",
      "text/plain": [
       "<Figure size 432x288 with 1 Axes>"
      ]
     },
     "metadata": {
      "needs_background": "light"
     },
     "output_type": "display_data"
    }
   ],
   "source": [
    "plt.plot(result)"
   ]
  },
  {
   "cell_type": "code",
   "execution_count": 17,
   "metadata": {
    "pycharm": {
     "name": "#%%\n"
    }
   },
   "outputs": [
    {
     "ename": "NameError",
     "evalue": "name 'test_loader' is not defined",
     "output_type": "error",
     "traceback": [
      "\u001B[1;31m---------------------------------------------------------------------------\u001B[0m",
      "\u001B[1;31mNameError\u001B[0m                                 Traceback (most recent call last)",
      "Input \u001B[1;32mIn [17]\u001B[0m, in \u001B[0;36m<module>\u001B[1;34m\u001B[0m\n\u001B[0;32m      1\u001B[0m \u001B[38;5;28;01mimport\u001B[39;00m \u001B[38;5;21;01mmatplotlib\u001B[39;00m\u001B[38;5;21;01m.\u001B[39;00m\u001B[38;5;21;01mpyplot\u001B[39;00m \u001B[38;5;28;01mas\u001B[39;00m \u001B[38;5;21;01mplt\u001B[39;00m\n\u001B[0;32m      3\u001B[0m accuacy \u001B[38;5;241m=\u001B[39m []\n\u001B[1;32m----> 4\u001B[0m \u001B[38;5;28;01mfor\u001B[39;00m img, labels \u001B[38;5;129;01min\u001B[39;00m \u001B[43mtest_loader\u001B[49m:\n\u001B[0;32m      5\u001B[0m     \u001B[38;5;66;03m#plt.imshow(img[i, 0, :, :].t(), cmap=\"gray\")\u001B[39;00m\n\u001B[0;32m      6\u001B[0m     \u001B[38;5;66;03m#plt.title('predict:{} real:{}'.format(name[pred[i]], name[labels[i]]))\u001B[39;00m\n\u001B[0;32m      7\u001B[0m     \u001B[38;5;66;03m#plt.show()\u001B[39;00m\n\u001B[0;32m      8\u001B[0m     \u001B[38;5;28mprint\u001B[39m(\u001B[38;5;124m'\u001B[39m\u001B[38;5;124mpredict:\u001B[39m\u001B[38;5;132;01m{}\u001B[39;00m\u001B[38;5;124m real:\u001B[39m\u001B[38;5;132;01m{}\u001B[39;00m\u001B[38;5;124m'\u001B[39m\u001B[38;5;241m.\u001B[39mformat(pred, labels))\n\u001B[0;32m      9\u001B[0m     err_idx \u001B[38;5;241m=\u001B[39m np\u001B[38;5;241m.\u001B[39margwhere(pred \u001B[38;5;241m!=\u001B[39m labels)\n",
      "\u001B[1;31mNameError\u001B[0m: name 'test_loader' is not defined"
     ]
    }
   ],
   "source": [
    "import matplotlib.pyplot as plt\n",
    "\n",
    "accuacy = []\n",
    "for img, labels in test_loader:\n",
    "    #plt.imshow(img[i, 0, :, :].t(), cmap=\"gray\")\n",
    "    #plt.title('predict:{} real:{}'.format(name[pred[i]], name[labels[i]]))\n",
    "    #plt.show()\n",
    "    print('predict:{} real:{}'.format(pred, labels))\n",
    "    err_idx = np.argwhere(pred != labels)\n",
    "    accuacy.append(100 - len(err_idx))\n",
    "plt.plot(accuacy)"
   ]
  },
  {
   "cell_type": "markdown",
   "metadata": {
    "pycharm": {
     "name": "#%% md\n"
    }
   },
   "source": [
    "## 单SNR测试"
   ]
  },
  {
   "cell_type": "code",
   "execution_count": 7,
   "metadata": {
    "pycharm": {
     "name": "#%%\n"
    }
   },
   "outputs": [
    {
     "data": {
      "text/plain": [
       "<KeysViewHDF5 ['SNRData', 'SNRType']>"
      ]
     },
     "execution_count": 7,
     "metadata": {},
     "output_type": "execute_result"
    }
   ],
   "source": [
    "path = r\"E:\\test1.h5\"\n",
    "file = h5py.File(path, \"r\")\n",
    "file.keys()"
   ]
  },
  {
   "cell_type": "code",
   "execution_count": 35,
   "metadata": {
    "pycharm": {
     "name": "#%%\n"
    }
   },
   "outputs": [
    {
     "data": {
      "text/plain": [
       "<HDF5 dataset \"SNRType\": shape (5, 3280), type \"<f8\">"
      ]
     },
     "execution_count": 35,
     "metadata": {},
     "output_type": "execute_result"
    }
   ],
   "source": [
    "file['SNRType']"
   ]
  },
  {
   "cell_type": "code",
   "execution_count": 8,
   "metadata": {
    "pycharm": {
     "name": "#%%\n"
    }
   },
   "outputs": [],
   "source": [
    "file.close()"
   ]
  },
  {
   "cell_type": "code",
   "execution_count": 5,
   "metadata": {
    "pycharm": {
     "name": "#%%\n"
    }
   },
   "outputs": [],
   "source": [
    "class SNRDataSets(Dataset):\n",
    "    def __init__(self, file):\n",
    "        self.h5 = h5py.File(file, \"r\")\n",
    "        self.label_id = self.h5['SNRType']\n",
    "        _, self.length = self.label_id.shape\n",
    "        self.img = self.h5['SNRData']\n",
    "        self.toTensor = ToTensor()\n",
    "\n",
    "    def __getitem__(self, idx):\n",
    "        return (self.toTensor(self.img[:, :, idx]).float(),\n",
    "                torch.tensor(int(self.label_id[0, idx] - 1), dtype=torch.long),\n",
    "                torch.tensor(self.label_id[1, idx]))\n",
    "\n",
    "    def __len__(self):\n",
    "        return self.length\n",
    "\n",
    "    def __exit__(self, exc_type, exc_val, exc_tb):\n",
    "        self.h5.close()"
   ]
  },
  {
   "cell_type": "code",
   "execution_count": 9,
   "metadata": {
    "pycharm": {
     "name": "#%%\n"
    }
   },
   "outputs": [],
   "source": [
    "snr_dataset = SNRDataSets(path)\n",
    "snr_loader = torch.utils.data.DataLoader(\n",
    "    dataset=snr_dataset, batch_size=80,\n",
    "    shuffle=False, num_workers=0, drop_last=False)"
   ]
  },
  {
   "cell_type": "code",
   "execution_count": 45,
   "metadata": {
    "pycharm": {
     "name": "#%%\n"
    }
   },
   "outputs": [],
   "source": [
    "img, label, snr = next(iter(snr_loader))"
   ]
  },
  {
   "cell_type": "code",
   "execution_count": 46,
   "metadata": {
    "pycharm": {
     "name": "#%%\n"
    }
   },
   "outputs": [
    {
     "data": {
      "text/plain": [
       "torch.Size([80, 1, 196, 64])"
      ]
     },
     "execution_count": 46,
     "metadata": {},
     "output_type": "execute_result"
    }
   ],
   "source": [
    "img.shape"
   ]
  },
  {
   "cell_type": "code",
   "execution_count": 47,
   "metadata": {
    "pycharm": {
     "name": "#%%\n"
    }
   },
   "outputs": [
    {
     "data": {
      "text/plain": [
       "torch.Size([80])"
      ]
     },
     "execution_count": 47,
     "metadata": {},
     "output_type": "execute_result"
    }
   ],
   "source": [
    "label.shape"
   ]
  },
  {
   "cell_type": "code",
   "execution_count": 10,
   "metadata": {
    "pycharm": {
     "name": "#%%\n"
    }
   },
   "outputs": [
    {
     "name": "stderr",
     "output_type": "stream",
     "text": [
      "E:\\App\\Miniconda3\\envs\\torch-cuda\\lib\\site-packages\\torch\\nn\\modules\\container.py:141: UserWarning: Implicit dimension choice for softmax has been deprecated. Change the call to include dim=X as an argument.\n",
      "  input = module(input)\n"
     ]
    }
   ],
   "source": [
    "SNR_array = []\n",
    "accuracy_array = []\n",
    "for img, labels, snr in snr_loader:\n",
    "    length = len(labels)\n",
    "    output = net(img)\n",
    "    pred = output.data.max(1, keepdim=True)[1].reshape(length)\n",
    "    pred = pred.numpy()\n",
    "    labels = labels.reshape(length).numpy()\n",
    "    err_idx = np.argwhere(pred != labels)\n",
    "    # print(\"SNR:{} accuracy:{}%\".format(snr[0],80-80*len(err_idx)/80))\n",
    "    SNR_array.append(snr.tolist()[0])\n",
    "    accuracy_array.append((length - len(err_idx)) / length * 100)"
   ]
  },
  {
   "cell_type": "code",
   "execution_count": 12,
   "metadata": {
    "pycharm": {
     "name": "#%%\n"
    }
   },
   "outputs": [
    {
     "data": {
      "text/plain": [
       "Text(0, 0.5, 'accuracy')"
      ]
     },
     "execution_count": 12,
     "metadata": {},
     "output_type": "execute_result"
    },
    {
     "data": {
      "image/png": "[encoded data removed]",
      "text/plain": [
       "<Figure size 432x288 with 1 Axes>"
      ]
     },
     "metadata": {
      "needs_background": "light"
     },
     "output_type": "display_data"
    }
   ],
   "source": [
    "plt.plot(SNR_array, accuracy_array)\n",
    "plt.rcParams['font.sans-serif'] = ['SimHei']  #用来正常显示中文标签\n",
    "plt.rcParams['axes.unicode_minus'] = False  #用来正常显示负号\n",
    "\n",
    "plt.title(\"正确率与SNR的关系\")\n",
    "plt.xlabel(\"SNR\")\n",
    "plt.ylabel(\"accuracy\")"
   ]
  },
  {
   "cell_type": "code",
   "execution_count": null,
   "metadata": {
    "pycharm": {
     "name": "#%%\n"
    }
   },
   "outputs": [],
   "source": []
  }
 ],
 "metadata": {
  "kernelspec": {
   "display_name": "Python 3 (ipykernel)",
   "language": "python",
   "name": "python3"
  },
  "language_info": {
   "codemirror_mode": {
    "name": "ipython",
    "version": 3
   },
   "file_extension": ".py",
   "mimetype": "text/x-python",
   "name": "python",
   "nbconvert_exporter": "python",
   "pygments_lexer": "ipython3",
   "version": "3.9.11"
  }
 },
 "nbformat": 4,
 "nbformat_minor": 1
}