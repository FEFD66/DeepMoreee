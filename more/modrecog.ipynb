{
 "cells": [
  {
   "cell_type": "code",
   "execution_count": 8,
   "metadata": {
    "collapsed": true
   },
   "outputs": [],
   "source": [
    "from torch.utils.data import Dataset\n",
    "import torch\n",
    "import torch.nn as nn\n",
    "from more.datasets import ModulationDataSets\n",
    "from more.network import MoreNet,init_weights\n",
    "from more.train import train_center\n",
    "from utils.centerloss import CenterLoss\n",
    "import datetime\n",
    "import time\n",
    "import os\n",
    "os.environ[\"KMP_DUPLICATE_LIB_OK\"]=\"TRUE\""
   ]
  },
  {
   "cell_type": "code",
   "execution_count": 9,
   "metadata": {
    "collapsed": false,
    "pycharm": {
     "name": "#%%\n"
    }
   },
   "outputs": [],
   "source": [
    "train_path = r'E:\\train.h5'\n",
    "test_path = r'E:\\test.h5'\n",
    "train_dataset = ModulationDataSets(train_path)\n",
    "test_dataset = ModulationDataSets(test_path)\n",
    "label_name = train_dataset.get_labels_name();"
   ]
  },
  {
   "cell_type": "code",
   "execution_count": 10,
   "metadata": {
    "collapsed": false,
    "pycharm": {
     "name": "#%%\n"
    }
   },
   "outputs": [],
   "source": [
    "batch_size = 128\n",
    "train_loader = torch.utils.data.DataLoader(\n",
    "    dataset=train_dataset, batch_size=batch_size, shuffle=True,\n",
    "    num_workers=0, drop_last=False)\n",
    "test_loader = torch.utils.data.DataLoader(\n",
    "    dataset=test_dataset, batch_size=batch_size, shuffle=True,\n",
    "    num_workers=0, drop_last=False)"
   ]
  },
  {
   "cell_type": "code",
   "execution_count": 4,
   "outputs": [
    {
     "name": "stderr",
     "output_type": "stream",
     "text": [
      "E:\\workspace\\DeepMore\\more\\network.py:52: UserWarning: Implicit dimension choice for softmax has been deprecated. Change the call to include dim=X as an argument.\n",
      "  return x.detach(), F.softmax(y)\n"
     ]
    },
    {
     "data": {
      "text/plain": "(tensor([[-0.0052,  0.0071]]),\n tensor([[0.1780, 0.0874, 0.1620, 0.1584, 0.0464, 0.1172, 0.1646, 0.0861]],\n        grad_fn=<SoftmaxBackward0>))"
     },
     "execution_count": 4,
     "metadata": {},
     "output_type": "execute_result"
    }
   ],
   "source": [
    "net = MoreNet()\n",
    "X = torch.rand(size=(1, 1, 196, 64), dtype=torch.float32)\n",
    "net(X,True)"
   ],
   "metadata": {
    "collapsed": false,
    "pycharm": {
     "name": "#%%\n"
    }
   }
  },
  {
   "cell_type": "code",
   "execution_count": 5,
   "metadata": {},
   "outputs": [
    {
     "data": {
      "text/plain": "<All keys matched successfully>"
     },
     "execution_count": 5,
     "metadata": {},
     "output_type": "execute_result"
    }
   ],
   "source": [
    "net.load_state_dict(torch.load('basic-8.parm'))"
   ]
  },
  {
   "cell_type": "code",
   "execution_count": 6,
   "metadata": {
    "collapsed": false,
    "pycharm": {
     "name": "#%%\n"
    }
   },
   "outputs": [],
   "source": [
    "torch.save(net.state_dict(),\"basic-8.parm\")"
   ]
  },
  {
   "cell_type": "code",
   "execution_count": 11,
   "metadata": {
    "collapsed": false,
    "pycharm": {
     "name": "#%%\n"
    }
   },
   "outputs": [],
   "source": [
    "init_weights(net)"
   ]
  },
  {
   "cell_type": "code",
   "execution_count": 12,
   "metadata": {
    "collapsed": false,
    "pycharm": {
     "name": "#%%\n"
    }
   },
   "outputs": [],
   "source": [
    "loss= nn.CrossEntropyLoss()\n",
    "center_loss=CenterLoss(num_classes=train_dataset.get_numclasses(),feat_dim=2,use_gpu=True)\n",
    "lr=0.01\n",
    "lr_center=0.5\n",
    "opt_model=torch.optim.SGD(net.parameters(),lr,weight_decay=5e-04, momentum=0.9)\n",
    "opt_center=torch.optim.SGD(center_loss.parameters(),lr_center)\n",
    "net=net.to(\"cuda:0\")"
   ]
  },
  {
   "cell_type": "code",
   "execution_count": null,
   "metadata": {
    "collapsed": false,
    "pycharm": {
     "name": "#%%\n",
     "is_executing": true
    }
   },
   "outputs": [
    {
     "name": "stdout",
     "output_type": "stream",
     "text": [
      "==> Epoch 1/50\n",
      "Batch 50/313\t Loss 2.085363 (2.245551) XentLoss 2.084807 (2.080135) CenterLoss 0.000556 (0.165417)\n",
      "Batch 100/313\t Loss 2.080625 (2.163029) XentLoss 2.079983 (2.079917) CenterLoss 0.000642 (0.083112)\n",
      "Batch 150/313\t Loss 2.086701 (2.136124) XentLoss 2.085485 (2.080026) CenterLoss 0.001216 (0.056099)\n",
      "Batch 200/313\t Loss 2.084760 (2.122507) XentLoss 2.081285 (2.079875) CenterLoss 0.003476 (0.042632)\n",
      "Batch 250/313\t Loss 2.090072 (2.115164) XentLoss 2.080829 (2.079774) CenterLoss 0.009243 (0.035389)\n",
      "Batch 300/313\t Loss 2.539413 (2.125277) XentLoss 2.071235 (2.079369) CenterLoss 0.468179 (0.045908)\n",
      "==> Epoch 2/50\n",
      "Batch 50/313\t Loss 3.949973 (3.079495) XentLoss 2.006993 (2.059629) CenterLoss 1.942980 (1.019866)\n",
      "Batch 100/313\t Loss 9.316999 (4.912844) XentLoss 2.000646 (2.041368) CenterLoss 7.316353 (2.871476)\n",
      "Batch 150/313\t Loss 54.967037 (12.200146) XentLoss 1.919086 (2.017095) CenterLoss 53.047951 (10.183050)\n"
     ]
    }
   ],
   "source": [
    "start_time = time.time()\n",
    "\n",
    "for epoch in range(50):\n",
    "    print(\"==> Epoch {}/{}\".format(epoch+1,50))\n",
    "\n",
    "    train_center(net, loss, center_loss, opt_model, opt_center, train_loader, True, train_dataset.get_numclasses(), epoch)\n",
    "    # if  (epoch+1) % 10 == 0 or (epoch+1) == 50:\n",
    "    #     print(\"==> Test\")\n",
    "    #     acc, err = test(model, testloader, use_gpu, dataset.num_classes, epoch)\n",
    "    #     print(\"Accuracy (%): {}\\t Error rate (%): {}\".format(acc, err))\n",
    "\n",
    "elapsed = round(time.time() - start_time)\n",
    "elapsed = str(datetime.timedelta(seconds=elapsed))\n",
    "print(\"Finished. Total elapsed time (h:m:s): {}\".format(elapsed))"
   ]
  },
  {
   "cell_type": "code",
   "execution_count": 10,
   "metadata": {
    "pycharm": {
     "name": "#%%\n"
    }
   },
   "outputs": [],
   "source": [
    "torch.save(net.state_dict(),\"basic-8.parm\")"
   ]
  }
 ],
 "metadata": {
  "kernelspec": {
   "display_name": "Python 3",
   "language": "python",
   "name": "python3"
  },
  "language_info": {
   "codemirror_mode": {
    "name": "ipython",
    "version": 3
   },
   "file_extension": ".py",
   "mimetype": "text/x-python",
   "name": "python",
   "nbconvert_exporter": "python",
   "pygments_lexer": "ipython3",
   "version": "3.9.7"
  }
 },
 "nbformat": 4,
 "nbformat_minor": 0
}